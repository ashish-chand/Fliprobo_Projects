{
 "cells": [
  {
   "cell_type": "markdown",
   "metadata": {},
   "source": [
    "##  Flight Price Prediction\n",
    "\n",
    "\n",
    "FEATURES:\n",
    "\n",
    "- Airline: The name of the airline.\n",
    "\n",
    "\n",
    "- Date_of_Journey: The date of the journey\n",
    "\n",
    "\n",
    "- Source: The source from which the service begins.\n",
    "\n",
    "\n",
    "- Destination: The destination where the service ends.\n",
    "\n",
    "\n",
    "- Dep_Time_hr: The hour when the journey starts from the source.\n",
    "\n",
    "\n",
    "- Dep_Time_min: The minutes when the journey starts from the source.\n",
    "\n",
    "\n",
    "- Arr_Time_hr: Hour of arrival at the destination.\n",
    "\n",
    "\n",
    "- Arr_Time_min: The minutes when the flight arrival at the destination.\n",
    "\n",
    "\n",
    "- Duration: Total duration of the flight.\n",
    "\n",
    "\n",
    "- Total_Stops: Total stops between the source and destination.\n",
    "\n",
    "\n",
    "- Price: The price of the ticket"
   ]
  },
  {
   "cell_type": "markdown",
   "metadata": {},
   "source": [
    "### Importing the libraries"
   ]
  },
  {
   "cell_type": "code",
   "execution_count": 1,
   "metadata": {},
   "outputs": [],
   "source": [
    "import pandas as pd\n",
    "import numpy as np\n",
    "import matplotlib.pyplot as plt\n",
    "%matplotlib inline\n",
    "import seaborn as sns\n",
    "from sklearn.preprocessing import StandardScaler\n",
    "\n",
    "from sklearn.linear_model import LinearRegression\n",
    "from sklearn.metrics import mean_squared_error,mean_absolute_error\n",
    "from sklearn.model_selection import train_test_split\n",
    "from sklearn.linear_model import Lasso,Ridge\n",
    "from sklearn.svm import SVR\n",
    "from sklearn.neighbors import KNeighborsRegressor\n",
    "from sklearn.ensemble import RandomForestRegressor\n",
    "from sklearn.model_selection import cross_val_score,GridSearchCV\n",
    "from sklearn.metrics import r2_score\n",
    "\n",
    "import joblib\n",
    "import warnings\n",
    "warnings.filterwarnings(\"ignore\")"
   ]
  },
  {
   "cell_type": "code",
   "execution_count": 2,
   "metadata": {},
   "outputs": [],
   "source": [
    "#Loading the dataset\n",
    "df= pd.read_excel('Flight_data1.xlsx')\n",
    "pd.set_option('display.max_rows', None)"
   ]
  },
  {
   "cell_type": "markdown",
   "metadata": {},
   "source": [
    "Checking the first 5 rows "
   ]
  },
  {
   "cell_type": "code",
   "execution_count": 3,
   "metadata": {},
   "outputs": [
    {
     "data": {
      "text/html": [
       "<div>\n",
       "<style scoped>\n",
       "    .dataframe tbody tr th:only-of-type {\n",
       "        vertical-align: middle;\n",
       "    }\n",
       "\n",
       "    .dataframe tbody tr th {\n",
       "        vertical-align: top;\n",
       "    }\n",
       "\n",
       "    .dataframe thead th {\n",
       "        text-align: right;\n",
       "    }\n",
       "</style>\n",
       "<table border=\"1\" class=\"dataframe\">\n",
       "  <thead>\n",
       "    <tr style=\"text-align: right;\">\n",
       "      <th></th>\n",
       "      <th>Unnamed: 0</th>\n",
       "      <th>Airline</th>\n",
       "      <th>Date_of_Journey</th>\n",
       "      <th>Source</th>\n",
       "      <th>Destination</th>\n",
       "      <th>Dep_Time_hour</th>\n",
       "      <th>Dep_Time_min</th>\n",
       "      <th>Arr_Time_hour</th>\n",
       "      <th>Arr_Time_min</th>\n",
       "      <th>Duration</th>\n",
       "      <th>Total_Stops</th>\n",
       "      <th>Price</th>\n",
       "    </tr>\n",
       "  </thead>\n",
       "  <tbody>\n",
       "    <tr>\n",
       "      <th>0</th>\n",
       "      <td>0</td>\n",
       "      <td>GO FIRST</td>\n",
       "      <td>2021-10-24</td>\n",
       "      <td>Delhi</td>\n",
       "      <td>Bangalore</td>\n",
       "      <td>19</td>\n",
       "      <td>45</td>\n",
       "      <td>22</td>\n",
       "      <td>22</td>\n",
       "      <td>02h 35m</td>\n",
       "      <td>non-stop</td>\n",
       "      <td>7424</td>\n",
       "    </tr>\n",
       "    <tr>\n",
       "      <th>1</th>\n",
       "      <td>1</td>\n",
       "      <td>SpiceJet</td>\n",
       "      <td>2021-10-24</td>\n",
       "      <td>Delhi</td>\n",
       "      <td>Bangalore</td>\n",
       "      <td>20</td>\n",
       "      <td>5</td>\n",
       "      <td>23</td>\n",
       "      <td>23</td>\n",
       "      <td>03h 05m</td>\n",
       "      <td>non-stop</td>\n",
       "      <td>7425</td>\n",
       "    </tr>\n",
       "    <tr>\n",
       "      <th>2</th>\n",
       "      <td>2</td>\n",
       "      <td>AirAsia</td>\n",
       "      <td>2021-10-24</td>\n",
       "      <td>Delhi</td>\n",
       "      <td>Bangalore</td>\n",
       "      <td>18</td>\n",
       "      <td>40</td>\n",
       "      <td>21</td>\n",
       "      <td>21</td>\n",
       "      <td>02h 50m</td>\n",
       "      <td>non-stop</td>\n",
       "      <td>7426</td>\n",
       "    </tr>\n",
       "    <tr>\n",
       "      <th>3</th>\n",
       "      <td>3</td>\n",
       "      <td>Vistara</td>\n",
       "      <td>2021-10-24</td>\n",
       "      <td>Delhi</td>\n",
       "      <td>Bangalore</td>\n",
       "      <td>20</td>\n",
       "      <td>40</td>\n",
       "      <td>23</td>\n",
       "      <td>23</td>\n",
       "      <td>02h 40m</td>\n",
       "      <td>non-stop</td>\n",
       "      <td>7425</td>\n",
       "    </tr>\n",
       "    <tr>\n",
       "      <th>4</th>\n",
       "      <td>4</td>\n",
       "      <td>Vistara</td>\n",
       "      <td>2021-10-24</td>\n",
       "      <td>Delhi</td>\n",
       "      <td>Bangalore</td>\n",
       "      <td>19</td>\n",
       "      <td>50</td>\n",
       "      <td>22</td>\n",
       "      <td>22</td>\n",
       "      <td>02h 50m</td>\n",
       "      <td>non-stop</td>\n",
       "      <td>7425</td>\n",
       "    </tr>\n",
       "  </tbody>\n",
       "</table>\n",
       "</div>"
      ],
      "text/plain": [
       "   Unnamed: 0   Airline Date_of_Journey Source Destination  Dep_Time_hour  \\\n",
       "0           0  GO FIRST      2021-10-24  Delhi   Bangalore             19   \n",
       "1           1  SpiceJet      2021-10-24  Delhi   Bangalore             20   \n",
       "2           2   AirAsia      2021-10-24  Delhi   Bangalore             18   \n",
       "3           3   Vistara      2021-10-24  Delhi   Bangalore             20   \n",
       "4           4   Vistara      2021-10-24  Delhi   Bangalore             19   \n",
       "\n",
       "   Dep_Time_min  Arr_Time_hour  Arr_Time_min Duration Total_Stops  Price  \n",
       "0            45             22            22  02h 35m    non-stop   7424  \n",
       "1             5             23            23  03h 05m    non-stop   7425  \n",
       "2            40             21            21  02h 50m    non-stop   7426  \n",
       "3            40             23            23  02h 40m    non-stop   7425  \n",
       "4            50             22            22  02h 50m    non-stop   7425  "
      ]
     },
     "execution_count": 3,
     "metadata": {},
     "output_type": "execute_result"
    }
   ],
   "source": [
    "df.head(5)"
   ]
  },
  {
   "cell_type": "markdown",
   "metadata": {},
   "source": [
    "Checking the last 5 rows"
   ]
  },
  {
   "cell_type": "code",
   "execution_count": 4,
   "metadata": {},
   "outputs": [
    {
     "data": {
      "text/html": [
       "<div>\n",
       "<style scoped>\n",
       "    .dataframe tbody tr th:only-of-type {\n",
       "        vertical-align: middle;\n",
       "    }\n",
       "\n",
       "    .dataframe tbody tr th {\n",
       "        vertical-align: top;\n",
       "    }\n",
       "\n",
       "    .dataframe thead th {\n",
       "        text-align: right;\n",
       "    }\n",
       "</style>\n",
       "<table border=\"1\" class=\"dataframe\">\n",
       "  <thead>\n",
       "    <tr style=\"text-align: right;\">\n",
       "      <th></th>\n",
       "      <th>Unnamed: 0</th>\n",
       "      <th>Airline</th>\n",
       "      <th>Date_of_Journey</th>\n",
       "      <th>Source</th>\n",
       "      <th>Destination</th>\n",
       "      <th>Dep_Time_hour</th>\n",
       "      <th>Dep_Time_min</th>\n",
       "      <th>Arr_Time_hour</th>\n",
       "      <th>Arr_Time_min</th>\n",
       "      <th>Duration</th>\n",
       "      <th>Total_Stops</th>\n",
       "      <th>Price</th>\n",
       "    </tr>\n",
       "  </thead>\n",
       "  <tbody>\n",
       "    <tr>\n",
       "      <th>8664</th>\n",
       "      <td>8664</td>\n",
       "      <td>Vistara</td>\n",
       "      <td>2021-11-03</td>\n",
       "      <td>Chennai</td>\n",
       "      <td>Cochin</td>\n",
       "      <td>9</td>\n",
       "      <td>45</td>\n",
       "      <td>9</td>\n",
       "      <td>9</td>\n",
       "      <td>23h 20m</td>\n",
       "      <td>2+-stop</td>\n",
       "      <td>20561</td>\n",
       "    </tr>\n",
       "    <tr>\n",
       "      <th>8665</th>\n",
       "      <td>8665</td>\n",
       "      <td>Vistara</td>\n",
       "      <td>2021-11-03</td>\n",
       "      <td>Chennai</td>\n",
       "      <td>Cochin</td>\n",
       "      <td>9</td>\n",
       "      <td>45</td>\n",
       "      <td>9</td>\n",
       "      <td>9</td>\n",
       "      <td>23h 20m</td>\n",
       "      <td>2+-stop</td>\n",
       "      <td>20561</td>\n",
       "    </tr>\n",
       "    <tr>\n",
       "      <th>8666</th>\n",
       "      <td>8666</td>\n",
       "      <td>Vistara</td>\n",
       "      <td>2021-11-03</td>\n",
       "      <td>Chennai</td>\n",
       "      <td>Cochin</td>\n",
       "      <td>9</td>\n",
       "      <td>45</td>\n",
       "      <td>9</td>\n",
       "      <td>9</td>\n",
       "      <td>23h 20m</td>\n",
       "      <td>2+-stop</td>\n",
       "      <td>20561</td>\n",
       "    </tr>\n",
       "    <tr>\n",
       "      <th>8667</th>\n",
       "      <td>8667</td>\n",
       "      <td>Vistara</td>\n",
       "      <td>2021-11-03</td>\n",
       "      <td>Chennai</td>\n",
       "      <td>Cochin</td>\n",
       "      <td>7</td>\n",
       "      <td>0</td>\n",
       "      <td>19</td>\n",
       "      <td>19</td>\n",
       "      <td>12h 10m</td>\n",
       "      <td>2+-stop</td>\n",
       "      <td>21632</td>\n",
       "    </tr>\n",
       "    <tr>\n",
       "      <th>8668</th>\n",
       "      <td>8668</td>\n",
       "      <td>Air India</td>\n",
       "      <td>2021-11-03</td>\n",
       "      <td>Chennai</td>\n",
       "      <td>Cochin</td>\n",
       "      <td>17</td>\n",
       "      <td>0</td>\n",
       "      <td>17</td>\n",
       "      <td>17</td>\n",
       "      <td>24h 20m</td>\n",
       "      <td>1-stop</td>\n",
       "      <td>26673</td>\n",
       "    </tr>\n",
       "  </tbody>\n",
       "</table>\n",
       "</div>"
      ],
      "text/plain": [
       "      Unnamed: 0    Airline Date_of_Journey   Source Destination  \\\n",
       "8664        8664    Vistara      2021-11-03  Chennai      Cochin   \n",
       "8665        8665    Vistara      2021-11-03  Chennai      Cochin   \n",
       "8666        8666    Vistara      2021-11-03  Chennai      Cochin   \n",
       "8667        8667    Vistara      2021-11-03  Chennai      Cochin   \n",
       "8668        8668  Air India      2021-11-03  Chennai      Cochin   \n",
       "\n",
       "      Dep_Time_hour  Dep_Time_min  Arr_Time_hour  Arr_Time_min Duration  \\\n",
       "8664              9            45              9             9  23h 20m   \n",
       "8665              9            45              9             9  23h 20m   \n",
       "8666              9            45              9             9  23h 20m   \n",
       "8667              7             0             19            19  12h 10m   \n",
       "8668             17             0             17            17  24h 20m   \n",
       "\n",
       "     Total_Stops  Price  \n",
       "8664     2+-stop  20561  \n",
       "8665     2+-stop  20561  \n",
       "8666     2+-stop  20561  \n",
       "8667     2+-stop  21632  \n",
       "8668      1-stop  26673  "
      ]
     },
     "execution_count": 4,
     "metadata": {},
     "output_type": "execute_result"
    }
   ],
   "source": [
    "df.tail(5)"
   ]
  },
  {
   "cell_type": "markdown",
   "metadata": {},
   "source": [
    "####  Shape of the dataset:"
   ]
  },
  {
   "cell_type": "code",
   "execution_count": 5,
   "metadata": {},
   "outputs": [
    {
     "name": "stdout",
     "output_type": "stream",
     "text": [
      "The dataset shape is :  (8669, 12)\n"
     ]
    }
   ],
   "source": [
    "print(\"The dataset shape is : \",df.shape)"
   ]
  },
  {
   "cell_type": "markdown",
   "metadata": {},
   "source": [
    "We have 8869 rows and 12 columns in the dataset."
   ]
  },
  {
   "cell_type": "code",
   "execution_count": 6,
   "metadata": {},
   "outputs": [
    {
     "name": "stdout",
     "output_type": "stream",
     "text": [
      "<class 'pandas.core.frame.DataFrame'>\n",
      "RangeIndex: 8669 entries, 0 to 8668\n",
      "Data columns (total 12 columns):\n",
      " #   Column           Non-Null Count  Dtype         \n",
      "---  ------           --------------  -----         \n",
      " 0   Unnamed: 0       8669 non-null   int64         \n",
      " 1   Airline          8669 non-null   object        \n",
      " 2   Date_of_Journey  8669 non-null   datetime64[ns]\n",
      " 3   Source           8669 non-null   object        \n",
      " 4   Destination      8669 non-null   object        \n",
      " 5   Dep_Time_hour    8669 non-null   int64         \n",
      " 6   Dep_Time_min     8669 non-null   int64         \n",
      " 7   Arr_Time_hour    8669 non-null   int64         \n",
      " 8   Arr_Time_min     8669 non-null   int64         \n",
      " 9   Duration         8669 non-null   object        \n",
      " 10  Total_Stops      8669 non-null   object        \n",
      " 11  Price            8669 non-null   int64         \n",
      "dtypes: datetime64[ns](1), int64(6), object(5)\n",
      "memory usage: 812.8+ KB\n"
     ]
    }
   ],
   "source": [
    "# Data information\n",
    "df.info()"
   ]
  },
  {
   "cell_type": "markdown",
   "metadata": {},
   "source": [
    "In our  dataset we have  6 object , 1 datetime  and 5 integer datatype columns ."
   ]
  },
  {
   "cell_type": "markdown",
   "metadata": {},
   "source": [
    "#### Checking  Null Values :"
   ]
  },
  {
   "cell_type": "code",
   "execution_count": 7,
   "metadata": {},
   "outputs": [
    {
     "data": {
      "text/plain": [
       "Unnamed: 0         0\n",
       "Airline            0\n",
       "Date_of_Journey    0\n",
       "Source             0\n",
       "Destination        0\n",
       "Dep_Time_hour      0\n",
       "Dep_Time_min       0\n",
       "Arr_Time_hour      0\n",
       "Arr_Time_min       0\n",
       "Duration           0\n",
       "Total_Stops        0\n",
       "Price              0\n",
       "dtype: int64"
      ]
     },
     "execution_count": 7,
     "metadata": {},
     "output_type": "execute_result"
    }
   ],
   "source": [
    "#Training data null values check\n",
    "df.isnull().sum()"
   ]
  },
  {
   "cell_type": "markdown",
   "metadata": {},
   "source": [
    "In our set no null values present"
   ]
  },
  {
   "cell_type": "code",
   "execution_count": 8,
   "metadata": {},
   "outputs": [
    {
     "data": {
      "text/plain": [
       "<AxesSubplot:>"
      ]
     },
     "execution_count": 8,
     "metadata": {},
     "output_type": "execute_result"
    },
    {
     "data": {
      "image/png": "[encoded data removed]",
      "text/plain": [
       "<Figure size 432x288 with 2 Axes>"
      ]
     },
     "metadata": {
      "needs_background": "light"
     },
     "output_type": "display_data"
    }
   ],
   "source": [
    "#Lets represent graphically\n",
    "sns.heatmap(df.isnull())"
   ]
  },
  {
   "cell_type": "markdown",
   "metadata": {},
   "source": [
    "Here we can see that no null values are present in the dataset."
   ]
  },
  {
   "cell_type": "code",
   "execution_count": 9,
   "metadata": {},
   "outputs": [],
   "source": [
    "#Selecting the date and month from the Journey date\n",
    "df['journey_day']=df['Date_of_Journey'].dt.day\n",
    "df['journey_month']=df['Date_of_Journey'].dt.month"
   ]
  },
  {
   "cell_type": "code",
   "execution_count": 12,
   "metadata": {},
   "outputs": [
    {
     "data": {
      "text/html": [
       "<div>\n",
       "<style scoped>\n",
       "    .dataframe tbody tr th:only-of-type {\n",
       "        vertical-align: middle;\n",
       "    }\n",
       "\n",
       "    .dataframe tbody tr th {\n",
       "        vertical-align: top;\n",
       "    }\n",
       "\n",
       "    .dataframe thead th {\n",
       "        text-align: right;\n",
       "    }\n",
       "</style>\n",
       "<table border=\"1\" class=\"dataframe\">\n",
       "  <thead>\n",
       "    <tr style=\"text-align: right;\">\n",
       "      <th></th>\n",
       "      <th>Unnamed: 0</th>\n",
       "      <th>Airline</th>\n",
       "      <th>Date_of_Journey</th>\n",
       "      <th>Source</th>\n",
       "      <th>Destination</th>\n",
       "      <th>Dep_Time_hour</th>\n",
       "      <th>Dep_Time_min</th>\n",
       "      <th>Arr_Time_hour</th>\n",
       "      <th>Arr_Time_min</th>\n",
       "      <th>Duration</th>\n",
       "      <th>Total_Stops</th>\n",
       "      <th>Price</th>\n",
       "      <th>journey_day</th>\n",
       "      <th>journey_month</th>\n",
       "    </tr>\n",
       "  </thead>\n",
       "  <tbody>\n",
       "    <tr>\n",
       "      <th>0</th>\n",
       "      <td>0</td>\n",
       "      <td>GO FIRST</td>\n",
       "      <td>2021-10-24</td>\n",
       "      <td>Delhi</td>\n",
       "      <td>Bangalore</td>\n",
       "      <td>19</td>\n",
       "      <td>45</td>\n",
       "      <td>22</td>\n",
       "      <td>22</td>\n",
       "      <td>02h 35m</td>\n",
       "      <td>non-stop</td>\n",
       "      <td>7424</td>\n",
       "      <td>24</td>\n",
       "      <td>10</td>\n",
       "    </tr>\n",
       "    <tr>\n",
       "      <th>1</th>\n",
       "      <td>1</td>\n",
       "      <td>SpiceJet</td>\n",
       "      <td>2021-10-24</td>\n",
       "      <td>Delhi</td>\n",
       "      <td>Bangalore</td>\n",
       "      <td>20</td>\n",
       "      <td>5</td>\n",
       "      <td>23</td>\n",
       "      <td>23</td>\n",
       "      <td>03h 05m</td>\n",
       "      <td>non-stop</td>\n",
       "      <td>7425</td>\n",
       "      <td>24</td>\n",
       "      <td>10</td>\n",
       "    </tr>\n",
       "    <tr>\n",
       "      <th>2</th>\n",
       "      <td>2</td>\n",
       "      <td>AirAsia</td>\n",
       "      <td>2021-10-24</td>\n",
       "      <td>Delhi</td>\n",
       "      <td>Bangalore</td>\n",
       "      <td>18</td>\n",
       "      <td>40</td>\n",
       "      <td>21</td>\n",
       "      <td>21</td>\n",
       "      <td>02h 50m</td>\n",
       "      <td>non-stop</td>\n",
       "      <td>7426</td>\n",
       "      <td>24</td>\n",
       "      <td>10</td>\n",
       "    </tr>\n",
       "    <tr>\n",
       "      <th>3</th>\n",
       "      <td>3</td>\n",
       "      <td>Vistara</td>\n",
       "      <td>2021-10-24</td>\n",
       "      <td>Delhi</td>\n",
       "      <td>Bangalore</td>\n",
       "      <td>20</td>\n",
       "      <td>40</td>\n",
       "      <td>23</td>\n",
       "      <td>23</td>\n",
       "      <td>02h 40m</td>\n",
       "      <td>non-stop</td>\n",
       "      <td>7425</td>\n",
       "      <td>24</td>\n",
       "      <td>10</td>\n",
       "    </tr>\n",
       "    <tr>\n",
       "      <th>4</th>\n",
       "      <td>4</td>\n",
       "      <td>Vistara</td>\n",
       "      <td>2021-10-24</td>\n",
       "      <td>Delhi</td>\n",
       "      <td>Bangalore</td>\n",
       "      <td>19</td>\n",
       "      <td>50</td>\n",
       "      <td>22</td>\n",
       "      <td>22</td>\n",
       "      <td>02h 50m</td>\n",
       "      <td>non-stop</td>\n",
       "      <td>7425</td>\n",
       "      <td>24</td>\n",
       "      <td>10</td>\n",
       "    </tr>\n",
       "  </tbody>\n",
       "</table>\n",
       "</div>"
      ],
      "text/plain": [
       "   Unnamed: 0   Airline Date_of_Journey Source Destination  Dep_Time_hour  \\\n",
       "0           0  GO FIRST      2021-10-24  Delhi   Bangalore             19   \n",
       "1           1  SpiceJet      2021-10-24  Delhi   Bangalore             20   \n",
       "2           2   AirAsia      2021-10-24  Delhi   Bangalore             18   \n",
       "3           3   Vistara      2021-10-24  Delhi   Bangalore             20   \n",
       "4           4   Vistara      2021-10-24  Delhi   Bangalore             19   \n",
       "\n",
       "   Dep_Time_min  Arr_Time_hour  Arr_Time_min Duration Total_Stops  Price  \\\n",
       "0            45             22            22  02h 35m    non-stop   7424   \n",
       "1             5             23            23  03h 05m    non-stop   7425   \n",
       "2            40             21            21  02h 50m    non-stop   7426   \n",
       "3            40             23            23  02h 40m    non-stop   7425   \n",
       "4            50             22            22  02h 50m    non-stop   7425   \n",
       "\n",
       "   journey_day  journey_month  \n",
       "0           24             10  \n",
       "1           24             10  \n",
       "2           24             10  \n",
       "3           24             10  \n",
       "4           24             10  "
      ]
     },
     "execution_count": 12,
     "metadata": {},
     "output_type": "execute_result"
    }
   ],
   "source": [
    "df.head()"
   ]
  },
  {
   "cell_type": "markdown",
   "metadata": {},
   "source": [
    "Now dropping the 'Date_of_Journey' column a now there is no use of it."
   ]
  },
  {
   "cell_type": "code",
   "execution_count": 13,
   "metadata": {},
   "outputs": [],
   "source": [
    "df.drop('Date_of_Journey',axis=1,inplace=True)"
   ]
  },
  {
   "cell_type": "code",
   "execution_count": 14,
   "metadata": {},
   "outputs": [],
   "source": [
    "df['Price']=df['Price'].astype(float)"
   ]
  },
  {
   "cell_type": "code",
   "execution_count": 15,
   "metadata": {},
   "outputs": [],
   "source": [
    "#In Total_Stops column \"non-stop\" can be replaced by \"0 stop\"\n",
    "df['Total_Stops']=df['Total_Stops'].replace('non-stop','0-stop')"
   ]
  },
  {
   "cell_type": "code",
   "execution_count": 16,
   "metadata": {},
   "outputs": [],
   "source": [
    "#In Total_Stops column \"2+-stop\" can be replaced by \"2 stop\"\n",
    "df['Total_Stops']=df['Total_Stops'].replace('2+-stop','2-stop')"
   ]
  },
  {
   "cell_type": "code",
   "execution_count": 17,
   "metadata": {},
   "outputs": [],
   "source": [
    "#Lets store the values of Total_stops columns into stop column and store only numeric part\n",
    "df['Stop'] = df['Total_Stops'].str.split('-').str[0]\n",
    "df['Stop']=df['Stop'].astype(int)\n",
    "df=df.drop(['Total_Stops'],axis=1)"
   ]
  },
  {
   "cell_type": "code",
   "execution_count": 18,
   "metadata": {},
   "outputs": [
    {
     "data": {
      "text/html": [
       "<div>\n",
       "<style scoped>\n",
       "    .dataframe tbody tr th:only-of-type {\n",
       "        vertical-align: middle;\n",
       "    }\n",
       "\n",
       "    .dataframe tbody tr th {\n",
       "        vertical-align: top;\n",
       "    }\n",
       "\n",
       "    .dataframe thead th {\n",
       "        text-align: right;\n",
       "    }\n",
       "</style>\n",
       "<table border=\"1\" class=\"dataframe\">\n",
       "  <thead>\n",
       "    <tr style=\"text-align: right;\">\n",
       "      <th></th>\n",
       "      <th>Unnamed: 0</th>\n",
       "      <th>Airline</th>\n",
       "      <th>Source</th>\n",
       "      <th>Destination</th>\n",
       "      <th>Dep_Time_hour</th>\n",
       "      <th>Dep_Time_min</th>\n",
       "      <th>Arr_Time_hour</th>\n",
       "      <th>Arr_Time_min</th>\n",
       "      <th>Duration</th>\n",
       "      <th>Price</th>\n",
       "      <th>journey_day</th>\n",
       "      <th>journey_month</th>\n",
       "      <th>Stop</th>\n",
       "    </tr>\n",
       "  </thead>\n",
       "  <tbody>\n",
       "    <tr>\n",
       "      <th>0</th>\n",
       "      <td>0</td>\n",
       "      <td>GO FIRST</td>\n",
       "      <td>Delhi</td>\n",
       "      <td>Bangalore</td>\n",
       "      <td>19</td>\n",
       "      <td>45</td>\n",
       "      <td>22</td>\n",
       "      <td>22</td>\n",
       "      <td>02h 35m</td>\n",
       "      <td>7424.0</td>\n",
       "      <td>24</td>\n",
       "      <td>10</td>\n",
       "      <td>0</td>\n",
       "    </tr>\n",
       "    <tr>\n",
       "      <th>1</th>\n",
       "      <td>1</td>\n",
       "      <td>SpiceJet</td>\n",
       "      <td>Delhi</td>\n",
       "      <td>Bangalore</td>\n",
       "      <td>20</td>\n",
       "      <td>5</td>\n",
       "      <td>23</td>\n",
       "      <td>23</td>\n",
       "      <td>03h 05m</td>\n",
       "      <td>7425.0</td>\n",
       "      <td>24</td>\n",
       "      <td>10</td>\n",
       "      <td>0</td>\n",
       "    </tr>\n",
       "    <tr>\n",
       "      <th>2</th>\n",
       "      <td>2</td>\n",
       "      <td>AirAsia</td>\n",
       "      <td>Delhi</td>\n",
       "      <td>Bangalore</td>\n",
       "      <td>18</td>\n",
       "      <td>40</td>\n",
       "      <td>21</td>\n",
       "      <td>21</td>\n",
       "      <td>02h 50m</td>\n",
       "      <td>7426.0</td>\n",
       "      <td>24</td>\n",
       "      <td>10</td>\n",
       "      <td>0</td>\n",
       "    </tr>\n",
       "    <tr>\n",
       "      <th>3</th>\n",
       "      <td>3</td>\n",
       "      <td>Vistara</td>\n",
       "      <td>Delhi</td>\n",
       "      <td>Bangalore</td>\n",
       "      <td>20</td>\n",
       "      <td>40</td>\n",
       "      <td>23</td>\n",
       "      <td>23</td>\n",
       "      <td>02h 40m</td>\n",
       "      <td>7425.0</td>\n",
       "      <td>24</td>\n",
       "      <td>10</td>\n",
       "      <td>0</td>\n",
       "    </tr>\n",
       "    <tr>\n",
       "      <th>4</th>\n",
       "      <td>4</td>\n",
       "      <td>Vistara</td>\n",
       "      <td>Delhi</td>\n",
       "      <td>Bangalore</td>\n",
       "      <td>19</td>\n",
       "      <td>50</td>\n",
       "      <td>22</td>\n",
       "      <td>22</td>\n",
       "      <td>02h 50m</td>\n",
       "      <td>7425.0</td>\n",
       "      <td>24</td>\n",
       "      <td>10</td>\n",
       "      <td>0</td>\n",
       "    </tr>\n",
       "  </tbody>\n",
       "</table>\n",
       "</div>"
      ],
      "text/plain": [
       "   Unnamed: 0   Airline Source Destination  Dep_Time_hour  Dep_Time_min  \\\n",
       "0           0  GO FIRST  Delhi   Bangalore             19            45   \n",
       "1           1  SpiceJet  Delhi   Bangalore             20             5   \n",
       "2           2   AirAsia  Delhi   Bangalore             18            40   \n",
       "3           3   Vistara  Delhi   Bangalore             20            40   \n",
       "4           4   Vistara  Delhi   Bangalore             19            50   \n",
       "\n",
       "   Arr_Time_hour  Arr_Time_min Duration   Price  journey_day  journey_month  \\\n",
       "0             22            22  02h 35m  7424.0           24             10   \n",
       "1             23            23  03h 05m  7425.0           24             10   \n",
       "2             21            21  02h 50m  7426.0           24             10   \n",
       "3             23            23  02h 40m  7425.0           24             10   \n",
       "4             22            22  02h 50m  7425.0           24             10   \n",
       "\n",
       "   Stop  \n",
       "0     0  \n",
       "1     0  \n",
       "2     0  \n",
       "3     0  \n",
       "4     0  "
      ]
     },
     "execution_count": 18,
     "metadata": {},
     "output_type": "execute_result"
    }
   ],
   "source": [
    "df.head()"
   ]
  },
  {
   "cell_type": "code",
   "execution_count": 19,
   "metadata": {},
   "outputs": [],
   "source": [
    "#Lets drop this Unnamed column\n",
    "df=df.drop(['Unnamed: 0'],axis=1)"
   ]
  },
  {
   "cell_type": "markdown",
   "metadata": {},
   "source": [
    "Lets Set our duration column ,Separate Duration hours and minute from Duration and convert into int vlaues as this column in object datatype"
   ]
  },
  {
   "cell_type": "code",
   "execution_count": 20,
   "metadata": {},
   "outputs": [],
   "source": [
    "duration=list(df['Duration'])\n",
    "for i in range(len(duration)):\n",
    "    if len(duration[i].split(' '))==2:\n",
    "        pass\n",
    "    else:\n",
    "        if 'h' in duration[i]: # Check if duration contains only hour\n",
    "             duration[i]=duration[i] + ' 0m' # Adds 0 minute\n",
    "        else:\n",
    "             duration[i]='0h '+ duration[i]"
   ]
  },
  {
   "cell_type": "code",
   "execution_count": 21,
   "metadata": {},
   "outputs": [
    {
     "data": {
      "text/html": [
       "<div>\n",
       "<style scoped>\n",
       "    .dataframe tbody tr th:only-of-type {\n",
       "        vertical-align: middle;\n",
       "    }\n",
       "\n",
       "    .dataframe tbody tr th {\n",
       "        vertical-align: top;\n",
       "    }\n",
       "\n",
       "    .dataframe thead th {\n",
       "        text-align: right;\n",
       "    }\n",
       "</style>\n",
       "<table border=\"1\" class=\"dataframe\">\n",
       "  <thead>\n",
       "    <tr style=\"text-align: right;\">\n",
       "      <th></th>\n",
       "      <th>Airline</th>\n",
       "      <th>Source</th>\n",
       "      <th>Destination</th>\n",
       "      <th>Dep_Time_hour</th>\n",
       "      <th>Dep_Time_min</th>\n",
       "      <th>Arr_Time_hour</th>\n",
       "      <th>Arr_Time_min</th>\n",
       "      <th>Duration</th>\n",
       "      <th>Price</th>\n",
       "      <th>journey_day</th>\n",
       "      <th>journey_month</th>\n",
       "      <th>Stop</th>\n",
       "    </tr>\n",
       "  </thead>\n",
       "  <tbody>\n",
       "    <tr>\n",
       "      <th>0</th>\n",
       "      <td>GO FIRST</td>\n",
       "      <td>Delhi</td>\n",
       "      <td>Bangalore</td>\n",
       "      <td>19</td>\n",
       "      <td>45</td>\n",
       "      <td>22</td>\n",
       "      <td>22</td>\n",
       "      <td>02h 35m</td>\n",
       "      <td>7424.0</td>\n",
       "      <td>24</td>\n",
       "      <td>10</td>\n",
       "      <td>0</td>\n",
       "    </tr>\n",
       "    <tr>\n",
       "      <th>1</th>\n",
       "      <td>SpiceJet</td>\n",
       "      <td>Delhi</td>\n",
       "      <td>Bangalore</td>\n",
       "      <td>20</td>\n",
       "      <td>5</td>\n",
       "      <td>23</td>\n",
       "      <td>23</td>\n",
       "      <td>03h 05m</td>\n",
       "      <td>7425.0</td>\n",
       "      <td>24</td>\n",
       "      <td>10</td>\n",
       "      <td>0</td>\n",
       "    </tr>\n",
       "    <tr>\n",
       "      <th>2</th>\n",
       "      <td>AirAsia</td>\n",
       "      <td>Delhi</td>\n",
       "      <td>Bangalore</td>\n",
       "      <td>18</td>\n",
       "      <td>40</td>\n",
       "      <td>21</td>\n",
       "      <td>21</td>\n",
       "      <td>02h 50m</td>\n",
       "      <td>7426.0</td>\n",
       "      <td>24</td>\n",
       "      <td>10</td>\n",
       "      <td>0</td>\n",
       "    </tr>\n",
       "    <tr>\n",
       "      <th>3</th>\n",
       "      <td>Vistara</td>\n",
       "      <td>Delhi</td>\n",
       "      <td>Bangalore</td>\n",
       "      <td>20</td>\n",
       "      <td>40</td>\n",
       "      <td>23</td>\n",
       "      <td>23</td>\n",
       "      <td>02h 40m</td>\n",
       "      <td>7425.0</td>\n",
       "      <td>24</td>\n",
       "      <td>10</td>\n",
       "      <td>0</td>\n",
       "    </tr>\n",
       "    <tr>\n",
       "      <th>4</th>\n",
       "      <td>Vistara</td>\n",
       "      <td>Delhi</td>\n",
       "      <td>Bangalore</td>\n",
       "      <td>19</td>\n",
       "      <td>50</td>\n",
       "      <td>22</td>\n",
       "      <td>22</td>\n",
       "      <td>02h 50m</td>\n",
       "      <td>7425.0</td>\n",
       "      <td>24</td>\n",
       "      <td>10</td>\n",
       "      <td>0</td>\n",
       "    </tr>\n",
       "  </tbody>\n",
       "</table>\n",
       "</div>"
      ],
      "text/plain": [
       "    Airline Source Destination  Dep_Time_hour  Dep_Time_min  Arr_Time_hour  \\\n",
       "0  GO FIRST  Delhi   Bangalore             19            45             22   \n",
       "1  SpiceJet  Delhi   Bangalore             20             5             23   \n",
       "2   AirAsia  Delhi   Bangalore             18            40             21   \n",
       "3   Vistara  Delhi   Bangalore             20            40             23   \n",
       "4   Vistara  Delhi   Bangalore             19            50             22   \n",
       "\n",
       "   Arr_Time_min Duration   Price  journey_day  journey_month  Stop  \n",
       "0            22  02h 35m  7424.0           24             10     0  \n",
       "1            23  03h 05m  7425.0           24             10     0  \n",
       "2            21  02h 50m  7426.0           24             10     0  \n",
       "3            23  02h 40m  7425.0           24             10     0  \n",
       "4            22  02h 50m  7425.0           24             10     0  "
      ]
     },
     "execution_count": 21,
     "metadata": {},
     "output_type": "execute_result"
    }
   ],
   "source": [
    "df['Duration']=duration\n",
    "df.head()"
   ]
  },
  {
   "cell_type": "code",
   "execution_count": 22,
   "metadata": {},
   "outputs": [],
   "source": [
    "def hour(x):\n",
    "    return x.split(' ')[0][0:-1]\n",
    "\n",
    "def minutes(x):\n",
    "    return x.split(' ')[1][0:-1]"
   ]
  },
  {
   "cell_type": "code",
   "execution_count": 23,
   "metadata": {},
   "outputs": [],
   "source": [
    "df['dur_hour']=df['Duration'].apply(hour)"
   ]
  },
  {
   "cell_type": "code",
   "execution_count": 24,
   "metadata": {},
   "outputs": [],
   "source": [
    "df['dur_min']=df['Duration'].apply(minutes)"
   ]
  },
  {
   "cell_type": "code",
   "execution_count": 25,
   "metadata": {},
   "outputs": [],
   "source": [
    "df.drop('Duration',axis=1,inplace=True)"
   ]
  },
  {
   "cell_type": "code",
   "execution_count": 26,
   "metadata": {},
   "outputs": [
    {
     "data": {
      "text/plain": [
       "Airline           object\n",
       "Source            object\n",
       "Destination       object\n",
       "Dep_Time_hour      int64\n",
       "Dep_Time_min       int64\n",
       "Arr_Time_hour      int64\n",
       "Arr_Time_min       int64\n",
       "Price            float64\n",
       "journey_day        int64\n",
       "journey_month      int64\n",
       "Stop               int32\n",
       "dur_hour          object\n",
       "dur_min           object\n",
       "dtype: object"
      ]
     },
     "execution_count": 26,
     "metadata": {},
     "output_type": "execute_result"
    }
   ],
   "source": [
    "#lets check the datatype\n",
    "df.dtypes"
   ]
  },
  {
   "cell_type": "markdown",
   "metadata": {},
   "source": [
    "As dur_min and Dur_hour in object we convert the dtype into int datatype"
   ]
  },
  {
   "cell_type": "code",
   "execution_count": 27,
   "metadata": {},
   "outputs": [
    {
     "data": {
      "text/plain": [
       "Airline           object\n",
       "Source            object\n",
       "Destination       object\n",
       "Dep_Time_hour      int64\n",
       "Dep_Time_min       int64\n",
       "Arr_Time_hour      int64\n",
       "Arr_Time_min       int64\n",
       "Price            float64\n",
       "journey_day        int64\n",
       "journey_month      int64\n",
       "Stop               int32\n",
       "dur_hour           int32\n",
       "dur_min            int32\n",
       "dtype: object"
      ]
     },
     "execution_count": 27,
     "metadata": {},
     "output_type": "execute_result"
    }
   ],
   "source": [
    "#Converting duration minute and hours into int datatype\n",
    "df['dur_hour'] = df['dur_hour'].astype(int)\n",
    "df['dur_min'] = df['dur_min'].astype(int)\n",
    "df.dtypes"
   ]
  },
  {
   "cell_type": "markdown",
   "metadata": {},
   "source": [
    "Now all our columns are in right datatype and also there are no null values present in the dataset"
   ]
  },
  {
   "cell_type": "code",
   "execution_count": 28,
   "metadata": {},
   "outputs": [
    {
     "data": {
      "text/html": [
       "<div>\n",
       "<style scoped>\n",
       "    .dataframe tbody tr th:only-of-type {\n",
       "        vertical-align: middle;\n",
       "    }\n",
       "\n",
       "    .dataframe tbody tr th {\n",
       "        vertical-align: top;\n",
       "    }\n",
       "\n",
       "    .dataframe thead th {\n",
       "        text-align: right;\n",
       "    }\n",
       "</style>\n",
       "<table border=\"1\" class=\"dataframe\">\n",
       "  <thead>\n",
       "    <tr style=\"text-align: right;\">\n",
       "      <th></th>\n",
       "      <th>Dep_Time_hour</th>\n",
       "      <th>Dep_Time_min</th>\n",
       "      <th>Arr_Time_hour</th>\n",
       "      <th>Arr_Time_min</th>\n",
       "      <th>Price</th>\n",
       "      <th>journey_day</th>\n",
       "      <th>journey_month</th>\n",
       "      <th>Stop</th>\n",
       "      <th>dur_hour</th>\n",
       "      <th>dur_min</th>\n",
       "    </tr>\n",
       "  </thead>\n",
       "  <tbody>\n",
       "    <tr>\n",
       "      <th>count</th>\n",
       "      <td>8669.000000</td>\n",
       "      <td>8669.000000</td>\n",
       "      <td>8669.000000</td>\n",
       "      <td>8669.000000</td>\n",
       "      <td>8669.000000</td>\n",
       "      <td>8669.000000</td>\n",
       "      <td>8669.000000</td>\n",
       "      <td>8669.000000</td>\n",
       "      <td>8669.000000</td>\n",
       "      <td>8669.000000</td>\n",
       "    </tr>\n",
       "    <tr>\n",
       "      <th>mean</th>\n",
       "      <td>12.732726</td>\n",
       "      <td>25.636752</td>\n",
       "      <td>15.429577</td>\n",
       "      <td>15.429577</td>\n",
       "      <td>11104.090322</td>\n",
       "      <td>20.967355</td>\n",
       "      <td>10.267159</td>\n",
       "      <td>0.926981</td>\n",
       "      <td>11.610451</td>\n",
       "      <td>27.703311</td>\n",
       "    </tr>\n",
       "    <tr>\n",
       "      <th>std</th>\n",
       "      <td>5.434339</td>\n",
       "      <td>17.555651</td>\n",
       "      <td>5.860459</td>\n",
       "      <td>5.860459</td>\n",
       "      <td>4509.632353</td>\n",
       "      <td>11.747791</td>\n",
       "      <td>0.442502</td>\n",
       "      <td>0.442699</td>\n",
       "      <td>8.074037</td>\n",
       "      <td>17.401323</td>\n",
       "    </tr>\n",
       "    <tr>\n",
       "      <th>min</th>\n",
       "      <td>0.000000</td>\n",
       "      <td>0.000000</td>\n",
       "      <td>0.000000</td>\n",
       "      <td>0.000000</td>\n",
       "      <td>4451.000000</td>\n",
       "      <td>1.000000</td>\n",
       "      <td>10.000000</td>\n",
       "      <td>0.000000</td>\n",
       "      <td>1.000000</td>\n",
       "      <td>0.000000</td>\n",
       "    </tr>\n",
       "    <tr>\n",
       "      <th>25%</th>\n",
       "      <td>8.000000</td>\n",
       "      <td>10.000000</td>\n",
       "      <td>11.000000</td>\n",
       "      <td>11.000000</td>\n",
       "      <td>7603.000000</td>\n",
       "      <td>3.000000</td>\n",
       "      <td>10.000000</td>\n",
       "      <td>1.000000</td>\n",
       "      <td>6.000000</td>\n",
       "      <td>10.000000</td>\n",
       "    </tr>\n",
       "    <tr>\n",
       "      <th>50%</th>\n",
       "      <td>12.000000</td>\n",
       "      <td>25.000000</td>\n",
       "      <td>17.000000</td>\n",
       "      <td>17.000000</td>\n",
       "      <td>10604.000000</td>\n",
       "      <td>27.000000</td>\n",
       "      <td>10.000000</td>\n",
       "      <td>1.000000</td>\n",
       "      <td>10.000000</td>\n",
       "      <td>30.000000</td>\n",
       "    </tr>\n",
       "    <tr>\n",
       "      <th>75%</th>\n",
       "      <td>18.000000</td>\n",
       "      <td>40.000000</td>\n",
       "      <td>20.000000</td>\n",
       "      <td>20.000000</td>\n",
       "      <td>13168.000000</td>\n",
       "      <td>29.000000</td>\n",
       "      <td>11.000000</td>\n",
       "      <td>1.000000</td>\n",
       "      <td>16.000000</td>\n",
       "      <td>45.000000</td>\n",
       "    </tr>\n",
       "    <tr>\n",
       "      <th>max</th>\n",
       "      <td>23.000000</td>\n",
       "      <td>55.000000</td>\n",
       "      <td>23.000000</td>\n",
       "      <td>23.000000</td>\n",
       "      <td>38598.000000</td>\n",
       "      <td>31.000000</td>\n",
       "      <td>11.000000</td>\n",
       "      <td>2.000000</td>\n",
       "      <td>46.000000</td>\n",
       "      <td>55.000000</td>\n",
       "    </tr>\n",
       "  </tbody>\n",
       "</table>\n",
       "</div>"
      ],
      "text/plain": [
       "       Dep_Time_hour  Dep_Time_min  Arr_Time_hour  Arr_Time_min         Price  \\\n",
       "count    8669.000000   8669.000000    8669.000000   8669.000000   8669.000000   \n",
       "mean       12.732726     25.636752      15.429577     15.429577  11104.090322   \n",
       "std         5.434339     17.555651       5.860459      5.860459   4509.632353   \n",
       "min         0.000000      0.000000       0.000000      0.000000   4451.000000   \n",
       "25%         8.000000     10.000000      11.000000     11.000000   7603.000000   \n",
       "50%        12.000000     25.000000      17.000000     17.000000  10604.000000   \n",
       "75%        18.000000     40.000000      20.000000     20.000000  13168.000000   \n",
       "max        23.000000     55.000000      23.000000     23.000000  38598.000000   \n",
       "\n",
       "       journey_day  journey_month         Stop     dur_hour      dur_min  \n",
       "count  8669.000000    8669.000000  8669.000000  8669.000000  8669.000000  \n",
       "mean     20.967355      10.267159     0.926981    11.610451    27.703311  \n",
       "std      11.747791       0.442502     0.442699     8.074037    17.401323  \n",
       "min       1.000000      10.000000     0.000000     1.000000     0.000000  \n",
       "25%       3.000000      10.000000     1.000000     6.000000    10.000000  \n",
       "50%      27.000000      10.000000     1.000000    10.000000    30.000000  \n",
       "75%      29.000000      11.000000     1.000000    16.000000    45.000000  \n",
       "max      31.000000      11.000000     2.000000    46.000000    55.000000  "
      ]
     },
     "execution_count": 28,
     "metadata": {},
     "output_type": "execute_result"
    }
   ],
   "source": [
    "#Checking with statistically\n",
    "df.describe()"
   ]
  },
  {
   "cell_type": "markdown",
   "metadata": {},
   "source": [
    "Inferences:\n",
    "\n",
    "here the maximum price of ticket is 38598 and the minimum is 4451 in rupees.\n",
    "\n",
    "The distribution in Price is not normal as data is positively skewed"
   ]
  },
  {
   "cell_type": "markdown",
   "metadata": {},
   "source": [
    "#### Exploratory Data Analysis"
   ]
  },
  {
   "cell_type": "code",
   "execution_count": 29,
   "metadata": {},
   "outputs": [
    {
     "data": {
      "image/png": "[encoded data removed]",
      "text/plain": [
       "<Figure size 720x360 with 2 Axes>"
      ]
     },
     "metadata": {
      "needs_background": "light"
     },
     "output_type": "display_data"
    }
   ],
   "source": [
    "#Lets see the graphical representation of the correlation\n",
    "corrmat = df.corr()\n",
    "top_corr_features = corrmat.index\n",
    "plt.figure(figsize=(10,5))\n",
    "#plot heat map\n",
    "g=sns.heatmap(df[top_corr_features].corr(),annot=True,cmap=\"RdYlGn\")"
   ]
  },
  {
   "cell_type": "code",
   "execution_count": 30,
   "metadata": {},
   "outputs": [
    {
     "data": {
      "image/png": "[encoded data removed]",
      "text/plain": [
       "<Figure size 720x360 with 1 Axes>"
      ]
     },
     "metadata": {
      "needs_background": "light"
     },
     "output_type": "display_data"
    }
   ],
   "source": [
    "plt.figure(figsize=(10,5))\n",
    "df.corr()['Price'].sort_values(ascending = False).drop(['Price']).plot(kind='bar',color='c')\n",
    "plt.xlabel('Feature',fontsize=14)\n",
    "plt.ylabel('Column with target names',fontsize=14)\n",
    "plt.title('correlation')\n",
    "plt.show()"
   ]
  },
  {
   "cell_type": "markdown",
   "metadata": {},
   "source": [
    "Observations :\n",
    "\n",
    "- Travelling duration hours , number of stops are highly positively correlated with the Flight price.\n",
    "\n",
    "- Also depature time is negatively correlated with price.\n"
   ]
  },
  {
   "cell_type": "markdown",
   "metadata": {},
   "source": [
    "#### Categorical columns"
   ]
  },
  {
   "cell_type": "code",
   "execution_count": 31,
   "metadata": {},
   "outputs": [
    {
     "data": {
      "text/plain": [
       "['Airline', 'Source', 'Destination']"
      ]
     },
     "execution_count": 31,
     "metadata": {},
     "output_type": "execute_result"
    }
   ],
   "source": [
    "column=[column for column in df.columns if df[column].dtype=='object']\n",
    "column"
   ]
  },
  {
   "cell_type": "markdown",
   "metadata": {},
   "source": [
    "So here we have total 3 columns of object in datatset ."
   ]
  },
  {
   "cell_type": "code",
   "execution_count": 32,
   "metadata": {},
   "outputs": [
    {
     "data": {
      "image/png": "[encoded data removed]",
      "text/plain": [
       "<Figure size 720x360 with 1 Axes>"
      ]
     },
     "metadata": {
      "needs_background": "light"
     },
     "output_type": "display_data"
    }
   ],
   "source": [
    "#lets count the different Airplanes data we have\n",
    "plt.figure(figsize=(10,5))\n",
    "sns.countplot(x=\"Airline\",data=df)\n",
    "plt.show()"
   ]
  },
  {
   "cell_type": "markdown",
   "metadata": {},
   "source": [
    "Here the most of the Airline were Vistara airlines after that Indigo and Air India. The Spicejet airlines are very less in compares to others."
   ]
  },
  {
   "cell_type": "code",
   "execution_count": 33,
   "metadata": {},
   "outputs": [
    {
     "data": {
      "image/png": "[encoded data removed]",
      "text/plain": [
       "<Figure size 720x360 with 1 Axes>"
      ]
     },
     "metadata": {
      "needs_background": "light"
     },
     "output_type": "display_data"
    }
   ],
   "source": [
    "#lets count the different Sources data we have\n",
    "plt.figure(figsize=(10,5))\n",
    "sns.countplot(x=\"Source\",data=df)\n",
    "plt.show()"
   ]
  },
  {
   "cell_type": "markdown",
   "metadata": {},
   "source": [
    "Here we can see that Maximum flights are generally from Delhi and Mumbai."
   ]
  },
  {
   "cell_type": "code",
   "execution_count": 34,
   "metadata": {},
   "outputs": [
    {
     "data": {
      "image/png": "[encoded data removed]",
      "text/plain": [
       "<Figure size 720x360 with 1 Axes>"
      ]
     },
     "metadata": {
      "needs_background": "light"
     },
     "output_type": "display_data"
    }
   ],
   "source": [
    "#lets count the different Destination data we have\n",
    "plt.figure(figsize=(10,5))\n",
    "sns.countplot(x=\"Destination\",data=df)\n",
    "plt.show()"
   ]
  },
  {
   "cell_type": "markdown",
   "metadata": {},
   "source": [
    "- The maximum number of flights are headed to Mumbai\n",
    "- and very less headed to cochin"
   ]
  },
  {
   "cell_type": "code",
   "execution_count": 35,
   "metadata": {},
   "outputs": [
    {
     "data": {
      "text/plain": [
       "<AxesSubplot:xlabel='Stop', ylabel='count'>"
      ]
     },
     "execution_count": 35,
     "metadata": {},
     "output_type": "execute_result"
    },
    {
     "data": {
      "image/png": "[encoded data removed]",
      "text/plain": [
       "<Figure size 432x288 with 1 Axes>"
      ]
     },
     "metadata": {
      "needs_background": "light"
     },
     "output_type": "display_data"
    }
   ],
   "source": [
    "sns.countplot(df['Stop'])\n",
    "#there are more flights which have 1 stops"
   ]
  },
  {
   "cell_type": "markdown",
   "metadata": {},
   "source": [
    "- Maximum number of flights have 1 stop before they reach to the destination"
   ]
  },
  {
   "cell_type": "markdown",
   "metadata": {},
   "source": [
    "### Airline vs Price Analysis"
   ]
  },
  {
   "cell_type": "code",
   "execution_count": 36,
   "metadata": {},
   "outputs": [
    {
     "data": {
      "text/plain": [
       "<Figure size 720x720 with 0 Axes>"
      ]
     },
     "metadata": {},
     "output_type": "display_data"
    },
    {
     "data": {
      "image/png": "[encoded data removed]",
      "text/plain": [
       "<Figure size 1296x432 with 1 Axes>"
      ]
     },
     "metadata": {
      "needs_background": "light"
     },
     "output_type": "display_data"
    }
   ],
   "source": [
    "#lets check which airline is expensive based on average price\n",
    "plt.figure(figsize=(10,10))\n",
    "sns.catplot(x=\"Airline\",y=\"Price\",data=df,kind='boxen',height=6,aspect=3)\n",
    "plt.show()"
   ]
  },
  {
   "cell_type": "markdown",
   "metadata": {},
   "source": [
    "- The Price of the Air India is very high and after that Vistara which almost have same price like Air India airlines.\n",
    "\n",
    "- The price of AirAsia, Indigo, and Spice jet are less and  much less in comparison to Vistara and Air India."
   ]
  },
  {
   "cell_type": "markdown",
   "metadata": {},
   "source": [
    "### Perform Source vs Airline Analysis"
   ]
  },
  {
   "cell_type": "code",
   "execution_count": 37,
   "metadata": {
    "scrolled": true
   },
   "outputs": [
    {
     "data": {
      "image/png": "[encoded data removed]",
      "text/plain": [
       "<Figure size 1440x360 with 1 Axes>"
      ]
     },
     "metadata": {
      "needs_background": "light"
     },
     "output_type": "display_data"
    }
   ],
   "source": [
    "#Lets check the most popular flight region wise\n",
    "plt.figure(figsize=(20,5))\n",
    "sns.countplot(x=\"Source\",hue=\"Airline\",data=df)\n",
    "plt.show()"
   ]
  },
  {
   "cell_type": "markdown",
   "metadata": {},
   "source": [
    "- The maximum number of flights are take off from the Mumbai and they are of Vistara Airways\n",
    "- Vistara airways are the maximum nuber of flights which take off from different sources/cites\n",
    "- In chennai and cochin INdia Airlines flight takeoff more."
   ]
  },
  {
   "cell_type": "markdown",
   "metadata": {},
   "source": [
    "#### Perform Source vs Price Analysis"
   ]
  },
  {
   "cell_type": "code",
   "execution_count": 45,
   "metadata": {},
   "outputs": [
    {
     "data": {
      "image/png": "[encoded data removed]",
      "text/plain": [
       "<Figure size 1080x432 with 1 Axes>"
      ]
     },
     "metadata": {
      "needs_background": "light"
     },
     "output_type": "display_data"
    }
   ],
   "source": [
    "#Lets check from which region averge price of the flight was more\n",
    "plt.figure(figsize=(15,6))\n",
    "sns.barplot(x=\"Source\",y=\"Price\",data=df,palette='Paired')\n",
    "plt.show()"
   ]
  },
  {
   "cell_type": "markdown",
   "metadata": {},
   "source": [
    "Observation:\n",
    "\n",
    "- The price of flights from Chennai is very high\n",
    "\n",
    "- after that Cochin flights have very high price"
   ]
  },
  {
   "cell_type": "markdown",
   "metadata": {},
   "source": [
    "#### Perform Total_Stops vs Price Analysis"
   ]
  },
  {
   "cell_type": "code",
   "execution_count": 44,
   "metadata": {},
   "outputs": [
    {
     "data": {
      "image/png": "[encoded data removed]",
      "text/plain": [
       "<Figure size 504x360 with 1 Axes>"
      ]
     },
     "metadata": {
      "needs_background": "light"
     },
     "output_type": "display_data"
    }
   ],
   "source": [
    "#Lets check from which stops and averge price of the flight was more\n",
    "plt.figure(figsize=(7,5))\n",
    "sns.barplot(x=\"Stop\",y=\"Price\",data=df,palette='colorblind')\n",
    "plt.show()"
   ]
  },
  {
   "cell_type": "markdown",
   "metadata": {},
   "source": [
    "The flights which have 2 stops have very high price.\n",
    "\n",
    "- i.e If Number of stops increase ticket price also increases."
   ]
  },
  {
   "cell_type": "markdown",
   "metadata": {},
   "source": [
    "**Do airfares change frequently? Do they move in small increments or in large jumps? Do they tend to go up or down over time?**"
   ]
  },
  {
   "cell_type": "code",
   "execution_count": 40,
   "metadata": {},
   "outputs": [
    {
     "data": {
      "image/png": "[encoded data removed]",
      "text/plain": [
       "<Figure size 720x360 with 1 Axes>"
      ]
     },
     "metadata": {
      "needs_background": "light"
     },
     "output_type": "display_data"
    }
   ],
   "source": [
    "plt.figure(figsize=(10,5))\n",
    "sns.scatterplot(x=df['dur_hour'],y=df['Price'])\n",
    "plt.show()"
   ]
  },
  {
   "cell_type": "code",
   "execution_count": 41,
   "metadata": {
    "scrolled": true
   },
   "outputs": [
    {
     "data": {
      "text/plain": [
       "<AxesSubplot:xlabel='dur_hour', ylabel='Price'>"
      ]
     },
     "execution_count": 41,
     "metadata": {},
     "output_type": "execute_result"
    },
    {
     "data": {
      "image/png": "[encoded data removed]",
      "text/plain": [
       "<Figure size 1008x360 with 1 Axes>"
      ]
     },
     "metadata": {
      "needs_background": "light"
     },
     "output_type": "display_data"
    }
   ],
   "source": [
    "plt.figure(figsize=(14,5))\n",
    "sns.lineplot(x=df['dur_hour'],y=df['Price'])"
   ]
  },
  {
   "cell_type": "markdown",
   "metadata": {},
   "source": [
    "Observations:\n",
    "\n",
    "-  airfares are change frequently to maximize profits and fill more seats .They change according to increase in travelling hours.\n",
    "\n",
    "- Airfares move in small increments .\n",
    "\n",
    "- Here we can see that ticket-fares tend to go up with time."
   ]
  },
  {
   "cell_type": "markdown",
   "metadata": {},
   "source": [
    "**What is the best time to buy so that the consumer can save the most by taking the least risk? Does price increase as we get near to departure date?**"
   ]
  },
  {
   "cell_type": "code",
   "execution_count": 42,
   "metadata": {
    "scrolled": false
   },
   "outputs": [
    {
     "data": {
      "image/png": "[encoded data removed]",
      "text/plain": [
       "<Figure size 1008x360 with 1 Axes>"
      ]
     },
     "metadata": {
      "needs_background": "light"
     },
     "output_type": "display_data"
    }
   ],
   "source": [
    "\n",
    "plt.figure(figsize=(14,5))\n",
    "sns.boxplot(x=df['journey_day'],y=df['Price'])\n",
    "plt.show()"
   ]
  },
  {
   "cell_type": "markdown",
   "metadata": {},
   "source": [
    "Observation:\n",
    "As I collected data from 24th October to 3rd of November Here we can see that the :\n",
    "\n",
    "- Here we can see that the price increased as we get near to the departure date.\n",
    "\n",
    "- The best time for booking flight ticket for travelling to save the most by taking the least risk, is as early as you can like from the travelling date like 10-20 days or more than that.Then you can save the money by taking the least risk.\n"
   ]
  },
  {
   "cell_type": "markdown",
   "metadata": {},
   "source": [
    "**Are morning flights expensive?**"
   ]
  },
  {
   "cell_type": "code",
   "execution_count": 43,
   "metadata": {},
   "outputs": [
    {
     "data": {
      "image/png": "[encoded data removed]",
      "text/plain": [
       "<Figure size 1008x360 with 1 Axes>"
      ]
     },
     "metadata": {
      "needs_background": "light"
     },
     "output_type": "display_data"
    }
   ],
   "source": [
    "plt.figure(figsize=(14,5))\n",
    "sns.boxplot(x=df['Dep_Time_hour'],y=df['Price'])\n",
    "plt.show()"
   ]
  },
  {
   "cell_type": "markdown",
   "metadata": {},
   "source": [
    "Observations:\n",
    "\n",
    "- The early morning flights are less expensive, after that increases."
   ]
  },
  {
   "cell_type": "markdown",
   "metadata": {},
   "source": [
    "### Feature Engineering"
   ]
  },
  {
   "cell_type": "markdown",
   "metadata": {},
   "source": [
    "#### Label encoding"
   ]
  },
  {
   "cell_type": "code",
   "execution_count": 41,
   "metadata": {},
   "outputs": [],
   "source": [
    "#lets use Label encodig to covert object datatypes to integers\n",
    "from sklearn.preprocessing import LabelEncoder\n",
    "encoder=LabelEncoder()\n",
    "df[\"Airline\"]=encoder.fit_transform(df['Airline'])\n",
    "df[\"Source\"]=encoder.fit_transform(df['Source'])\n",
    "df[\"Destination\"]=encoder.fit_transform(df['Destination'])"
   ]
  },
  {
   "cell_type": "code",
   "execution_count": 42,
   "metadata": {
    "scrolled": true
   },
   "outputs": [
    {
     "data": {
      "text/html": [
       "<div>\n",
       "<style scoped>\n",
       "    .dataframe tbody tr th:only-of-type {\n",
       "        vertical-align: middle;\n",
       "    }\n",
       "\n",
       "    .dataframe tbody tr th {\n",
       "        vertical-align: top;\n",
       "    }\n",
       "\n",
       "    .dataframe thead th {\n",
       "        text-align: right;\n",
       "    }\n",
       "</style>\n",
       "<table border=\"1\" class=\"dataframe\">\n",
       "  <thead>\n",
       "    <tr style=\"text-align: right;\">\n",
       "      <th></th>\n",
       "      <th>Airline</th>\n",
       "      <th>Source</th>\n",
       "      <th>Destination</th>\n",
       "      <th>Dep_Time_hour</th>\n",
       "      <th>Dep_Time_min</th>\n",
       "      <th>Arr_Time_hour</th>\n",
       "      <th>Arr_Time_min</th>\n",
       "      <th>Price</th>\n",
       "      <th>journey_day</th>\n",
       "      <th>journey_month</th>\n",
       "      <th>Stop</th>\n",
       "      <th>dur_hour</th>\n",
       "      <th>dur_min</th>\n",
       "    </tr>\n",
       "  </thead>\n",
       "  <tbody>\n",
       "    <tr>\n",
       "      <th>0</th>\n",
       "      <td>2</td>\n",
       "      <td>3</td>\n",
       "      <td>0</td>\n",
       "      <td>19</td>\n",
       "      <td>45</td>\n",
       "      <td>22</td>\n",
       "      <td>22</td>\n",
       "      <td>7424.0</td>\n",
       "      <td>24</td>\n",
       "      <td>10</td>\n",
       "      <td>0</td>\n",
       "      <td>2</td>\n",
       "      <td>35</td>\n",
       "    </tr>\n",
       "    <tr>\n",
       "      <th>1</th>\n",
       "      <td>4</td>\n",
       "      <td>3</td>\n",
       "      <td>0</td>\n",
       "      <td>20</td>\n",
       "      <td>5</td>\n",
       "      <td>23</td>\n",
       "      <td>23</td>\n",
       "      <td>7425.0</td>\n",
       "      <td>24</td>\n",
       "      <td>10</td>\n",
       "      <td>0</td>\n",
       "      <td>3</td>\n",
       "      <td>5</td>\n",
       "    </tr>\n",
       "    <tr>\n",
       "      <th>2</th>\n",
       "      <td>1</td>\n",
       "      <td>3</td>\n",
       "      <td>0</td>\n",
       "      <td>18</td>\n",
       "      <td>40</td>\n",
       "      <td>21</td>\n",
       "      <td>21</td>\n",
       "      <td>7426.0</td>\n",
       "      <td>24</td>\n",
       "      <td>10</td>\n",
       "      <td>0</td>\n",
       "      <td>2</td>\n",
       "      <td>50</td>\n",
       "    </tr>\n",
       "    <tr>\n",
       "      <th>3</th>\n",
       "      <td>5</td>\n",
       "      <td>3</td>\n",
       "      <td>0</td>\n",
       "      <td>20</td>\n",
       "      <td>40</td>\n",
       "      <td>23</td>\n",
       "      <td>23</td>\n",
       "      <td>7425.0</td>\n",
       "      <td>24</td>\n",
       "      <td>10</td>\n",
       "      <td>0</td>\n",
       "      <td>2</td>\n",
       "      <td>40</td>\n",
       "    </tr>\n",
       "    <tr>\n",
       "      <th>4</th>\n",
       "      <td>5</td>\n",
       "      <td>3</td>\n",
       "      <td>0</td>\n",
       "      <td>19</td>\n",
       "      <td>50</td>\n",
       "      <td>22</td>\n",
       "      <td>22</td>\n",
       "      <td>7425.0</td>\n",
       "      <td>24</td>\n",
       "      <td>10</td>\n",
       "      <td>0</td>\n",
       "      <td>2</td>\n",
       "      <td>50</td>\n",
       "    </tr>\n",
       "  </tbody>\n",
       "</table>\n",
       "</div>"
      ],
      "text/plain": [
       "   Airline  Source  Destination  Dep_Time_hour  Dep_Time_min  Arr_Time_hour  \\\n",
       "0        2       3            0             19            45             22   \n",
       "1        4       3            0             20             5             23   \n",
       "2        1       3            0             18            40             21   \n",
       "3        5       3            0             20            40             23   \n",
       "4        5       3            0             19            50             22   \n",
       "\n",
       "   Arr_Time_min   Price  journey_day  journey_month  Stop  dur_hour  dur_min  \n",
       "0            22  7424.0           24             10     0         2       35  \n",
       "1            23  7425.0           24             10     0         3        5  \n",
       "2            21  7426.0           24             10     0         2       50  \n",
       "3            23  7425.0           24             10     0         2       40  \n",
       "4            22  7425.0           24             10     0         2       50  "
      ]
     },
     "execution_count": 42,
     "metadata": {},
     "output_type": "execute_result"
    }
   ],
   "source": [
    "df.head()"
   ]
  },
  {
   "cell_type": "code",
   "execution_count": 43,
   "metadata": {},
   "outputs": [
    {
     "data": {
      "text/plain": [
       "(8669, 13)"
      ]
     },
     "execution_count": 43,
     "metadata": {},
     "output_type": "execute_result"
    }
   ],
   "source": [
    "df.shape"
   ]
  },
  {
   "cell_type": "markdown",
   "metadata": {},
   "source": [
    "### Feature Selection :"
   ]
  },
  {
   "cell_type": "code",
   "execution_count": 44,
   "metadata": {},
   "outputs": [],
   "source": [
    "#lets divide the train dataset into input and output\n",
    "df_x=df.drop(columns=[\"Price\"])\n",
    "y=df[[\"Price\"]]"
   ]
  },
  {
   "cell_type": "code",
   "execution_count": 65,
   "metadata": {},
   "outputs": [
    {
     "data": {
      "text/plain": [
       "(8669, 13)"
      ]
     },
     "execution_count": 65,
     "metadata": {},
     "output_type": "execute_result"
    }
   ],
   "source": [
    "df.shape"
   ]
  },
  {
   "cell_type": "code",
   "execution_count": 48,
   "metadata": {},
   "outputs": [
    {
     "data": {
      "text/plain": [
       "Airline            int32\n",
       "Source             int32\n",
       "Destination        int32\n",
       "Dep_Time_hour      int64\n",
       "Dep_Time_min       int64\n",
       "Arr_Time_hour      int64\n",
       "Arr_Time_min       int64\n",
       "Price            float64\n",
       "journey_day        int64\n",
       "journey_month      int64\n",
       "Stop               int32\n",
       "dur_hour           int32\n",
       "dur_min            int32\n",
       "dtype: object"
      ]
     },
     "execution_count": 48,
     "metadata": {},
     "output_type": "execute_result"
    }
   ],
   "source": [
    "df.dtypes"
   ]
  },
  {
   "cell_type": "code",
   "execution_count": 49,
   "metadata": {},
   "outputs": [
    {
     "data": {
      "text/html": [
       "<div>\n",
       "<style scoped>\n",
       "    .dataframe tbody tr th:only-of-type {\n",
       "        vertical-align: middle;\n",
       "    }\n",
       "\n",
       "    .dataframe tbody tr th {\n",
       "        vertical-align: top;\n",
       "    }\n",
       "\n",
       "    .dataframe thead th {\n",
       "        text-align: right;\n",
       "    }\n",
       "</style>\n",
       "<table border=\"1\" class=\"dataframe\">\n",
       "  <thead>\n",
       "    <tr style=\"text-align: right;\">\n",
       "      <th></th>\n",
       "      <th>Airline</th>\n",
       "      <th>Source</th>\n",
       "      <th>Destination</th>\n",
       "      <th>Dep_Time_hour</th>\n",
       "      <th>Dep_Time_min</th>\n",
       "      <th>Arr_Time_hour</th>\n",
       "      <th>Arr_Time_min</th>\n",
       "      <th>journey_day</th>\n",
       "      <th>journey_month</th>\n",
       "      <th>Stop</th>\n",
       "      <th>dur_hour</th>\n",
       "      <th>dur_min</th>\n",
       "    </tr>\n",
       "  </thead>\n",
       "  <tbody>\n",
       "    <tr>\n",
       "      <th>0</th>\n",
       "      <td>2</td>\n",
       "      <td>3</td>\n",
       "      <td>0</td>\n",
       "      <td>19</td>\n",
       "      <td>45</td>\n",
       "      <td>22</td>\n",
       "      <td>22</td>\n",
       "      <td>24</td>\n",
       "      <td>10</td>\n",
       "      <td>0</td>\n",
       "      <td>2</td>\n",
       "      <td>35</td>\n",
       "    </tr>\n",
       "    <tr>\n",
       "      <th>1</th>\n",
       "      <td>4</td>\n",
       "      <td>3</td>\n",
       "      <td>0</td>\n",
       "      <td>20</td>\n",
       "      <td>5</td>\n",
       "      <td>23</td>\n",
       "      <td>23</td>\n",
       "      <td>24</td>\n",
       "      <td>10</td>\n",
       "      <td>0</td>\n",
       "      <td>3</td>\n",
       "      <td>5</td>\n",
       "    </tr>\n",
       "    <tr>\n",
       "      <th>2</th>\n",
       "      <td>1</td>\n",
       "      <td>3</td>\n",
       "      <td>0</td>\n",
       "      <td>18</td>\n",
       "      <td>40</td>\n",
       "      <td>21</td>\n",
       "      <td>21</td>\n",
       "      <td>24</td>\n",
       "      <td>10</td>\n",
       "      <td>0</td>\n",
       "      <td>2</td>\n",
       "      <td>50</td>\n",
       "    </tr>\n",
       "    <tr>\n",
       "      <th>3</th>\n",
       "      <td>5</td>\n",
       "      <td>3</td>\n",
       "      <td>0</td>\n",
       "      <td>20</td>\n",
       "      <td>40</td>\n",
       "      <td>23</td>\n",
       "      <td>23</td>\n",
       "      <td>24</td>\n",
       "      <td>10</td>\n",
       "      <td>0</td>\n",
       "      <td>2</td>\n",
       "      <td>40</td>\n",
       "    </tr>\n",
       "    <tr>\n",
       "      <th>4</th>\n",
       "      <td>5</td>\n",
       "      <td>3</td>\n",
       "      <td>0</td>\n",
       "      <td>19</td>\n",
       "      <td>50</td>\n",
       "      <td>22</td>\n",
       "      <td>22</td>\n",
       "      <td>24</td>\n",
       "      <td>10</td>\n",
       "      <td>0</td>\n",
       "      <td>2</td>\n",
       "      <td>50</td>\n",
       "    </tr>\n",
       "  </tbody>\n",
       "</table>\n",
       "</div>"
      ],
      "text/plain": [
       "   Airline  Source  Destination  Dep_Time_hour  Dep_Time_min  Arr_Time_hour  \\\n",
       "0        2       3            0             19            45             22   \n",
       "1        4       3            0             20             5             23   \n",
       "2        1       3            0             18            40             21   \n",
       "3        5       3            0             20            40             23   \n",
       "4        5       3            0             19            50             22   \n",
       "\n",
       "   Arr_Time_min  journey_day  journey_month  Stop  dur_hour  dur_min  \n",
       "0            22           24             10     0         2       35  \n",
       "1            23           24             10     0         3        5  \n",
       "2            21           24             10     0         2       50  \n",
       "3            23           24             10     0         2       40  \n",
       "4            22           24             10     0         2       50  "
      ]
     },
     "execution_count": 49,
     "metadata": {},
     "output_type": "execute_result"
    }
   ],
   "source": [
    "df_x.head()"
   ]
  },
  {
   "cell_type": "code",
   "execution_count": 52,
   "metadata": {},
   "outputs": [],
   "source": [
    "#Standard Scaler:\n",
    "#Lets bring every column to common scale\n",
    "from sklearn.preprocessing import StandardScaler\n",
    "sc = StandardScaler()\n",
    "\n",
    "df_x[Num_col] = sc.fit_transform(df[Num_col])"
   ]
  },
  {
   "cell_type": "code",
   "execution_count": 68,
   "metadata": {},
   "outputs": [
    {
     "data": {
      "text/html": [
       "<div>\n",
       "<style scoped>\n",
       "    .dataframe tbody tr th:only-of-type {\n",
       "        vertical-align: middle;\n",
       "    }\n",
       "\n",
       "    .dataframe tbody tr th {\n",
       "        vertical-align: top;\n",
       "    }\n",
       "\n",
       "    .dataframe thead th {\n",
       "        text-align: right;\n",
       "    }\n",
       "</style>\n",
       "<table border=\"1\" class=\"dataframe\">\n",
       "  <thead>\n",
       "    <tr style=\"text-align: right;\">\n",
       "      <th></th>\n",
       "      <th>Airline</th>\n",
       "      <th>Source</th>\n",
       "      <th>Destination</th>\n",
       "      <th>Dep_Time_hour</th>\n",
       "      <th>Dep_Time_min</th>\n",
       "      <th>Arr_Time_hour</th>\n",
       "      <th>Arr_Time_min</th>\n",
       "      <th>journey_day</th>\n",
       "      <th>journey_month</th>\n",
       "      <th>Stop</th>\n",
       "      <th>dur_hour</th>\n",
       "      <th>dur_min</th>\n",
       "    </tr>\n",
       "  </thead>\n",
       "  <tbody>\n",
       "    <tr>\n",
       "      <th>0</th>\n",
       "      <td>2</td>\n",
       "      <td>3</td>\n",
       "      <td>0</td>\n",
       "      <td>1.153339</td>\n",
       "      <td>1.103027</td>\n",
       "      <td>1.121210</td>\n",
       "      <td>1.121210</td>\n",
       "      <td>0.258161</td>\n",
       "      <td>-0.603782</td>\n",
       "      <td>0</td>\n",
       "      <td>-1.190359</td>\n",
       "      <td>0.419342</td>\n",
       "    </tr>\n",
       "    <tr>\n",
       "      <th>1</th>\n",
       "      <td>4</td>\n",
       "      <td>3</td>\n",
       "      <td>0</td>\n",
       "      <td>1.337365</td>\n",
       "      <td>-1.175573</td>\n",
       "      <td>1.291855</td>\n",
       "      <td>1.291855</td>\n",
       "      <td>0.258161</td>\n",
       "      <td>-0.603782</td>\n",
       "      <td>0</td>\n",
       "      <td>-1.066498</td>\n",
       "      <td>-1.304764</td>\n",
       "    </tr>\n",
       "    <tr>\n",
       "      <th>2</th>\n",
       "      <td>1</td>\n",
       "      <td>3</td>\n",
       "      <td>0</td>\n",
       "      <td>0.969313</td>\n",
       "      <td>0.818202</td>\n",
       "      <td>0.950565</td>\n",
       "      <td>0.950565</td>\n",
       "      <td>0.258161</td>\n",
       "      <td>-0.603782</td>\n",
       "      <td>0</td>\n",
       "      <td>-1.190359</td>\n",
       "      <td>1.281395</td>\n",
       "    </tr>\n",
       "    <tr>\n",
       "      <th>3</th>\n",
       "      <td>5</td>\n",
       "      <td>3</td>\n",
       "      <td>0</td>\n",
       "      <td>1.337365</td>\n",
       "      <td>0.818202</td>\n",
       "      <td>1.291855</td>\n",
       "      <td>1.291855</td>\n",
       "      <td>0.258161</td>\n",
       "      <td>-0.603782</td>\n",
       "      <td>0</td>\n",
       "      <td>-1.190359</td>\n",
       "      <td>0.706693</td>\n",
       "    </tr>\n",
       "    <tr>\n",
       "      <th>4</th>\n",
       "      <td>5</td>\n",
       "      <td>3</td>\n",
       "      <td>0</td>\n",
       "      <td>1.153339</td>\n",
       "      <td>1.387853</td>\n",
       "      <td>1.121210</td>\n",
       "      <td>1.121210</td>\n",
       "      <td>0.258161</td>\n",
       "      <td>-0.603782</td>\n",
       "      <td>0</td>\n",
       "      <td>-1.190359</td>\n",
       "      <td>1.281395</td>\n",
       "    </tr>\n",
       "  </tbody>\n",
       "</table>\n",
       "</div>"
      ],
      "text/plain": [
       "   Airline  Source  Destination  Dep_Time_hour  Dep_Time_min  Arr_Time_hour  \\\n",
       "0        2       3            0       1.153339      1.103027       1.121210   \n",
       "1        4       3            0       1.337365     -1.175573       1.291855   \n",
       "2        1       3            0       0.969313      0.818202       0.950565   \n",
       "3        5       3            0       1.337365      0.818202       1.291855   \n",
       "4        5       3            0       1.153339      1.387853       1.121210   \n",
       "\n",
       "   Arr_Time_min  journey_day  journey_month  Stop  dur_hour   dur_min  \n",
       "0      1.121210     0.258161      -0.603782     0 -1.190359  0.419342  \n",
       "1      1.291855     0.258161      -0.603782     0 -1.066498 -1.304764  \n",
       "2      0.950565     0.258161      -0.603782     0 -1.190359  1.281395  \n",
       "3      1.291855     0.258161      -0.603782     0 -1.190359  0.706693  \n",
       "4      1.121210     0.258161      -0.603782     0 -1.190359  1.281395  "
      ]
     },
     "execution_count": 68,
     "metadata": {},
     "output_type": "execute_result"
    }
   ],
   "source": [
    "df_x.head()"
   ]
  },
  {
   "cell_type": "code",
   "execution_count": 69,
   "metadata": {},
   "outputs": [
    {
     "data": {
      "text/plain": [
       "(8669, 12)"
      ]
     },
     "execution_count": 69,
     "metadata": {},
     "output_type": "execute_result"
    }
   ],
   "source": [
    "df_x.shape"
   ]
  },
  {
   "cell_type": "code",
   "execution_count": 70,
   "metadata": {},
   "outputs": [
    {
     "data": {
      "text/plain": [
       "(8669, 1)"
      ]
     },
     "execution_count": 70,
     "metadata": {},
     "output_type": "execute_result"
    }
   ],
   "source": [
    "y.shape"
   ]
  },
  {
   "cell_type": "markdown",
   "metadata": {},
   "source": [
    "### Prediction with Price"
   ]
  },
  {
   "cell_type": "markdown",
   "metadata": {},
   "source": [
    "#### Model Building :"
   ]
  },
  {
   "cell_type": "code",
   "execution_count": 71,
   "metadata": {},
   "outputs": [],
   "source": [
    "from sklearn.model_selection import train_test_split\n",
    "X_train, X_test, y_train, y_test = train_test_split(df_x, y, test_size = 0.30, random_state = 42)"
   ]
  },
  {
   "cell_type": "code",
   "execution_count": 72,
   "metadata": {},
   "outputs": [],
   "source": [
    "def evaluate(model, X_train, y_train, X_test, y_test):\n",
    "    print('TRAIN')\n",
    "    pred = model.predict(X_train)\n",
    "    print(f'MEAN ABSOLUTE ERROR: {mean_absolute_error(y_train, pred)}')\n",
    "    print(f'MEAN SQUARED ERROR: {mean_squared_error(y_train, pred)}')\n",
    "    print(f'ROOT MEAN SQUARED ERROR: {np.sqrt(mean_squared_error(y_train, pred))}')\n",
    "    print(f'R2 SCORE: {r2_score(y_train, pred)}')\n",
    "    print('###############################')\n",
    "    print('TEST')\n",
    "    pred = model.predict(X_test)\n",
    "    print(f'MEAN ABSOLUTE ERROR: {mean_absolute_error(y_test, pred)}')\n",
    "    print(f'MEAN SQUARED ERROR: {mean_squared_error(y_test, pred)}')\n",
    "    print(f'ROOT MEAN SQUARED ERROR: {np.sqrt(mean_squared_error(y_test, pred))}')\n",
    "    print(f'R2 SCORE: {r2_score(y_test, pred)}')"
   ]
  },
  {
   "cell_type": "markdown",
   "metadata": {},
   "source": [
    "#### Linear Regression"
   ]
  },
  {
   "cell_type": "code",
   "execution_count": 73,
   "metadata": {},
   "outputs": [
    {
     "data": {
      "text/plain": [
       "LinearRegression()"
      ]
     },
     "execution_count": 73,
     "metadata": {},
     "output_type": "execute_result"
    }
   ],
   "source": [
    "model = LinearRegression()\n",
    "model.fit(X_train,y_train)"
   ]
  },
  {
   "cell_type": "code",
   "execution_count": 74,
   "metadata": {},
   "outputs": [
    {
     "name": "stdout",
     "output_type": "stream",
     "text": [
      "TRAIN\n",
      "MEAN ABSOLUTE ERROR: 2679.9415980927865\n",
      "MEAN SQUARED ERROR: 14028324.931251349\n",
      "ROOT MEAN SQUARED ERROR: 3745.4405523584737\n",
      "R2 SCORE: 0.287014185332396\n",
      "###############################\n",
      "TEST\n",
      "MEAN ABSOLUTE ERROR: 2802.8569526060246\n",
      "MEAN SQUARED ERROR: 15694469.611196134\n",
      "ROOT MEAN SQUARED ERROR: 3961.624617653234\n",
      "R2 SCORE: 0.2822911111634766\n"
     ]
    }
   ],
   "source": [
    "evaluate(model, X_train, y_train, X_test, y_test)"
   ]
  },
  {
   "cell_type": "markdown",
   "metadata": {},
   "source": [
    "#### Lasso"
   ]
  },
  {
   "cell_type": "code",
   "execution_count": 75,
   "metadata": {},
   "outputs": [
    {
     "name": "stdout",
     "output_type": "stream",
     "text": [
      "TRAIN\n",
      "MEAN ABSOLUTE ERROR: 2679.937005492601\n",
      "MEAN SQUARED ERROR: 14028324.948954837\n",
      "ROOT MEAN SQUARED ERROR: 3745.4405547218125\n",
      "R2 SCORE: 0.28701418443262106\n",
      "###############################\n",
      "TEST\n",
      "MEAN ABSOLUTE ERROR: 2802.8567031222433\n",
      "MEAN SQUARED ERROR: 15694527.628947483\n",
      "ROOT MEAN SQUARED ERROR: 3961.631940116028\n",
      "R2 SCORE: 0.282288458008774\n"
     ]
    }
   ],
   "source": [
    "param_grid = {\n",
    "    'alpha': [0.1, 0.01, 0.0001, 0.002, 0.00105, 0.000001]\n",
    "}\n",
    "lasso = Lasso()\n",
    "lasso_grid = GridSearchCV(lasso, param_grid=param_grid, \n",
    "                          scoring='neg_mean_squared_error',cv=10).fit(X_train, y_train)\n",
    "evaluate(lasso_grid, X_train, y_train, X_test, y_test)"
   ]
  },
  {
   "cell_type": "markdown",
   "metadata": {},
   "source": [
    "#### Ridge"
   ]
  },
  {
   "cell_type": "code",
   "execution_count": 76,
   "metadata": {},
   "outputs": [
    {
     "name": "stdout",
     "output_type": "stream",
     "text": [
      "TRAIN\n",
      "MEAN ABSOLUTE ERROR: 2677.709431345811\n",
      "MEAN SQUARED ERROR: 14035616.604166767\n",
      "ROOT MEAN SQUARED ERROR: 3746.4138324759006\n",
      "R2 SCORE: 0.28664358803162304\n",
      "###############################\n",
      "TEST\n",
      "MEAN ABSOLUTE ERROR: 2803.4146663992574\n",
      "MEAN SQUARED ERROR: 15737808.34722339\n",
      "ROOT MEAN SQUARED ERROR: 3967.090665364656\n",
      "R2 SCORE: 0.2803092285737322\n"
     ]
    }
   ],
   "source": [
    "ridge = Ridge()\n",
    "param_grid = {\n",
    "    'alpha': [12, 12.1, 12.2, 12.3, 11.9, 11.8],\n",
    "}\n",
    "ridge_grid = GridSearchCV(ridge, param_grid=param_grid, \n",
    "                          scoring='neg_mean_squared_error', \n",
    "                          cv=10).fit(X_train, y_train)\n",
    "evaluate(ridge_grid, X_train, y_train, X_test, y_test)"
   ]
  },
  {
   "cell_type": "markdown",
   "metadata": {},
   "source": [
    "#### SVR"
   ]
  },
  {
   "cell_type": "code",
   "execution_count": 77,
   "metadata": {},
   "outputs": [
    {
     "name": "stdout",
     "output_type": "stream",
     "text": [
      "TRAIN\n",
      "MEAN ABSOLUTE ERROR: 1816.440440999374\n",
      "MEAN SQUARED ERROR: 10382280.967570951\n",
      "ROOT MEAN SQUARED ERROR: 3222.154708820008\n",
      "R2 SCORE: 0.4723233821537076\n",
      "###############################\n",
      "TEST\n",
      "MEAN ABSOLUTE ERROR: 2069.361750585756\n",
      "MEAN SQUARED ERROR: 12754689.586279875\n",
      "ROOT MEAN SQUARED ERROR: 3571.3708273266548\n",
      "R2 SCORE: 0.41672740033895084\n"
     ]
    }
   ],
   "source": [
    "svr=SVR()\n",
    "param_grid={'C': [0.1, 1, 10, 100, 1000],\n",
    "              'gamma': [1, 0.1, 0.01, 0.001, 0.0001],\n",
    "              'kernel': ['rbf']}\n",
    "\n",
    "svr_grid = GridSearchCV(svr, param_grid=param_grid, \n",
    "                          scoring='neg_mean_squared_error', \n",
    "                          cv=10).fit(X_train, y_train)\n",
    "evaluate(svr_grid, X_train, y_train, X_test, y_test)\n"
   ]
  },
  {
   "cell_type": "markdown",
   "metadata": {},
   "source": [
    "#### KNeighborsRegressor"
   ]
  },
  {
   "cell_type": "code",
   "execution_count": 78,
   "metadata": {},
   "outputs": [
    {
     "name": "stdout",
     "output_type": "stream",
     "text": [
      "TRAIN\n",
      "MEAN ABSOLUTE ERROR: 1562.1705998681607\n",
      "MEAN SQUARED ERROR: 6302100.001674358\n",
      "ROOT MEAN SQUARED ERROR: 2510.398375093953\n",
      "R2 SCORE: 0.6796974745145363\n",
      "###############################\n",
      "TEST\n",
      "MEAN ABSOLUTE ERROR: 2064.165936178393\n",
      "MEAN SQUARED ERROR: 11228354.975809304\n",
      "ROOT MEAN SQUARED ERROR: 3350.873763036934\n",
      "R2 SCORE: 0.48652675924765054\n"
     ]
    }
   ],
   "source": [
    "model=KNeighborsRegressor()\n",
    "model.fit(X_train,y_train)\n",
    "evaluate(model, X_train, y_train, X_test, y_test)"
   ]
  },
  {
   "cell_type": "code",
   "execution_count": 79,
   "metadata": {},
   "outputs": [
    {
     "name": "stdout",
     "output_type": "stream",
     "text": [
      "TRAIN\n",
      "MEAN ABSOLUTE ERROR: 575.1712628807446\n",
      "MEAN SQUARED ERROR: 1074784.0436114403\n",
      "ROOT MEAN SQUARED ERROR: 1036.717919017242\n",
      "R2 SCORE: 0.9453743921186969\n",
      "###############################\n",
      "TEST\n",
      "MEAN ABSOLUTE ERROR: 1525.928537935145\n",
      "MEAN SQUARED ERROR: 7205409.602276727\n",
      "ROOT MEAN SQUARED ERROR: 2684.289403599531\n",
      "R2 SCORE: 0.6704962545804748\n"
     ]
    }
   ],
   "source": [
    "Rfr = RandomForestRegressor(random_state = 0)\n",
    "param_grid = {  'bootstrap': [True], \n",
    "              'max_depth': [5, 10, None], \n",
    "              'max_features': ['auto', 'log2'],\n",
    "              'n_estimators': [5, 6, 7, 8, 9, 10, 11, 12, 13, 15]\n",
    "             }\n",
    "\n",
    "random_grid= GridSearchCV(Rfr, param_grid=param_grid, scoring='neg_mean_squared_error',\n",
    "                          cv=10).fit(X_train, y_train)\n",
    "evaluate(random_grid, X_train, y_train, X_test, y_test)"
   ]
  },
  {
   "cell_type": "markdown",
   "metadata": {},
   "source": [
    "#### Conclusion:\n",
    "\n",
    "- Random forest regressor model gives the good R2 score\n",
    "\n",
    "- This model is our final model for predicting the test data."
   ]
  },
  {
   "cell_type": "markdown",
   "metadata": {},
   "source": [
    "#### Model Prediction"
   ]
  },
  {
   "cell_type": "code",
   "execution_count": 80,
   "metadata": {},
   "outputs": [
    {
     "name": "stdout",
     "output_type": "stream",
     "text": [
      "TRAIN\n",
      "MEAN ABSOLUTE ERROR: 575.1712628807446\n",
      "MEAN SQUARED ERROR: 1074784.0436114403\n",
      "ROOT MEAN SQUARED ERROR: 1036.717919017242\n",
      "R2 SCORE: 0.9453743921186969\n",
      "###############################\n",
      "TEST\n",
      "MEAN ABSOLUTE ERROR: 1525.928537935145\n",
      "MEAN SQUARED ERROR: 7205409.602276727\n",
      "ROOT MEAN SQUARED ERROR: 2684.289403599531\n",
      "R2 SCORE: 0.6704962545804748\n"
     ]
    }
   ],
   "source": [
    "evaluate(random_grid, X_train, y_train, X_test, y_test)"
   ]
  },
  {
   "cell_type": "code",
   "execution_count": 81,
   "metadata": {},
   "outputs": [],
   "source": [
    "pred = random_grid.predict(X_test)"
   ]
  },
  {
   "cell_type": "code",
   "execution_count": 89,
   "metadata": {},
   "outputs": [],
   "source": [
    "result = pd.DataFrame({'Price': pred})"
   ]
  },
  {
   "cell_type": "code",
   "execution_count": 90,
   "metadata": {},
   "outputs": [
    {
     "data": {
      "text/html": [
       "<div>\n",
       "<style scoped>\n",
       "    .dataframe tbody tr th:only-of-type {\n",
       "        vertical-align: middle;\n",
       "    }\n",
       "\n",
       "    .dataframe tbody tr th {\n",
       "        vertical-align: top;\n",
       "    }\n",
       "\n",
       "    .dataframe thead th {\n",
       "        text-align: right;\n",
       "    }\n",
       "</style>\n",
       "<table border=\"1\" class=\"dataframe\">\n",
       "  <thead>\n",
       "    <tr style=\"text-align: right;\">\n",
       "      <th></th>\n",
       "      <th>Price</th>\n",
       "    </tr>\n",
       "  </thead>\n",
       "  <tbody>\n",
       "    <tr>\n",
       "      <th>0</th>\n",
       "      <td>14517.866667</td>\n",
       "    </tr>\n",
       "    <tr>\n",
       "      <th>1</th>\n",
       "      <td>6354.133333</td>\n",
       "    </tr>\n",
       "    <tr>\n",
       "      <th>2</th>\n",
       "      <td>7327.866667</td>\n",
       "    </tr>\n",
       "    <tr>\n",
       "      <th>3</th>\n",
       "      <td>12735.333333</td>\n",
       "    </tr>\n",
       "    <tr>\n",
       "      <th>4</th>\n",
       "      <td>8220.533333</td>\n",
       "    </tr>\n",
       "  </tbody>\n",
       "</table>\n",
       "</div>"
      ],
      "text/plain": [
       "          Price\n",
       "0  14517.866667\n",
       "1   6354.133333\n",
       "2   7327.866667\n",
       "3  12735.333333\n",
       "4   8220.533333"
      ]
     },
     "execution_count": 90,
     "metadata": {},
     "output_type": "execute_result"
    }
   ],
   "source": [
    "result.head(5)"
   ]
  },
  {
   "cell_type": "code",
   "execution_count": 82,
   "metadata": {},
   "outputs": [
    {
     "data": {
      "text/plain": [
       "Text(0.5, 1.0, 'Predicted vs Actual Price Distribution')"
      ]
     },
     "execution_count": 82,
     "metadata": {},
     "output_type": "execute_result"
    },
    {
     "data": {
      "image/png": "[encoded data removed]",
      "text/plain": [
       "<Figure size 432x288 with 1 Axes>"
      ]
     },
     "metadata": {
      "needs_background": "light"
     },
     "output_type": "display_data"
    }
   ],
   "source": [
    "plt.scatter(pred,y_test,alpha=0.5)\n",
    "plt.xlabel('Predicted Price',fontsize=20)\n",
    "plt.ylabel('Actual Price',fontsize=20)\n",
    "plt.title('Predicted vs Actual Price Distribution')"
   ]
  },
  {
   "cell_type": "code",
   "execution_count": 91,
   "metadata": {},
   "outputs": [],
   "source": [
    "#Lets save the submission to csv\n",
    "result.to_csv(\"Flight_price_pred.csv\",index=False)"
   ]
  },
  {
   "cell_type": "markdown",
   "metadata": {},
   "source": [
    "#### Saving the model"
   ]
  },
  {
   "cell_type": "code",
   "execution_count": 92,
   "metadata": {},
   "outputs": [],
   "source": [
    "#saving the model\n",
    "import joblib\n",
    "model=joblib.dump(random_grid,'flight_price.obj')"
   ]
  },
  {
   "cell_type": "markdown",
   "metadata": {},
   "source": [
    "#### Conclusions :\n",
    "\n",
    "\n",
    "- The prediction of Flight price we find out that the  Price is Correlated with the \n",
    "    1. Duration of the flight\n",
    "    2. Number of stops between the flights\n",
    "    \n",
    "    \n",
    "- That Means if the Duration of the flight is more the price of the flights increases and also when the number of stops is more the price also increases in that case.\n",
    "\n",
    "- Airfares move in small increments .\n",
    "\n",
    "- The ticket-fares tend to go up with time.\n",
    "\n",
    "- Near the departure date flight prices are very high.\n",
    "\n",
    "- The best time to buy a cheap ticket to get less risk is to buy 10-20 days earlier of travelling date or more earlier than that 1 month before is also good.\n",
    "\n",
    "- Air India and vistara flights tickets are very expensive.\n",
    "\n",
    "- The early morning flights are less expensive, after that increases.\n",
    "\n",
    "- In this project we use different models like Linear Regression, Lasso, Ridge, SVR, KNN Regression and Random Forest Regression.\n",
    "\n",
    "- Here we select the RandomForestRegressor model for our final model training and testing as it gives the R2 score which is highest among the all models we choose.\n"
   ]
  },
  {
   "cell_type": "code",
   "execution_count": null,
   "metadata": {},
   "outputs": [],
   "source": []
  }
 ],
 "metadata": {
  "kernelspec": {
   "display_name": "Python 3",
   "language": "python",
   "name": "python3"
  },
  "language_info": {
   "codemirror_mode": {
    "name": "ipython",
    "version": 3
   },
   "file_extension": ".py",
   "mimetype": "text/x-python",
   "name": "python",
   "nbconvert_exporter": "python",
   "pygments_lexer": "ipython3",
   "version": "3.8.5"
  }
 },
 "nbformat": 4,
 "nbformat_minor": 4
}
