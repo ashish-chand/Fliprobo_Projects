{
 "cells": [
  {
   "cell_type": "code",
   "execution_count": 1,
   "metadata": {},
   "outputs": [],
   "source": [
    "#importing therequired libraries\n",
    "from bs4 import BeautifulSoup\n",
    "import requests\n",
    "import pandas as pd"
   ]
  },
  {
   "cell_type": "markdown",
   "metadata": {},
   "source": [
    "# 1.  Display all the header tags from ‘en.wikipedia.org/wiki/Main_Page’."
   ]
  },
  {
   "cell_type": "code",
   "execution_count": 2,
   "metadata": {
    "scrolled": true
   },
   "outputs": [],
   "source": [
    "page1 = requests.get(\"https://en.wikipedia.org/wiki/Main_Page\")\n",
    "Soup1 = BeautifulSoup(page1.content)"
   ]
  },
  {
   "cell_type": "code",
   "execution_count": 3,
   "metadata": {
    "scrolled": true
   },
   "outputs": [],
   "source": [
    "header= Soup1.find_all([\"h1\",\"h2\",\"h3\",\"h4\",\"h5\",\"h6\"])\n"
   ]
  },
  {
   "cell_type": "code",
   "execution_count": 4,
   "metadata": {
    "scrolled": true
   },
   "outputs": [
    {
     "data": {
      "text/plain": [
       "['Main Page',\n",
       " \"From today's featured article\",\n",
       " 'Did you know\\xa0...',\n",
       " 'In the news',\n",
       " 'On this day',\n",
       " \"Today's featured picture\",\n",
       " 'Other areas of Wikipedia',\n",
       " \"Wikipedia's sister projects\",\n",
       " 'Wikipedia languages',\n",
       " 'Navigation menu',\n",
       " 'Personal tools',\n",
       " 'Namespaces',\n",
       " 'Variants',\n",
       " 'Views',\n",
       " 'More',\n",
       " 'Search',\n",
       " 'Navigation',\n",
       " 'Contribute',\n",
       " 'Tools',\n",
       " 'Print/export',\n",
       " 'In other projects',\n",
       " 'Languages']"
      ]
     },
     "execution_count": 4,
     "metadata": {},
     "output_type": "execute_result"
    }
   ],
   "source": [
    "header_name =[]\n",
    "for i in header:\n",
    "    header_name.append(i.text.strip())\n",
    "header_name"
   ]
  },
  {
   "cell_type": "markdown",
   "metadata": {},
   "source": [
    "# 2.  display IMDB’s Top rated 100 movies’ data (i.e. Name, IMDB rating, Year of release) "
   ]
  },
  {
   "cell_type": "code",
   "execution_count": 5,
   "metadata": {},
   "outputs": [],
   "source": [
    "page2= requests.get('https://www.imdb.com/list/ls091520106/')\n",
    "soup2= BeautifulSoup(page2.content,'html.parser')\n"
   ]
  },
  {
   "cell_type": "markdown",
   "metadata": {},
   "source": [
    "### Movie Name"
   ]
  },
  {
   "cell_type": "code",
   "execution_count": 6,
   "metadata": {},
   "outputs": [],
   "source": [
    "movie= soup2.find_all('h3',class_=\"lister-item-header\")\n"
   ]
  },
  {
   "cell_type": "code",
   "execution_count": 7,
   "metadata": {
    "scrolled": true
   },
   "outputs": [
    {
     "data": {
      "text/plain": [
       "['The Shawshank Redemption',\n",
       " 'The Godfather',\n",
       " 'The Godfather: Part II',\n",
       " 'The Dark Knight',\n",
       " '12 Angry Men',\n",
       " \"Schindler's List\",\n",
       " 'The Lord of the Rings: The Return of the King',\n",
       " 'Pulp Fiction',\n",
       " 'Il buono, il brutto, il cattivo',\n",
       " 'Fight Club',\n",
       " 'Joker',\n",
       " 'The Lord of the Rings: The Fellowship of the Ring',\n",
       " 'Forrest Gump',\n",
       " 'Inception',\n",
       " 'Star Wars: Episode V - The Empire Strikes Back',\n",
       " 'The Lord of the Rings: The Two Towers',\n",
       " 'The Matrix',\n",
       " \"One Flew Over the Cuckoo's Nest\",\n",
       " 'Goodfellas',\n",
       " 'Shichinin no samurai',\n",
       " 'Se7en',\n",
       " 'Cidade de Deus',\n",
       " 'La vita è bella',\n",
       " 'The Silence of the Lambs',\n",
       " 'Star Wars',\n",
       " \"It's a Wonderful Life\",\n",
       " 'Saving Private Ryan',\n",
       " 'Sen to Chihiro no kamikakushi',\n",
       " 'The Green Mile',\n",
       " 'Léon',\n",
       " 'Seppuku',\n",
       " 'Interstellar',\n",
       " 'The Usual Suspects',\n",
       " 'The Lion King',\n",
       " 'American History X',\n",
       " 'Back to the Future',\n",
       " 'The Pianist',\n",
       " 'Modern Times',\n",
       " 'Terminator 2: Judgment Day',\n",
       " 'The Intouchables',\n",
       " 'Psycho',\n",
       " 'Gladiator',\n",
       " 'City Lights',\n",
       " 'The Departed',\n",
       " 'Whiplash',\n",
       " 'Once Upon a Time in the West',\n",
       " 'The Prestige',\n",
       " 'Avengers: Endgame',\n",
       " 'Casablanca',\n",
       " 'Hotaru no haka',\n",
       " 'Rear Window',\n",
       " 'Nuovo Cinema Paradiso',\n",
       " 'Alien',\n",
       " 'Raiders of the Lost Ark',\n",
       " 'Memento',\n",
       " 'Apocalypse Now',\n",
       " 'The Great Dictator',\n",
       " 'The Lives of Others',\n",
       " 'Avengers: Infinity War',\n",
       " 'Django Unchained',\n",
       " 'Spider-Man: Into the Spider-Verse',\n",
       " 'The Shining',\n",
       " 'Paths of Glory',\n",
       " 'WALL·E',\n",
       " 'Sunset Blvd.',\n",
       " 'Dr. Strangelove or: How I Learned to Stop Worrying and Love the Bomb',\n",
       " 'Mononoke-hime',\n",
       " 'Oldeuboi',\n",
       " 'Witness for the Prosecution',\n",
       " 'The Dark Knight Rises',\n",
       " 'Once Upon a Time in America',\n",
       " 'Gisaengchung',\n",
       " 'Aliens',\n",
       " 'American Beauty',\n",
       " 'Coco',\n",
       " 'Kimi no na wa.',\n",
       " 'Braveheart',\n",
       " 'Das Boot',\n",
       " '3 Idiots',\n",
       " 'Taare Zameen Par',\n",
       " 'Star Wars: Episode VI - Return of the Jedi',\n",
       " 'Toy Story',\n",
       " 'Reservoir Dogs',\n",
       " 'Amadeus',\n",
       " 'Dangal',\n",
       " 'Good Will Hunting',\n",
       " 'Inglourious Basterds',\n",
       " 'M - Eine Stadt sucht einen Mörder',\n",
       " 'Requiem for a Dream',\n",
       " '2001: A Space Odyssey',\n",
       " 'Vertigo',\n",
       " 'Eternal Sunshine of the Spotless Mind',\n",
       " 'Citizen Kane',\n",
       " 'Full Metal Jacket',\n",
       " 'Jagten',\n",
       " 'North by Northwest',\n",
       " 'A Clockwork Orange',\n",
       " 'Snatch',\n",
       " 'Amélie',\n",
       " 'The Kid']"
      ]
     },
     "execution_count": 7,
     "metadata": {},
     "output_type": "execute_result"
    }
   ],
   "source": [
    "movie_titles=[]\n",
    "for i in movie:\n",
    "    for j in i.find_all(\"a\"):\n",
    "        movie_titles.append(j.text.replace(\"\\n\",\"\"))\n",
    "movie_titles"
   ]
  },
  {
   "cell_type": "markdown",
   "metadata": {},
   "source": [
    "### IMDB rating"
   ]
  },
  {
   "cell_type": "code",
   "execution_count": 8,
   "metadata": {},
   "outputs": [
    {
     "data": {
      "text/plain": [
       "100"
      ]
     },
     "execution_count": 8,
     "metadata": {},
     "output_type": "execute_result"
    }
   ],
   "source": [
    "len(movie_titles)"
   ]
  },
  {
   "cell_type": "code",
   "execution_count": 9,
   "metadata": {},
   "outputs": [
    {
     "data": {
      "text/plain": [
       "[<div class=\"ipl-rating-star small\">\n",
       " <span class=\"ipl-rating-star__star\">\n",
       " <svg class=\"ipl-icon ipl-star-icon\" fill=\"#000000\" height=\"24\" viewbox=\"0 0 24 24\" width=\"24\" xmlns=\"http://www.w3.org/2000/svg\">\n",
       " <path d=\"M0 0h24v24H0z\" fill=\"none\"></path>\n",
       " <path d=\"M12 17.27L18.18 21l-1.64-7.03L22 9.24l-7.19-.61L12 2 9.19 8.63 2 9.24l5.46 4.73L5.82 21z\"></path>\n",
       " <path d=\"M0 0h24v24H0z\" fill=\"none\"></path>\n",
       " </svg>\n",
       " </span>\n",
       " <span class=\"ipl-rating-star__rating\">9.3</span>\n",
       " </div>,\n",
       " <div class=\"ipl-rating-star small\">\n",
       " <span class=\"ipl-rating-star__star\">\n",
       " <svg class=\"ipl-icon ipl-star-icon\" fill=\"#000000\" height=\"24\" viewbox=\"0 0 24 24\" width=\"24\" xmlns=\"http://www.w3.org/2000/svg\">\n",
       " <path d=\"M0 0h24v24H0z\" fill=\"none\"></path>\n",
       " <path d=\"M12 17.27L18.18 21l-1.64-7.03L22 9.24l-7.19-.61L12 2 9.19 8.63 2 9.24l5.46 4.73L5.82 21z\"></path>\n",
       " <path d=\"M0 0h24v24H0z\" fill=\"none\"></path>\n",
       " </svg>\n",
       " </span>\n",
       " <span class=\"ipl-rating-star__rating\">9.2</span>\n",
       " </div>,\n",
       " <div class=\"ipl-rating-star small\">\n",
       " <span class=\"ipl-rating-star__star\">\n",
       " <svg class=\"ipl-icon ipl-star-icon\" fill=\"#000000\" height=\"24\" viewbox=\"0 0 24 24\" width=\"24\" xmlns=\"http://www.w3.org/2000/svg\">\n",
       " <path d=\"M0 0h24v24H0z\" fill=\"none\"></path>\n",
       " <path d=\"M12 17.27L18.18 21l-1.64-7.03L22 9.24l-7.19-.61L12 2 9.19 8.63 2 9.24l5.46 4.73L5.82 21z\"></path>\n",
       " <path d=\"M0 0h24v24H0z\" fill=\"none\"></path>\n",
       " </svg>\n",
       " </span>\n",
       " <span class=\"ipl-rating-star__rating\">9</span>\n",
       " </div>,\n",
       " <div class=\"ipl-rating-star small\">\n",
       " <span class=\"ipl-rating-star__star\">\n",
       " <svg class=\"ipl-icon ipl-star-icon\" fill=\"#000000\" height=\"24\" viewbox=\"0 0 24 24\" width=\"24\" xmlns=\"http://www.w3.org/2000/svg\">\n",
       " <path d=\"M0 0h24v24H0z\" fill=\"none\"></path>\n",
       " <path d=\"M12 17.27L18.18 21l-1.64-7.03L22 9.24l-7.19-.61L12 2 9.19 8.63 2 9.24l5.46 4.73L5.82 21z\"></path>\n",
       " <path d=\"M0 0h24v24H0z\" fill=\"none\"></path>\n",
       " </svg>\n",
       " </span>\n",
       " <span class=\"ipl-rating-star__rating\">9</span>\n",
       " </div>,\n",
       " <div class=\"ipl-rating-star small\">\n",
       " <span class=\"ipl-rating-star__star\">\n",
       " <svg class=\"ipl-icon ipl-star-icon\" fill=\"#000000\" height=\"24\" viewbox=\"0 0 24 24\" width=\"24\" xmlns=\"http://www.w3.org/2000/svg\">\n",
       " <path d=\"M0 0h24v24H0z\" fill=\"none\"></path>\n",
       " <path d=\"M12 17.27L18.18 21l-1.64-7.03L22 9.24l-7.19-.61L12 2 9.19 8.63 2 9.24l5.46 4.73L5.82 21z\"></path>\n",
       " <path d=\"M0 0h24v24H0z\" fill=\"none\"></path>\n",
       " </svg>\n",
       " </span>\n",
       " <span class=\"ipl-rating-star__rating\">9</span>\n",
       " </div>,\n",
       " <div class=\"ipl-rating-star small\">\n",
       " <span class=\"ipl-rating-star__star\">\n",
       " <svg class=\"ipl-icon ipl-star-icon\" fill=\"#000000\" height=\"24\" viewbox=\"0 0 24 24\" width=\"24\" xmlns=\"http://www.w3.org/2000/svg\">\n",
       " <path d=\"M0 0h24v24H0z\" fill=\"none\"></path>\n",
       " <path d=\"M12 17.27L18.18 21l-1.64-7.03L22 9.24l-7.19-.61L12 2 9.19 8.63 2 9.24l5.46 4.73L5.82 21z\"></path>\n",
       " <path d=\"M0 0h24v24H0z\" fill=\"none\"></path>\n",
       " </svg>\n",
       " </span>\n",
       " <span class=\"ipl-rating-star__rating\">8.9</span>\n",
       " </div>,\n",
       " <div class=\"ipl-rating-star small\">\n",
       " <span class=\"ipl-rating-star__star\">\n",
       " <svg class=\"ipl-icon ipl-star-icon\" fill=\"#000000\" height=\"24\" viewbox=\"0 0 24 24\" width=\"24\" xmlns=\"http://www.w3.org/2000/svg\">\n",
       " <path d=\"M0 0h24v24H0z\" fill=\"none\"></path>\n",
       " <path d=\"M12 17.27L18.18 21l-1.64-7.03L22 9.24l-7.19-.61L12 2 9.19 8.63 2 9.24l5.46 4.73L5.82 21z\"></path>\n",
       " <path d=\"M0 0h24v24H0z\" fill=\"none\"></path>\n",
       " </svg>\n",
       " </span>\n",
       " <span class=\"ipl-rating-star__rating\">8.9</span>\n",
       " </div>,\n",
       " <div class=\"ipl-rating-star small\">\n",
       " <span class=\"ipl-rating-star__star\">\n",
       " <svg class=\"ipl-icon ipl-star-icon\" fill=\"#000000\" height=\"24\" viewbox=\"0 0 24 24\" width=\"24\" xmlns=\"http://www.w3.org/2000/svg\">\n",
       " <path d=\"M0 0h24v24H0z\" fill=\"none\"></path>\n",
       " <path d=\"M12 17.27L18.18 21l-1.64-7.03L22 9.24l-7.19-.61L12 2 9.19 8.63 2 9.24l5.46 4.73L5.82 21z\"></path>\n",
       " <path d=\"M0 0h24v24H0z\" fill=\"none\"></path>\n",
       " </svg>\n",
       " </span>\n",
       " <span class=\"ipl-rating-star__rating\">8.9</span>\n",
       " </div>,\n",
       " <div class=\"ipl-rating-star small\">\n",
       " <span class=\"ipl-rating-star__star\">\n",
       " <svg class=\"ipl-icon ipl-star-icon\" fill=\"#000000\" height=\"24\" viewbox=\"0 0 24 24\" width=\"24\" xmlns=\"http://www.w3.org/2000/svg\">\n",
       " <path d=\"M0 0h24v24H0z\" fill=\"none\"></path>\n",
       " <path d=\"M12 17.27L18.18 21l-1.64-7.03L22 9.24l-7.19-.61L12 2 9.19 8.63 2 9.24l5.46 4.73L5.82 21z\"></path>\n",
       " <path d=\"M0 0h24v24H0z\" fill=\"none\"></path>\n",
       " </svg>\n",
       " </span>\n",
       " <span class=\"ipl-rating-star__rating\">8.8</span>\n",
       " </div>,\n",
       " <div class=\"ipl-rating-star small\">\n",
       " <span class=\"ipl-rating-star__star\">\n",
       " <svg class=\"ipl-icon ipl-star-icon\" fill=\"#000000\" height=\"24\" viewbox=\"0 0 24 24\" width=\"24\" xmlns=\"http://www.w3.org/2000/svg\">\n",
       " <path d=\"M0 0h24v24H0z\" fill=\"none\"></path>\n",
       " <path d=\"M12 17.27L18.18 21l-1.64-7.03L22 9.24l-7.19-.61L12 2 9.19 8.63 2 9.24l5.46 4.73L5.82 21z\"></path>\n",
       " <path d=\"M0 0h24v24H0z\" fill=\"none\"></path>\n",
       " </svg>\n",
       " </span>\n",
       " <span class=\"ipl-rating-star__rating\">8.8</span>\n",
       " </div>,\n",
       " <div class=\"ipl-rating-star small\">\n",
       " <span class=\"ipl-rating-star__star\">\n",
       " <svg class=\"ipl-icon ipl-star-icon\" fill=\"#000000\" height=\"24\" viewbox=\"0 0 24 24\" width=\"24\" xmlns=\"http://www.w3.org/2000/svg\">\n",
       " <path d=\"M0 0h24v24H0z\" fill=\"none\"></path>\n",
       " <path d=\"M12 17.27L18.18 21l-1.64-7.03L22 9.24l-7.19-.61L12 2 9.19 8.63 2 9.24l5.46 4.73L5.82 21z\"></path>\n",
       " <path d=\"M0 0h24v24H0z\" fill=\"none\"></path>\n",
       " </svg>\n",
       " </span>\n",
       " <span class=\"ipl-rating-star__rating\">8.4</span>\n",
       " </div>,\n",
       " <div class=\"ipl-rating-star small\">\n",
       " <span class=\"ipl-rating-star__star\">\n",
       " <svg class=\"ipl-icon ipl-star-icon\" fill=\"#000000\" height=\"24\" viewbox=\"0 0 24 24\" width=\"24\" xmlns=\"http://www.w3.org/2000/svg\">\n",
       " <path d=\"M0 0h24v24H0z\" fill=\"none\"></path>\n",
       " <path d=\"M12 17.27L18.18 21l-1.64-7.03L22 9.24l-7.19-.61L12 2 9.19 8.63 2 9.24l5.46 4.73L5.82 21z\"></path>\n",
       " <path d=\"M0 0h24v24H0z\" fill=\"none\"></path>\n",
       " </svg>\n",
       " </span>\n",
       " <span class=\"ipl-rating-star__rating\">8.8</span>\n",
       " </div>,\n",
       " <div class=\"ipl-rating-star small\">\n",
       " <span class=\"ipl-rating-star__star\">\n",
       " <svg class=\"ipl-icon ipl-star-icon\" fill=\"#000000\" height=\"24\" viewbox=\"0 0 24 24\" width=\"24\" xmlns=\"http://www.w3.org/2000/svg\">\n",
       " <path d=\"M0 0h24v24H0z\" fill=\"none\"></path>\n",
       " <path d=\"M12 17.27L18.18 21l-1.64-7.03L22 9.24l-7.19-.61L12 2 9.19 8.63 2 9.24l5.46 4.73L5.82 21z\"></path>\n",
       " <path d=\"M0 0h24v24H0z\" fill=\"none\"></path>\n",
       " </svg>\n",
       " </span>\n",
       " <span class=\"ipl-rating-star__rating\">8.8</span>\n",
       " </div>,\n",
       " <div class=\"ipl-rating-star small\">\n",
       " <span class=\"ipl-rating-star__star\">\n",
       " <svg class=\"ipl-icon ipl-star-icon\" fill=\"#000000\" height=\"24\" viewbox=\"0 0 24 24\" width=\"24\" xmlns=\"http://www.w3.org/2000/svg\">\n",
       " <path d=\"M0 0h24v24H0z\" fill=\"none\"></path>\n",
       " <path d=\"M12 17.27L18.18 21l-1.64-7.03L22 9.24l-7.19-.61L12 2 9.19 8.63 2 9.24l5.46 4.73L5.82 21z\"></path>\n",
       " <path d=\"M0 0h24v24H0z\" fill=\"none\"></path>\n",
       " </svg>\n",
       " </span>\n",
       " <span class=\"ipl-rating-star__rating\">8.8</span>\n",
       " </div>,\n",
       " <div class=\"ipl-rating-star small\">\n",
       " <span class=\"ipl-rating-star__star\">\n",
       " <svg class=\"ipl-icon ipl-star-icon\" fill=\"#000000\" height=\"24\" viewbox=\"0 0 24 24\" width=\"24\" xmlns=\"http://www.w3.org/2000/svg\">\n",
       " <path d=\"M0 0h24v24H0z\" fill=\"none\"></path>\n",
       " <path d=\"M12 17.27L18.18 21l-1.64-7.03L22 9.24l-7.19-.61L12 2 9.19 8.63 2 9.24l5.46 4.73L5.82 21z\"></path>\n",
       " <path d=\"M0 0h24v24H0z\" fill=\"none\"></path>\n",
       " </svg>\n",
       " </span>\n",
       " <span class=\"ipl-rating-star__rating\">8.7</span>\n",
       " </div>,\n",
       " <div class=\"ipl-rating-star small\">\n",
       " <span class=\"ipl-rating-star__star\">\n",
       " <svg class=\"ipl-icon ipl-star-icon\" fill=\"#000000\" height=\"24\" viewbox=\"0 0 24 24\" width=\"24\" xmlns=\"http://www.w3.org/2000/svg\">\n",
       " <path d=\"M0 0h24v24H0z\" fill=\"none\"></path>\n",
       " <path d=\"M12 17.27L18.18 21l-1.64-7.03L22 9.24l-7.19-.61L12 2 9.19 8.63 2 9.24l5.46 4.73L5.82 21z\"></path>\n",
       " <path d=\"M0 0h24v24H0z\" fill=\"none\"></path>\n",
       " </svg>\n",
       " </span>\n",
       " <span class=\"ipl-rating-star__rating\">8.7</span>\n",
       " </div>,\n",
       " <div class=\"ipl-rating-star small\">\n",
       " <span class=\"ipl-rating-star__star\">\n",
       " <svg class=\"ipl-icon ipl-star-icon\" fill=\"#000000\" height=\"24\" viewbox=\"0 0 24 24\" width=\"24\" xmlns=\"http://www.w3.org/2000/svg\">\n",
       " <path d=\"M0 0h24v24H0z\" fill=\"none\"></path>\n",
       " <path d=\"M12 17.27L18.18 21l-1.64-7.03L22 9.24l-7.19-.61L12 2 9.19 8.63 2 9.24l5.46 4.73L5.82 21z\"></path>\n",
       " <path d=\"M0 0h24v24H0z\" fill=\"none\"></path>\n",
       " </svg>\n",
       " </span>\n",
       " <span class=\"ipl-rating-star__rating\">8.7</span>\n",
       " </div>,\n",
       " <div class=\"ipl-rating-star small\">\n",
       " <span class=\"ipl-rating-star__star\">\n",
       " <svg class=\"ipl-icon ipl-star-icon\" fill=\"#000000\" height=\"24\" viewbox=\"0 0 24 24\" width=\"24\" xmlns=\"http://www.w3.org/2000/svg\">\n",
       " <path d=\"M0 0h24v24H0z\" fill=\"none\"></path>\n",
       " <path d=\"M12 17.27L18.18 21l-1.64-7.03L22 9.24l-7.19-.61L12 2 9.19 8.63 2 9.24l5.46 4.73L5.82 21z\"></path>\n",
       " <path d=\"M0 0h24v24H0z\" fill=\"none\"></path>\n",
       " </svg>\n",
       " </span>\n",
       " <span class=\"ipl-rating-star__rating\">8.7</span>\n",
       " </div>,\n",
       " <div class=\"ipl-rating-star small\">\n",
       " <span class=\"ipl-rating-star__star\">\n",
       " <svg class=\"ipl-icon ipl-star-icon\" fill=\"#000000\" height=\"24\" viewbox=\"0 0 24 24\" width=\"24\" xmlns=\"http://www.w3.org/2000/svg\">\n",
       " <path d=\"M0 0h24v24H0z\" fill=\"none\"></path>\n",
       " <path d=\"M12 17.27L18.18 21l-1.64-7.03L22 9.24l-7.19-.61L12 2 9.19 8.63 2 9.24l5.46 4.73L5.82 21z\"></path>\n",
       " <path d=\"M0 0h24v24H0z\" fill=\"none\"></path>\n",
       " </svg>\n",
       " </span>\n",
       " <span class=\"ipl-rating-star__rating\">8.7</span>\n",
       " </div>,\n",
       " <div class=\"ipl-rating-star small\">\n",
       " <span class=\"ipl-rating-star__star\">\n",
       " <svg class=\"ipl-icon ipl-star-icon\" fill=\"#000000\" height=\"24\" viewbox=\"0 0 24 24\" width=\"24\" xmlns=\"http://www.w3.org/2000/svg\">\n",
       " <path d=\"M0 0h24v24H0z\" fill=\"none\"></path>\n",
       " <path d=\"M12 17.27L18.18 21l-1.64-7.03L22 9.24l-7.19-.61L12 2 9.19 8.63 2 9.24l5.46 4.73L5.82 21z\"></path>\n",
       " <path d=\"M0 0h24v24H0z\" fill=\"none\"></path>\n",
       " </svg>\n",
       " </span>\n",
       " <span class=\"ipl-rating-star__rating\">8.6</span>\n",
       " </div>,\n",
       " <div class=\"ipl-rating-star small\">\n",
       " <span class=\"ipl-rating-star__star\">\n",
       " <svg class=\"ipl-icon ipl-star-icon\" fill=\"#000000\" height=\"24\" viewbox=\"0 0 24 24\" width=\"24\" xmlns=\"http://www.w3.org/2000/svg\">\n",
       " <path d=\"M0 0h24v24H0z\" fill=\"none\"></path>\n",
       " <path d=\"M12 17.27L18.18 21l-1.64-7.03L22 9.24l-7.19-.61L12 2 9.19 8.63 2 9.24l5.46 4.73L5.82 21z\"></path>\n",
       " <path d=\"M0 0h24v24H0z\" fill=\"none\"></path>\n",
       " </svg>\n",
       " </span>\n",
       " <span class=\"ipl-rating-star__rating\">8.6</span>\n",
       " </div>,\n",
       " <div class=\"ipl-rating-star small\">\n",
       " <span class=\"ipl-rating-star__star\">\n",
       " <svg class=\"ipl-icon ipl-star-icon\" fill=\"#000000\" height=\"24\" viewbox=\"0 0 24 24\" width=\"24\" xmlns=\"http://www.w3.org/2000/svg\">\n",
       " <path d=\"M0 0h24v24H0z\" fill=\"none\"></path>\n",
       " <path d=\"M12 17.27L18.18 21l-1.64-7.03L22 9.24l-7.19-.61L12 2 9.19 8.63 2 9.24l5.46 4.73L5.82 21z\"></path>\n",
       " <path d=\"M0 0h24v24H0z\" fill=\"none\"></path>\n",
       " </svg>\n",
       " </span>\n",
       " <span class=\"ipl-rating-star__rating\">8.6</span>\n",
       " </div>,\n",
       " <div class=\"ipl-rating-star small\">\n",
       " <span class=\"ipl-rating-star__star\">\n",
       " <svg class=\"ipl-icon ipl-star-icon\" fill=\"#000000\" height=\"24\" viewbox=\"0 0 24 24\" width=\"24\" xmlns=\"http://www.w3.org/2000/svg\">\n",
       " <path d=\"M0 0h24v24H0z\" fill=\"none\"></path>\n",
       " <path d=\"M12 17.27L18.18 21l-1.64-7.03L22 9.24l-7.19-.61L12 2 9.19 8.63 2 9.24l5.46 4.73L5.82 21z\"></path>\n",
       " <path d=\"M0 0h24v24H0z\" fill=\"none\"></path>\n",
       " </svg>\n",
       " </span>\n",
       " <span class=\"ipl-rating-star__rating\">8.6</span>\n",
       " </div>,\n",
       " <div class=\"ipl-rating-star small\">\n",
       " <span class=\"ipl-rating-star__star\">\n",
       " <svg class=\"ipl-icon ipl-star-icon\" fill=\"#000000\" height=\"24\" viewbox=\"0 0 24 24\" width=\"24\" xmlns=\"http://www.w3.org/2000/svg\">\n",
       " <path d=\"M0 0h24v24H0z\" fill=\"none\"></path>\n",
       " <path d=\"M12 17.27L18.18 21l-1.64-7.03L22 9.24l-7.19-.61L12 2 9.19 8.63 2 9.24l5.46 4.73L5.82 21z\"></path>\n",
       " <path d=\"M0 0h24v24H0z\" fill=\"none\"></path>\n",
       " </svg>\n",
       " </span>\n",
       " <span class=\"ipl-rating-star__rating\">8.6</span>\n",
       " </div>,\n",
       " <div class=\"ipl-rating-star small\">\n",
       " <span class=\"ipl-rating-star__star\">\n",
       " <svg class=\"ipl-icon ipl-star-icon\" fill=\"#000000\" height=\"24\" viewbox=\"0 0 24 24\" width=\"24\" xmlns=\"http://www.w3.org/2000/svg\">\n",
       " <path d=\"M0 0h24v24H0z\" fill=\"none\"></path>\n",
       " <path d=\"M12 17.27L18.18 21l-1.64-7.03L22 9.24l-7.19-.61L12 2 9.19 8.63 2 9.24l5.46 4.73L5.82 21z\"></path>\n",
       " <path d=\"M0 0h24v24H0z\" fill=\"none\"></path>\n",
       " </svg>\n",
       " </span>\n",
       " <span class=\"ipl-rating-star__rating\">8.6</span>\n",
       " </div>,\n",
       " <div class=\"ipl-rating-star small\">\n",
       " <span class=\"ipl-rating-star__star\">\n",
       " <svg class=\"ipl-icon ipl-star-icon\" fill=\"#000000\" height=\"24\" viewbox=\"0 0 24 24\" width=\"24\" xmlns=\"http://www.w3.org/2000/svg\">\n",
       " <path d=\"M0 0h24v24H0z\" fill=\"none\"></path>\n",
       " <path d=\"M12 17.27L18.18 21l-1.64-7.03L22 9.24l-7.19-.61L12 2 9.19 8.63 2 9.24l5.46 4.73L5.82 21z\"></path>\n",
       " <path d=\"M0 0h24v24H0z\" fill=\"none\"></path>\n",
       " </svg>\n",
       " </span>\n",
       " <span class=\"ipl-rating-star__rating\">8.6</span>\n",
       " </div>,\n",
       " <div class=\"ipl-rating-star small\">\n",
       " <span class=\"ipl-rating-star__star\">\n",
       " <svg class=\"ipl-icon ipl-star-icon\" fill=\"#000000\" height=\"24\" viewbox=\"0 0 24 24\" width=\"24\" xmlns=\"http://www.w3.org/2000/svg\">\n",
       " <path d=\"M0 0h24v24H0z\" fill=\"none\"></path>\n",
       " <path d=\"M12 17.27L18.18 21l-1.64-7.03L22 9.24l-7.19-.61L12 2 9.19 8.63 2 9.24l5.46 4.73L5.82 21z\"></path>\n",
       " <path d=\"M0 0h24v24H0z\" fill=\"none\"></path>\n",
       " </svg>\n",
       " </span>\n",
       " <span class=\"ipl-rating-star__rating\">8.6</span>\n",
       " </div>,\n",
       " <div class=\"ipl-rating-star small\">\n",
       " <span class=\"ipl-rating-star__star\">\n",
       " <svg class=\"ipl-icon ipl-star-icon\" fill=\"#000000\" height=\"24\" viewbox=\"0 0 24 24\" width=\"24\" xmlns=\"http://www.w3.org/2000/svg\">\n",
       " <path d=\"M0 0h24v24H0z\" fill=\"none\"></path>\n",
       " <path d=\"M12 17.27L18.18 21l-1.64-7.03L22 9.24l-7.19-.61L12 2 9.19 8.63 2 9.24l5.46 4.73L5.82 21z\"></path>\n",
       " <path d=\"M0 0h24v24H0z\" fill=\"none\"></path>\n",
       " </svg>\n",
       " </span>\n",
       " <span class=\"ipl-rating-star__rating\">8.6</span>\n",
       " </div>,\n",
       " <div class=\"ipl-rating-star small\">\n",
       " <span class=\"ipl-rating-star__star\">\n",
       " <svg class=\"ipl-icon ipl-star-icon\" fill=\"#000000\" height=\"24\" viewbox=\"0 0 24 24\" width=\"24\" xmlns=\"http://www.w3.org/2000/svg\">\n",
       " <path d=\"M0 0h24v24H0z\" fill=\"none\"></path>\n",
       " <path d=\"M12 17.27L18.18 21l-1.64-7.03L22 9.24l-7.19-.61L12 2 9.19 8.63 2 9.24l5.46 4.73L5.82 21z\"></path>\n",
       " <path d=\"M0 0h24v24H0z\" fill=\"none\"></path>\n",
       " </svg>\n",
       " </span>\n",
       " <span class=\"ipl-rating-star__rating\">8.6</span>\n",
       " </div>,\n",
       " <div class=\"ipl-rating-star small\">\n",
       " <span class=\"ipl-rating-star__star\">\n",
       " <svg class=\"ipl-icon ipl-star-icon\" fill=\"#000000\" height=\"24\" viewbox=\"0 0 24 24\" width=\"24\" xmlns=\"http://www.w3.org/2000/svg\">\n",
       " <path d=\"M0 0h24v24H0z\" fill=\"none\"></path>\n",
       " <path d=\"M12 17.27L18.18 21l-1.64-7.03L22 9.24l-7.19-.61L12 2 9.19 8.63 2 9.24l5.46 4.73L5.82 21z\"></path>\n",
       " <path d=\"M0 0h24v24H0z\" fill=\"none\"></path>\n",
       " </svg>\n",
       " </span>\n",
       " <span class=\"ipl-rating-star__rating\">8.5</span>\n",
       " </div>,\n",
       " <div class=\"ipl-rating-star small\">\n",
       " <span class=\"ipl-rating-star__star\">\n",
       " <svg class=\"ipl-icon ipl-star-icon\" fill=\"#000000\" height=\"24\" viewbox=\"0 0 24 24\" width=\"24\" xmlns=\"http://www.w3.org/2000/svg\">\n",
       " <path d=\"M0 0h24v24H0z\" fill=\"none\"></path>\n",
       " <path d=\"M12 17.27L18.18 21l-1.64-7.03L22 9.24l-7.19-.61L12 2 9.19 8.63 2 9.24l5.46 4.73L5.82 21z\"></path>\n",
       " <path d=\"M0 0h24v24H0z\" fill=\"none\"></path>\n",
       " </svg>\n",
       " </span>\n",
       " <span class=\"ipl-rating-star__rating\">8.6</span>\n",
       " </div>,\n",
       " <div class=\"ipl-rating-star small\">\n",
       " <span class=\"ipl-rating-star__star\">\n",
       " <svg class=\"ipl-icon ipl-star-icon\" fill=\"#000000\" height=\"24\" viewbox=\"0 0 24 24\" width=\"24\" xmlns=\"http://www.w3.org/2000/svg\">\n",
       " <path d=\"M0 0h24v24H0z\" fill=\"none\"></path>\n",
       " <path d=\"M12 17.27L18.18 21l-1.64-7.03L22 9.24l-7.19-.61L12 2 9.19 8.63 2 9.24l5.46 4.73L5.82 21z\"></path>\n",
       " <path d=\"M0 0h24v24H0z\" fill=\"none\"></path>\n",
       " </svg>\n",
       " </span>\n",
       " <span class=\"ipl-rating-star__rating\">8.6</span>\n",
       " </div>,\n",
       " <div class=\"ipl-rating-star small\">\n",
       " <span class=\"ipl-rating-star__star\">\n",
       " <svg class=\"ipl-icon ipl-star-icon\" fill=\"#000000\" height=\"24\" viewbox=\"0 0 24 24\" width=\"24\" xmlns=\"http://www.w3.org/2000/svg\">\n",
       " <path d=\"M0 0h24v24H0z\" fill=\"none\"></path>\n",
       " <path d=\"M12 17.27L18.18 21l-1.64-7.03L22 9.24l-7.19-.61L12 2 9.19 8.63 2 9.24l5.46 4.73L5.82 21z\"></path>\n",
       " <path d=\"M0 0h24v24H0z\" fill=\"none\"></path>\n",
       " </svg>\n",
       " </span>\n",
       " <span class=\"ipl-rating-star__rating\">8.5</span>\n",
       " </div>,\n",
       " <div class=\"ipl-rating-star small\">\n",
       " <span class=\"ipl-rating-star__star\">\n",
       " <svg class=\"ipl-icon ipl-star-icon\" fill=\"#000000\" height=\"24\" viewbox=\"0 0 24 24\" width=\"24\" xmlns=\"http://www.w3.org/2000/svg\">\n",
       " <path d=\"M0 0h24v24H0z\" fill=\"none\"></path>\n",
       " <path d=\"M12 17.27L18.18 21l-1.64-7.03L22 9.24l-7.19-.61L12 2 9.19 8.63 2 9.24l5.46 4.73L5.82 21z\"></path>\n",
       " <path d=\"M0 0h24v24H0z\" fill=\"none\"></path>\n",
       " </svg>\n",
       " </span>\n",
       " <span class=\"ipl-rating-star__rating\">8.5</span>\n",
       " </div>,\n",
       " <div class=\"ipl-rating-star small\">\n",
       " <span class=\"ipl-rating-star__star\">\n",
       " <svg class=\"ipl-icon ipl-star-icon\" fill=\"#000000\" height=\"24\" viewbox=\"0 0 24 24\" width=\"24\" xmlns=\"http://www.w3.org/2000/svg\">\n",
       " <path d=\"M0 0h24v24H0z\" fill=\"none\"></path>\n",
       " <path d=\"M12 17.27L18.18 21l-1.64-7.03L22 9.24l-7.19-.61L12 2 9.19 8.63 2 9.24l5.46 4.73L5.82 21z\"></path>\n",
       " <path d=\"M0 0h24v24H0z\" fill=\"none\"></path>\n",
       " </svg>\n",
       " </span>\n",
       " <span class=\"ipl-rating-star__rating\">8.5</span>\n",
       " </div>,\n",
       " <div class=\"ipl-rating-star small\">\n",
       " <span class=\"ipl-rating-star__star\">\n",
       " <svg class=\"ipl-icon ipl-star-icon\" fill=\"#000000\" height=\"24\" viewbox=\"0 0 24 24\" width=\"24\" xmlns=\"http://www.w3.org/2000/svg\">\n",
       " <path d=\"M0 0h24v24H0z\" fill=\"none\"></path>\n",
       " <path d=\"M12 17.27L18.18 21l-1.64-7.03L22 9.24l-7.19-.61L12 2 9.19 8.63 2 9.24l5.46 4.73L5.82 21z\"></path>\n",
       " <path d=\"M0 0h24v24H0z\" fill=\"none\"></path>\n",
       " </svg>\n",
       " </span>\n",
       " <span class=\"ipl-rating-star__rating\">8.5</span>\n",
       " </div>,\n",
       " <div class=\"ipl-rating-star small\">\n",
       " <span class=\"ipl-rating-star__star\">\n",
       " <svg class=\"ipl-icon ipl-star-icon\" fill=\"#000000\" height=\"24\" viewbox=\"0 0 24 24\" width=\"24\" xmlns=\"http://www.w3.org/2000/svg\">\n",
       " <path d=\"M0 0h24v24H0z\" fill=\"none\"></path>\n",
       " <path d=\"M12 17.27L18.18 21l-1.64-7.03L22 9.24l-7.19-.61L12 2 9.19 8.63 2 9.24l5.46 4.73L5.82 21z\"></path>\n",
       " <path d=\"M0 0h24v24H0z\" fill=\"none\"></path>\n",
       " </svg>\n",
       " </span>\n",
       " <span class=\"ipl-rating-star__rating\">8.5</span>\n",
       " </div>,\n",
       " <div class=\"ipl-rating-star small\">\n",
       " <span class=\"ipl-rating-star__star\">\n",
       " <svg class=\"ipl-icon ipl-star-icon\" fill=\"#000000\" height=\"24\" viewbox=\"0 0 24 24\" width=\"24\" xmlns=\"http://www.w3.org/2000/svg\">\n",
       " <path d=\"M0 0h24v24H0z\" fill=\"none\"></path>\n",
       " <path d=\"M12 17.27L18.18 21l-1.64-7.03L22 9.24l-7.19-.61L12 2 9.19 8.63 2 9.24l5.46 4.73L5.82 21z\"></path>\n",
       " <path d=\"M0 0h24v24H0z\" fill=\"none\"></path>\n",
       " </svg>\n",
       " </span>\n",
       " <span class=\"ipl-rating-star__rating\">8.5</span>\n",
       " </div>,\n",
       " <div class=\"ipl-rating-star small\">\n",
       " <span class=\"ipl-rating-star__star\">\n",
       " <svg class=\"ipl-icon ipl-star-icon\" fill=\"#000000\" height=\"24\" viewbox=\"0 0 24 24\" width=\"24\" xmlns=\"http://www.w3.org/2000/svg\">\n",
       " <path d=\"M0 0h24v24H0z\" fill=\"none\"></path>\n",
       " <path d=\"M12 17.27L18.18 21l-1.64-7.03L22 9.24l-7.19-.61L12 2 9.19 8.63 2 9.24l5.46 4.73L5.82 21z\"></path>\n",
       " <path d=\"M0 0h24v24H0z\" fill=\"none\"></path>\n",
       " </svg>\n",
       " </span>\n",
       " <span class=\"ipl-rating-star__rating\">8.5</span>\n",
       " </div>,\n",
       " <div class=\"ipl-rating-star small\">\n",
       " <span class=\"ipl-rating-star__star\">\n",
       " <svg class=\"ipl-icon ipl-star-icon\" fill=\"#000000\" height=\"24\" viewbox=\"0 0 24 24\" width=\"24\" xmlns=\"http://www.w3.org/2000/svg\">\n",
       " <path d=\"M0 0h24v24H0z\" fill=\"none\"></path>\n",
       " <path d=\"M12 17.27L18.18 21l-1.64-7.03L22 9.24l-7.19-.61L12 2 9.19 8.63 2 9.24l5.46 4.73L5.82 21z\"></path>\n",
       " <path d=\"M0 0h24v24H0z\" fill=\"none\"></path>\n",
       " </svg>\n",
       " </span>\n",
       " <span class=\"ipl-rating-star__rating\">8.5</span>\n",
       " </div>,\n",
       " <div class=\"ipl-rating-star small\">\n",
       " <span class=\"ipl-rating-star__star\">\n",
       " <svg class=\"ipl-icon ipl-star-icon\" fill=\"#000000\" height=\"24\" viewbox=\"0 0 24 24\" width=\"24\" xmlns=\"http://www.w3.org/2000/svg\">\n",
       " <path d=\"M0 0h24v24H0z\" fill=\"none\"></path>\n",
       " <path d=\"M12 17.27L18.18 21l-1.64-7.03L22 9.24l-7.19-.61L12 2 9.19 8.63 2 9.24l5.46 4.73L5.82 21z\"></path>\n",
       " <path d=\"M0 0h24v24H0z\" fill=\"none\"></path>\n",
       " </svg>\n",
       " </span>\n",
       " <span class=\"ipl-rating-star__rating\">8.5</span>\n",
       " </div>,\n",
       " <div class=\"ipl-rating-star small\">\n",
       " <span class=\"ipl-rating-star__star\">\n",
       " <svg class=\"ipl-icon ipl-star-icon\" fill=\"#000000\" height=\"24\" viewbox=\"0 0 24 24\" width=\"24\" xmlns=\"http://www.w3.org/2000/svg\">\n",
       " <path d=\"M0 0h24v24H0z\" fill=\"none\"></path>\n",
       " <path d=\"M12 17.27L18.18 21l-1.64-7.03L22 9.24l-7.19-.61L12 2 9.19 8.63 2 9.24l5.46 4.73L5.82 21z\"></path>\n",
       " <path d=\"M0 0h24v24H0z\" fill=\"none\"></path>\n",
       " </svg>\n",
       " </span>\n",
       " <span class=\"ipl-rating-star__rating\">8.5</span>\n",
       " </div>,\n",
       " <div class=\"ipl-rating-star small\">\n",
       " <span class=\"ipl-rating-star__star\">\n",
       " <svg class=\"ipl-icon ipl-star-icon\" fill=\"#000000\" height=\"24\" viewbox=\"0 0 24 24\" width=\"24\" xmlns=\"http://www.w3.org/2000/svg\">\n",
       " <path d=\"M0 0h24v24H0z\" fill=\"none\"></path>\n",
       " <path d=\"M12 17.27L18.18 21l-1.64-7.03L22 9.24l-7.19-.61L12 2 9.19 8.63 2 9.24l5.46 4.73L5.82 21z\"></path>\n",
       " <path d=\"M0 0h24v24H0z\" fill=\"none\"></path>\n",
       " </svg>\n",
       " </span>\n",
       " <span class=\"ipl-rating-star__rating\">8.5</span>\n",
       " </div>,\n",
       " <div class=\"ipl-rating-star small\">\n",
       " <span class=\"ipl-rating-star__star\">\n",
       " <svg class=\"ipl-icon ipl-star-icon\" fill=\"#000000\" height=\"24\" viewbox=\"0 0 24 24\" width=\"24\" xmlns=\"http://www.w3.org/2000/svg\">\n",
       " <path d=\"M0 0h24v24H0z\" fill=\"none\"></path>\n",
       " <path d=\"M12 17.27L18.18 21l-1.64-7.03L22 9.24l-7.19-.61L12 2 9.19 8.63 2 9.24l5.46 4.73L5.82 21z\"></path>\n",
       " <path d=\"M0 0h24v24H0z\" fill=\"none\"></path>\n",
       " </svg>\n",
       " </span>\n",
       " <span class=\"ipl-rating-star__rating\">8.5</span>\n",
       " </div>,\n",
       " <div class=\"ipl-rating-star small\">\n",
       " <span class=\"ipl-rating-star__star\">\n",
       " <svg class=\"ipl-icon ipl-star-icon\" fill=\"#000000\" height=\"24\" viewbox=\"0 0 24 24\" width=\"24\" xmlns=\"http://www.w3.org/2000/svg\">\n",
       " <path d=\"M0 0h24v24H0z\" fill=\"none\"></path>\n",
       " <path d=\"M12 17.27L18.18 21l-1.64-7.03L22 9.24l-7.19-.61L12 2 9.19 8.63 2 9.24l5.46 4.73L5.82 21z\"></path>\n",
       " <path d=\"M0 0h24v24H0z\" fill=\"none\"></path>\n",
       " </svg>\n",
       " </span>\n",
       " <span class=\"ipl-rating-star__rating\">8.5</span>\n",
       " </div>,\n",
       " <div class=\"ipl-rating-star small\">\n",
       " <span class=\"ipl-rating-star__star\">\n",
       " <svg class=\"ipl-icon ipl-star-icon\" fill=\"#000000\" height=\"24\" viewbox=\"0 0 24 24\" width=\"24\" xmlns=\"http://www.w3.org/2000/svg\">\n",
       " <path d=\"M0 0h24v24H0z\" fill=\"none\"></path>\n",
       " <path d=\"M12 17.27L18.18 21l-1.64-7.03L22 9.24l-7.19-.61L12 2 9.19 8.63 2 9.24l5.46 4.73L5.82 21z\"></path>\n",
       " <path d=\"M0 0h24v24H0z\" fill=\"none\"></path>\n",
       " </svg>\n",
       " </span>\n",
       " <span class=\"ipl-rating-star__rating\">8.5</span>\n",
       " </div>,\n",
       " <div class=\"ipl-rating-star small\">\n",
       " <span class=\"ipl-rating-star__star\">\n",
       " <svg class=\"ipl-icon ipl-star-icon\" fill=\"#000000\" height=\"24\" viewbox=\"0 0 24 24\" width=\"24\" xmlns=\"http://www.w3.org/2000/svg\">\n",
       " <path d=\"M0 0h24v24H0z\" fill=\"none\"></path>\n",
       " <path d=\"M12 17.27L18.18 21l-1.64-7.03L22 9.24l-7.19-.61L12 2 9.19 8.63 2 9.24l5.46 4.73L5.82 21z\"></path>\n",
       " <path d=\"M0 0h24v24H0z\" fill=\"none\"></path>\n",
       " </svg>\n",
       " </span>\n",
       " <span class=\"ipl-rating-star__rating\">8.5</span>\n",
       " </div>,\n",
       " <div class=\"ipl-rating-star small\">\n",
       " <span class=\"ipl-rating-star__star\">\n",
       " <svg class=\"ipl-icon ipl-star-icon\" fill=\"#000000\" height=\"24\" viewbox=\"0 0 24 24\" width=\"24\" xmlns=\"http://www.w3.org/2000/svg\">\n",
       " <path d=\"M0 0h24v24H0z\" fill=\"none\"></path>\n",
       " <path d=\"M12 17.27L18.18 21l-1.64-7.03L22 9.24l-7.19-.61L12 2 9.19 8.63 2 9.24l5.46 4.73L5.82 21z\"></path>\n",
       " <path d=\"M0 0h24v24H0z\" fill=\"none\"></path>\n",
       " </svg>\n",
       " </span>\n",
       " <span class=\"ipl-rating-star__rating\">8.4</span>\n",
       " </div>,\n",
       " <div class=\"ipl-rating-star small\">\n",
       " <span class=\"ipl-rating-star__star\">\n",
       " <svg class=\"ipl-icon ipl-star-icon\" fill=\"#000000\" height=\"24\" viewbox=\"0 0 24 24\" width=\"24\" xmlns=\"http://www.w3.org/2000/svg\">\n",
       " <path d=\"M0 0h24v24H0z\" fill=\"none\"></path>\n",
       " <path d=\"M12 17.27L18.18 21l-1.64-7.03L22 9.24l-7.19-.61L12 2 9.19 8.63 2 9.24l5.46 4.73L5.82 21z\"></path>\n",
       " <path d=\"M0 0h24v24H0z\" fill=\"none\"></path>\n",
       " </svg>\n",
       " </span>\n",
       " <span class=\"ipl-rating-star__rating\">8.5</span>\n",
       " </div>,\n",
       " <div class=\"ipl-rating-star small\">\n",
       " <span class=\"ipl-rating-star__star\">\n",
       " <svg class=\"ipl-icon ipl-star-icon\" fill=\"#000000\" height=\"24\" viewbox=\"0 0 24 24\" width=\"24\" xmlns=\"http://www.w3.org/2000/svg\">\n",
       " <path d=\"M0 0h24v24H0z\" fill=\"none\"></path>\n",
       " <path d=\"M12 17.27L18.18 21l-1.64-7.03L22 9.24l-7.19-.61L12 2 9.19 8.63 2 9.24l5.46 4.73L5.82 21z\"></path>\n",
       " <path d=\"M0 0h24v24H0z\" fill=\"none\"></path>\n",
       " </svg>\n",
       " </span>\n",
       " <span class=\"ipl-rating-star__rating\">8.5</span>\n",
       " </div>,\n",
       " <div class=\"ipl-rating-star small\">\n",
       " <span class=\"ipl-rating-star__star\">\n",
       " <svg class=\"ipl-icon ipl-star-icon\" fill=\"#000000\" height=\"24\" viewbox=\"0 0 24 24\" width=\"24\" xmlns=\"http://www.w3.org/2000/svg\">\n",
       " <path d=\"M0 0h24v24H0z\" fill=\"none\"></path>\n",
       " <path d=\"M12 17.27L18.18 21l-1.64-7.03L22 9.24l-7.19-.61L12 2 9.19 8.63 2 9.24l5.46 4.73L5.82 21z\"></path>\n",
       " <path d=\"M0 0h24v24H0z\" fill=\"none\"></path>\n",
       " </svg>\n",
       " </span>\n",
       " <span class=\"ipl-rating-star__rating\">8.5</span>\n",
       " </div>,\n",
       " <div class=\"ipl-rating-star small\">\n",
       " <span class=\"ipl-rating-star__star\">\n",
       " <svg class=\"ipl-icon ipl-star-icon\" fill=\"#000000\" height=\"24\" viewbox=\"0 0 24 24\" width=\"24\" xmlns=\"http://www.w3.org/2000/svg\">\n",
       " <path d=\"M0 0h24v24H0z\" fill=\"none\"></path>\n",
       " <path d=\"M12 17.27L18.18 21l-1.64-7.03L22 9.24l-7.19-.61L12 2 9.19 8.63 2 9.24l5.46 4.73L5.82 21z\"></path>\n",
       " <path d=\"M0 0h24v24H0z\" fill=\"none\"></path>\n",
       " </svg>\n",
       " </span>\n",
       " <span class=\"ipl-rating-star__rating\">8.5</span>\n",
       " </div>,\n",
       " <div class=\"ipl-rating-star small\">\n",
       " <span class=\"ipl-rating-star__star\">\n",
       " <svg class=\"ipl-icon ipl-star-icon\" fill=\"#000000\" height=\"24\" viewbox=\"0 0 24 24\" width=\"24\" xmlns=\"http://www.w3.org/2000/svg\">\n",
       " <path d=\"M0 0h24v24H0z\" fill=\"none\"></path>\n",
       " <path d=\"M12 17.27L18.18 21l-1.64-7.03L22 9.24l-7.19-.61L12 2 9.19 8.63 2 9.24l5.46 4.73L5.82 21z\"></path>\n",
       " <path d=\"M0 0h24v24H0z\" fill=\"none\"></path>\n",
       " </svg>\n",
       " </span>\n",
       " <span class=\"ipl-rating-star__rating\">8.4</span>\n",
       " </div>,\n",
       " <div class=\"ipl-rating-star small\">\n",
       " <span class=\"ipl-rating-star__star\">\n",
       " <svg class=\"ipl-icon ipl-star-icon\" fill=\"#000000\" height=\"24\" viewbox=\"0 0 24 24\" width=\"24\" xmlns=\"http://www.w3.org/2000/svg\">\n",
       " <path d=\"M0 0h24v24H0z\" fill=\"none\"></path>\n",
       " <path d=\"M12 17.27L18.18 21l-1.64-7.03L22 9.24l-7.19-.61L12 2 9.19 8.63 2 9.24l5.46 4.73L5.82 21z\"></path>\n",
       " <path d=\"M0 0h24v24H0z\" fill=\"none\"></path>\n",
       " </svg>\n",
       " </span>\n",
       " <span class=\"ipl-rating-star__rating\">8.4</span>\n",
       " </div>,\n",
       " <div class=\"ipl-rating-star small\">\n",
       " <span class=\"ipl-rating-star__star\">\n",
       " <svg class=\"ipl-icon ipl-star-icon\" fill=\"#000000\" height=\"24\" viewbox=\"0 0 24 24\" width=\"24\" xmlns=\"http://www.w3.org/2000/svg\">\n",
       " <path d=\"M0 0h24v24H0z\" fill=\"none\"></path>\n",
       " <path d=\"M12 17.27L18.18 21l-1.64-7.03L22 9.24l-7.19-.61L12 2 9.19 8.63 2 9.24l5.46 4.73L5.82 21z\"></path>\n",
       " <path d=\"M0 0h24v24H0z\" fill=\"none\"></path>\n",
       " </svg>\n",
       " </span>\n",
       " <span class=\"ipl-rating-star__rating\">8.4</span>\n",
       " </div>,\n",
       " <div class=\"ipl-rating-star small\">\n",
       " <span class=\"ipl-rating-star__star\">\n",
       " <svg class=\"ipl-icon ipl-star-icon\" fill=\"#000000\" height=\"24\" viewbox=\"0 0 24 24\" width=\"24\" xmlns=\"http://www.w3.org/2000/svg\">\n",
       " <path d=\"M0 0h24v24H0z\" fill=\"none\"></path>\n",
       " <path d=\"M12 17.27L18.18 21l-1.64-7.03L22 9.24l-7.19-.61L12 2 9.19 8.63 2 9.24l5.46 4.73L5.82 21z\"></path>\n",
       " <path d=\"M0 0h24v24H0z\" fill=\"none\"></path>\n",
       " </svg>\n",
       " </span>\n",
       " <span class=\"ipl-rating-star__rating\">8.4</span>\n",
       " </div>,\n",
       " <div class=\"ipl-rating-star small\">\n",
       " <span class=\"ipl-rating-star__star\">\n",
       " <svg class=\"ipl-icon ipl-star-icon\" fill=\"#000000\" height=\"24\" viewbox=\"0 0 24 24\" width=\"24\" xmlns=\"http://www.w3.org/2000/svg\">\n",
       " <path d=\"M0 0h24v24H0z\" fill=\"none\"></path>\n",
       " <path d=\"M12 17.27L18.18 21l-1.64-7.03L22 9.24l-7.19-.61L12 2 9.19 8.63 2 9.24l5.46 4.73L5.82 21z\"></path>\n",
       " <path d=\"M0 0h24v24H0z\" fill=\"none\"></path>\n",
       " </svg>\n",
       " </span>\n",
       " <span class=\"ipl-rating-star__rating\">8.4</span>\n",
       " </div>,\n",
       " <div class=\"ipl-rating-star small\">\n",
       " <span class=\"ipl-rating-star__star\">\n",
       " <svg class=\"ipl-icon ipl-star-icon\" fill=\"#000000\" height=\"24\" viewbox=\"0 0 24 24\" width=\"24\" xmlns=\"http://www.w3.org/2000/svg\">\n",
       " <path d=\"M0 0h24v24H0z\" fill=\"none\"></path>\n",
       " <path d=\"M12 17.27L18.18 21l-1.64-7.03L22 9.24l-7.19-.61L12 2 9.19 8.63 2 9.24l5.46 4.73L5.82 21z\"></path>\n",
       " <path d=\"M0 0h24v24H0z\" fill=\"none\"></path>\n",
       " </svg>\n",
       " </span>\n",
       " <span class=\"ipl-rating-star__rating\">8.4</span>\n",
       " </div>,\n",
       " <div class=\"ipl-rating-star small\">\n",
       " <span class=\"ipl-rating-star__star\">\n",
       " <svg class=\"ipl-icon ipl-star-icon\" fill=\"#000000\" height=\"24\" viewbox=\"0 0 24 24\" width=\"24\" xmlns=\"http://www.w3.org/2000/svg\">\n",
       " <path d=\"M0 0h24v24H0z\" fill=\"none\"></path>\n",
       " <path d=\"M12 17.27L18.18 21l-1.64-7.03L22 9.24l-7.19-.61L12 2 9.19 8.63 2 9.24l5.46 4.73L5.82 21z\"></path>\n",
       " <path d=\"M0 0h24v24H0z\" fill=\"none\"></path>\n",
       " </svg>\n",
       " </span>\n",
       " <span class=\"ipl-rating-star__rating\">8.4</span>\n",
       " </div>,\n",
       " <div class=\"ipl-rating-star small\">\n",
       " <span class=\"ipl-rating-star__star\">\n",
       " <svg class=\"ipl-icon ipl-star-icon\" fill=\"#000000\" height=\"24\" viewbox=\"0 0 24 24\" width=\"24\" xmlns=\"http://www.w3.org/2000/svg\">\n",
       " <path d=\"M0 0h24v24H0z\" fill=\"none\"></path>\n",
       " <path d=\"M12 17.27L18.18 21l-1.64-7.03L22 9.24l-7.19-.61L12 2 9.19 8.63 2 9.24l5.46 4.73L5.82 21z\"></path>\n",
       " <path d=\"M0 0h24v24H0z\" fill=\"none\"></path>\n",
       " </svg>\n",
       " </span>\n",
       " <span class=\"ipl-rating-star__rating\">8.4</span>\n",
       " </div>,\n",
       " <div class=\"ipl-rating-star small\">\n",
       " <span class=\"ipl-rating-star__star\">\n",
       " <svg class=\"ipl-icon ipl-star-icon\" fill=\"#000000\" height=\"24\" viewbox=\"0 0 24 24\" width=\"24\" xmlns=\"http://www.w3.org/2000/svg\">\n",
       " <path d=\"M0 0h24v24H0z\" fill=\"none\"></path>\n",
       " <path d=\"M12 17.27L18.18 21l-1.64-7.03L22 9.24l-7.19-.61L12 2 9.19 8.63 2 9.24l5.46 4.73L5.82 21z\"></path>\n",
       " <path d=\"M0 0h24v24H0z\" fill=\"none\"></path>\n",
       " </svg>\n",
       " </span>\n",
       " <span class=\"ipl-rating-star__rating\">8.4</span>\n",
       " </div>,\n",
       " <div class=\"ipl-rating-star small\">\n",
       " <span class=\"ipl-rating-star__star\">\n",
       " <svg class=\"ipl-icon ipl-star-icon\" fill=\"#000000\" height=\"24\" viewbox=\"0 0 24 24\" width=\"24\" xmlns=\"http://www.w3.org/2000/svg\">\n",
       " <path d=\"M0 0h24v24H0z\" fill=\"none\"></path>\n",
       " <path d=\"M12 17.27L18.18 21l-1.64-7.03L22 9.24l-7.19-.61L12 2 9.19 8.63 2 9.24l5.46 4.73L5.82 21z\"></path>\n",
       " <path d=\"M0 0h24v24H0z\" fill=\"none\"></path>\n",
       " </svg>\n",
       " </span>\n",
       " <span class=\"ipl-rating-star__rating\">8.4</span>\n",
       " </div>,\n",
       " <div class=\"ipl-rating-star small\">\n",
       " <span class=\"ipl-rating-star__star\">\n",
       " <svg class=\"ipl-icon ipl-star-icon\" fill=\"#000000\" height=\"24\" viewbox=\"0 0 24 24\" width=\"24\" xmlns=\"http://www.w3.org/2000/svg\">\n",
       " <path d=\"M0 0h24v24H0z\" fill=\"none\"></path>\n",
       " <path d=\"M12 17.27L18.18 21l-1.64-7.03L22 9.24l-7.19-.61L12 2 9.19 8.63 2 9.24l5.46 4.73L5.82 21z\"></path>\n",
       " <path d=\"M0 0h24v24H0z\" fill=\"none\"></path>\n",
       " </svg>\n",
       " </span>\n",
       " <span class=\"ipl-rating-star__rating\">8.4</span>\n",
       " </div>,\n",
       " <div class=\"ipl-rating-star small\">\n",
       " <span class=\"ipl-rating-star__star\">\n",
       " <svg class=\"ipl-icon ipl-star-icon\" fill=\"#000000\" height=\"24\" viewbox=\"0 0 24 24\" width=\"24\" xmlns=\"http://www.w3.org/2000/svg\">\n",
       " <path d=\"M0 0h24v24H0z\" fill=\"none\"></path>\n",
       " <path d=\"M12 17.27L18.18 21l-1.64-7.03L22 9.24l-7.19-.61L12 2 9.19 8.63 2 9.24l5.46 4.73L5.82 21z\"></path>\n",
       " <path d=\"M0 0h24v24H0z\" fill=\"none\"></path>\n",
       " </svg>\n",
       " </span>\n",
       " <span class=\"ipl-rating-star__rating\">8.4</span>\n",
       " </div>,\n",
       " <div class=\"ipl-rating-star small\">\n",
       " <span class=\"ipl-rating-star__star\">\n",
       " <svg class=\"ipl-icon ipl-star-icon\" fill=\"#000000\" height=\"24\" viewbox=\"0 0 24 24\" width=\"24\" xmlns=\"http://www.w3.org/2000/svg\">\n",
       " <path d=\"M0 0h24v24H0z\" fill=\"none\"></path>\n",
       " <path d=\"M12 17.27L18.18 21l-1.64-7.03L22 9.24l-7.19-.61L12 2 9.19 8.63 2 9.24l5.46 4.73L5.82 21z\"></path>\n",
       " <path d=\"M0 0h24v24H0z\" fill=\"none\"></path>\n",
       " </svg>\n",
       " </span>\n",
       " <span class=\"ipl-rating-star__rating\">8.4</span>\n",
       " </div>,\n",
       " <div class=\"ipl-rating-star small\">\n",
       " <span class=\"ipl-rating-star__star\">\n",
       " <svg class=\"ipl-icon ipl-star-icon\" fill=\"#000000\" height=\"24\" viewbox=\"0 0 24 24\" width=\"24\" xmlns=\"http://www.w3.org/2000/svg\">\n",
       " <path d=\"M0 0h24v24H0z\" fill=\"none\"></path>\n",
       " <path d=\"M12 17.27L18.18 21l-1.64-7.03L22 9.24l-7.19-.61L12 2 9.19 8.63 2 9.24l5.46 4.73L5.82 21z\"></path>\n",
       " <path d=\"M0 0h24v24H0z\" fill=\"none\"></path>\n",
       " </svg>\n",
       " </span>\n",
       " <span class=\"ipl-rating-star__rating\">8.4</span>\n",
       " </div>,\n",
       " <div class=\"ipl-rating-star small\">\n",
       " <span class=\"ipl-rating-star__star\">\n",
       " <svg class=\"ipl-icon ipl-star-icon\" fill=\"#000000\" height=\"24\" viewbox=\"0 0 24 24\" width=\"24\" xmlns=\"http://www.w3.org/2000/svg\">\n",
       " <path d=\"M0 0h24v24H0z\" fill=\"none\"></path>\n",
       " <path d=\"M12 17.27L18.18 21l-1.64-7.03L22 9.24l-7.19-.61L12 2 9.19 8.63 2 9.24l5.46 4.73L5.82 21z\"></path>\n",
       " <path d=\"M0 0h24v24H0z\" fill=\"none\"></path>\n",
       " </svg>\n",
       " </span>\n",
       " <span class=\"ipl-rating-star__rating\">8.4</span>\n",
       " </div>,\n",
       " <div class=\"ipl-rating-star small\">\n",
       " <span class=\"ipl-rating-star__star\">\n",
       " <svg class=\"ipl-icon ipl-star-icon\" fill=\"#000000\" height=\"24\" viewbox=\"0 0 24 24\" width=\"24\" xmlns=\"http://www.w3.org/2000/svg\">\n",
       " <path d=\"M0 0h24v24H0z\" fill=\"none\"></path>\n",
       " <path d=\"M12 17.27L18.18 21l-1.64-7.03L22 9.24l-7.19-.61L12 2 9.19 8.63 2 9.24l5.46 4.73L5.82 21z\"></path>\n",
       " <path d=\"M0 0h24v24H0z\" fill=\"none\"></path>\n",
       " </svg>\n",
       " </span>\n",
       " <span class=\"ipl-rating-star__rating\">8.4</span>\n",
       " </div>,\n",
       " <div class=\"ipl-rating-star small\">\n",
       " <span class=\"ipl-rating-star__star\">\n",
       " <svg class=\"ipl-icon ipl-star-icon\" fill=\"#000000\" height=\"24\" viewbox=\"0 0 24 24\" width=\"24\" xmlns=\"http://www.w3.org/2000/svg\">\n",
       " <path d=\"M0 0h24v24H0z\" fill=\"none\"></path>\n",
       " <path d=\"M12 17.27L18.18 21l-1.64-7.03L22 9.24l-7.19-.61L12 2 9.19 8.63 2 9.24l5.46 4.73L5.82 21z\"></path>\n",
       " <path d=\"M0 0h24v24H0z\" fill=\"none\"></path>\n",
       " </svg>\n",
       " </span>\n",
       " <span class=\"ipl-rating-star__rating\">8.4</span>\n",
       " </div>,\n",
       " <div class=\"ipl-rating-star small\">\n",
       " <span class=\"ipl-rating-star__star\">\n",
       " <svg class=\"ipl-icon ipl-star-icon\" fill=\"#000000\" height=\"24\" viewbox=\"0 0 24 24\" width=\"24\" xmlns=\"http://www.w3.org/2000/svg\">\n",
       " <path d=\"M0 0h24v24H0z\" fill=\"none\"></path>\n",
       " <path d=\"M12 17.27L18.18 21l-1.64-7.03L22 9.24l-7.19-.61L12 2 9.19 8.63 2 9.24l5.46 4.73L5.82 21z\"></path>\n",
       " <path d=\"M0 0h24v24H0z\" fill=\"none\"></path>\n",
       " </svg>\n",
       " </span>\n",
       " <span class=\"ipl-rating-star__rating\">8.4</span>\n",
       " </div>,\n",
       " <div class=\"ipl-rating-star small\">\n",
       " <span class=\"ipl-rating-star__star\">\n",
       " <svg class=\"ipl-icon ipl-star-icon\" fill=\"#000000\" height=\"24\" viewbox=\"0 0 24 24\" width=\"24\" xmlns=\"http://www.w3.org/2000/svg\">\n",
       " <path d=\"M0 0h24v24H0z\" fill=\"none\"></path>\n",
       " <path d=\"M12 17.27L18.18 21l-1.64-7.03L22 9.24l-7.19-.61L12 2 9.19 8.63 2 9.24l5.46 4.73L5.82 21z\"></path>\n",
       " <path d=\"M0 0h24v24H0z\" fill=\"none\"></path>\n",
       " </svg>\n",
       " </span>\n",
       " <span class=\"ipl-rating-star__rating\">8.4</span>\n",
       " </div>,\n",
       " <div class=\"ipl-rating-star small\">\n",
       " <span class=\"ipl-rating-star__star\">\n",
       " <svg class=\"ipl-icon ipl-star-icon\" fill=\"#000000\" height=\"24\" viewbox=\"0 0 24 24\" width=\"24\" xmlns=\"http://www.w3.org/2000/svg\">\n",
       " <path d=\"M0 0h24v24H0z\" fill=\"none\"></path>\n",
       " <path d=\"M12 17.27L18.18 21l-1.64-7.03L22 9.24l-7.19-.61L12 2 9.19 8.63 2 9.24l5.46 4.73L5.82 21z\"></path>\n",
       " <path d=\"M0 0h24v24H0z\" fill=\"none\"></path>\n",
       " </svg>\n",
       " </span>\n",
       " <span class=\"ipl-rating-star__rating\">8.6</span>\n",
       " </div>,\n",
       " <div class=\"ipl-rating-star small\">\n",
       " <span class=\"ipl-rating-star__star\">\n",
       " <svg class=\"ipl-icon ipl-star-icon\" fill=\"#000000\" height=\"24\" viewbox=\"0 0 24 24\" width=\"24\" xmlns=\"http://www.w3.org/2000/svg\">\n",
       " <path d=\"M0 0h24v24H0z\" fill=\"none\"></path>\n",
       " <path d=\"M12 17.27L18.18 21l-1.64-7.03L22 9.24l-7.19-.61L12 2 9.19 8.63 2 9.24l5.46 4.73L5.82 21z\"></path>\n",
       " <path d=\"M0 0h24v24H0z\" fill=\"none\"></path>\n",
       " </svg>\n",
       " </span>\n",
       " <span class=\"ipl-rating-star__rating\">8.3</span>\n",
       " </div>,\n",
       " <div class=\"ipl-rating-star small\">\n",
       " <span class=\"ipl-rating-star__star\">\n",
       " <svg class=\"ipl-icon ipl-star-icon\" fill=\"#000000\" height=\"24\" viewbox=\"0 0 24 24\" width=\"24\" xmlns=\"http://www.w3.org/2000/svg\">\n",
       " <path d=\"M0 0h24v24H0z\" fill=\"none\"></path>\n",
       " <path d=\"M12 17.27L18.18 21l-1.64-7.03L22 9.24l-7.19-.61L12 2 9.19 8.63 2 9.24l5.46 4.73L5.82 21z\"></path>\n",
       " <path d=\"M0 0h24v24H0z\" fill=\"none\"></path>\n",
       " </svg>\n",
       " </span>\n",
       " <span class=\"ipl-rating-star__rating\">8.3</span>\n",
       " </div>,\n",
       " <div class=\"ipl-rating-star small\">\n",
       " <span class=\"ipl-rating-star__star\">\n",
       " <svg class=\"ipl-icon ipl-star-icon\" fill=\"#000000\" height=\"24\" viewbox=\"0 0 24 24\" width=\"24\" xmlns=\"http://www.w3.org/2000/svg\">\n",
       " <path d=\"M0 0h24v24H0z\" fill=\"none\"></path>\n",
       " <path d=\"M12 17.27L18.18 21l-1.64-7.03L22 9.24l-7.19-.61L12 2 9.19 8.63 2 9.24l5.46 4.73L5.82 21z\"></path>\n",
       " <path d=\"M0 0h24v24H0z\" fill=\"none\"></path>\n",
       " </svg>\n",
       " </span>\n",
       " <span class=\"ipl-rating-star__rating\">8.4</span>\n",
       " </div>,\n",
       " <div class=\"ipl-rating-star small\">\n",
       " <span class=\"ipl-rating-star__star\">\n",
       " <svg class=\"ipl-icon ipl-star-icon\" fill=\"#000000\" height=\"24\" viewbox=\"0 0 24 24\" width=\"24\" xmlns=\"http://www.w3.org/2000/svg\">\n",
       " <path d=\"M0 0h24v24H0z\" fill=\"none\"></path>\n",
       " <path d=\"M12 17.27L18.18 21l-1.64-7.03L22 9.24l-7.19-.61L12 2 9.19 8.63 2 9.24l5.46 4.73L5.82 21z\"></path>\n",
       " <path d=\"M0 0h24v24H0z\" fill=\"none\"></path>\n",
       " </svg>\n",
       " </span>\n",
       " <span class=\"ipl-rating-star__rating\">8.4</span>\n",
       " </div>,\n",
       " <div class=\"ipl-rating-star small\">\n",
       " <span class=\"ipl-rating-star__star\">\n",
       " <svg class=\"ipl-icon ipl-star-icon\" fill=\"#000000\" height=\"24\" viewbox=\"0 0 24 24\" width=\"24\" xmlns=\"http://www.w3.org/2000/svg\">\n",
       " <path d=\"M0 0h24v24H0z\" fill=\"none\"></path>\n",
       " <path d=\"M12 17.27L18.18 21l-1.64-7.03L22 9.24l-7.19-.61L12 2 9.19 8.63 2 9.24l5.46 4.73L5.82 21z\"></path>\n",
       " <path d=\"M0 0h24v24H0z\" fill=\"none\"></path>\n",
       " </svg>\n",
       " </span>\n",
       " <span class=\"ipl-rating-star__rating\">8.3</span>\n",
       " </div>,\n",
       " <div class=\"ipl-rating-star small\">\n",
       " <span class=\"ipl-rating-star__star\">\n",
       " <svg class=\"ipl-icon ipl-star-icon\" fill=\"#000000\" height=\"24\" viewbox=\"0 0 24 24\" width=\"24\" xmlns=\"http://www.w3.org/2000/svg\">\n",
       " <path d=\"M0 0h24v24H0z\" fill=\"none\"></path>\n",
       " <path d=\"M12 17.27L18.18 21l-1.64-7.03L22 9.24l-7.19-.61L12 2 9.19 8.63 2 9.24l5.46 4.73L5.82 21z\"></path>\n",
       " <path d=\"M0 0h24v24H0z\" fill=\"none\"></path>\n",
       " </svg>\n",
       " </span>\n",
       " <span class=\"ipl-rating-star__rating\">8.3</span>\n",
       " </div>,\n",
       " <div class=\"ipl-rating-star small\">\n",
       " <span class=\"ipl-rating-star__star\">\n",
       " <svg class=\"ipl-icon ipl-star-icon\" fill=\"#000000\" height=\"24\" viewbox=\"0 0 24 24\" width=\"24\" xmlns=\"http://www.w3.org/2000/svg\">\n",
       " <path d=\"M0 0h24v24H0z\" fill=\"none\"></path>\n",
       " <path d=\"M12 17.27L18.18 21l-1.64-7.03L22 9.24l-7.19-.61L12 2 9.19 8.63 2 9.24l5.46 4.73L5.82 21z\"></path>\n",
       " <path d=\"M0 0h24v24H0z\" fill=\"none\"></path>\n",
       " </svg>\n",
       " </span>\n",
       " <span class=\"ipl-rating-star__rating\">8.4</span>\n",
       " </div>,\n",
       " <div class=\"ipl-rating-star small\">\n",
       " <span class=\"ipl-rating-star__star\">\n",
       " <svg class=\"ipl-icon ipl-star-icon\" fill=\"#000000\" height=\"24\" viewbox=\"0 0 24 24\" width=\"24\" xmlns=\"http://www.w3.org/2000/svg\">\n",
       " <path d=\"M0 0h24v24H0z\" fill=\"none\"></path>\n",
       " <path d=\"M12 17.27L18.18 21l-1.64-7.03L22 9.24l-7.19-.61L12 2 9.19 8.63 2 9.24l5.46 4.73L5.82 21z\"></path>\n",
       " <path d=\"M0 0h24v24H0z\" fill=\"none\"></path>\n",
       " </svg>\n",
       " </span>\n",
       " <span class=\"ipl-rating-star__rating\">8.4</span>\n",
       " </div>,\n",
       " <div class=\"ipl-rating-star small\">\n",
       " <span class=\"ipl-rating-star__star\">\n",
       " <svg class=\"ipl-icon ipl-star-icon\" fill=\"#000000\" height=\"24\" viewbox=\"0 0 24 24\" width=\"24\" xmlns=\"http://www.w3.org/2000/svg\">\n",
       " <path d=\"M0 0h24v24H0z\" fill=\"none\"></path>\n",
       " <path d=\"M12 17.27L18.18 21l-1.64-7.03L22 9.24l-7.19-.61L12 2 9.19 8.63 2 9.24l5.46 4.73L5.82 21z\"></path>\n",
       " <path d=\"M0 0h24v24H0z\" fill=\"none\"></path>\n",
       " </svg>\n",
       " </span>\n",
       " <span class=\"ipl-rating-star__rating\">8.3</span>\n",
       " </div>,\n",
       " <div class=\"ipl-rating-star small\">\n",
       " <span class=\"ipl-rating-star__star\">\n",
       " <svg class=\"ipl-icon ipl-star-icon\" fill=\"#000000\" height=\"24\" viewbox=\"0 0 24 24\" width=\"24\" xmlns=\"http://www.w3.org/2000/svg\">\n",
       " <path d=\"M0 0h24v24H0z\" fill=\"none\"></path>\n",
       " <path d=\"M12 17.27L18.18 21l-1.64-7.03L22 9.24l-7.19-.61L12 2 9.19 8.63 2 9.24l5.46 4.73L5.82 21z\"></path>\n",
       " <path d=\"M0 0h24v24H0z\" fill=\"none\"></path>\n",
       " </svg>\n",
       " </span>\n",
       " <span class=\"ipl-rating-star__rating\">8.3</span>\n",
       " </div>,\n",
       " <div class=\"ipl-rating-star small\">\n",
       " <span class=\"ipl-rating-star__star\">\n",
       " <svg class=\"ipl-icon ipl-star-icon\" fill=\"#000000\" height=\"24\" viewbox=\"0 0 24 24\" width=\"24\" xmlns=\"http://www.w3.org/2000/svg\">\n",
       " <path d=\"M0 0h24v24H0z\" fill=\"none\"></path>\n",
       " <path d=\"M12 17.27L18.18 21l-1.64-7.03L22 9.24l-7.19-.61L12 2 9.19 8.63 2 9.24l5.46 4.73L5.82 21z\"></path>\n",
       " <path d=\"M0 0h24v24H0z\" fill=\"none\"></path>\n",
       " </svg>\n",
       " </span>\n",
       " <span class=\"ipl-rating-star__rating\">8.3</span>\n",
       " </div>,\n",
       " <div class=\"ipl-rating-star small\">\n",
       " <span class=\"ipl-rating-star__star\">\n",
       " <svg class=\"ipl-icon ipl-star-icon\" fill=\"#000000\" height=\"24\" viewbox=\"0 0 24 24\" width=\"24\" xmlns=\"http://www.w3.org/2000/svg\">\n",
       " <path d=\"M0 0h24v24H0z\" fill=\"none\"></path>\n",
       " <path d=\"M12 17.27L18.18 21l-1.64-7.03L22 9.24l-7.19-.61L12 2 9.19 8.63 2 9.24l5.46 4.73L5.82 21z\"></path>\n",
       " <path d=\"M0 0h24v24H0z\" fill=\"none\"></path>\n",
       " </svg>\n",
       " </span>\n",
       " <span class=\"ipl-rating-star__rating\">8.3</span>\n",
       " </div>,\n",
       " <div class=\"ipl-rating-star small\">\n",
       " <span class=\"ipl-rating-star__star\">\n",
       " <svg class=\"ipl-icon ipl-star-icon\" fill=\"#000000\" height=\"24\" viewbox=\"0 0 24 24\" width=\"24\" xmlns=\"http://www.w3.org/2000/svg\">\n",
       " <path d=\"M0 0h24v24H0z\" fill=\"none\"></path>\n",
       " <path d=\"M12 17.27L18.18 21l-1.64-7.03L22 9.24l-7.19-.61L12 2 9.19 8.63 2 9.24l5.46 4.73L5.82 21z\"></path>\n",
       " <path d=\"M0 0h24v24H0z\" fill=\"none\"></path>\n",
       " </svg>\n",
       " </span>\n",
       " <span class=\"ipl-rating-star__rating\">8.4</span>\n",
       " </div>,\n",
       " <div class=\"ipl-rating-star small\">\n",
       " <span class=\"ipl-rating-star__star\">\n",
       " <svg class=\"ipl-icon ipl-star-icon\" fill=\"#000000\" height=\"24\" viewbox=\"0 0 24 24\" width=\"24\" xmlns=\"http://www.w3.org/2000/svg\">\n",
       " <path d=\"M0 0h24v24H0z\" fill=\"none\"></path>\n",
       " <path d=\"M12 17.27L18.18 21l-1.64-7.03L22 9.24l-7.19-.61L12 2 9.19 8.63 2 9.24l5.46 4.73L5.82 21z\"></path>\n",
       " <path d=\"M0 0h24v24H0z\" fill=\"none\"></path>\n",
       " </svg>\n",
       " </span>\n",
       " <span class=\"ipl-rating-star__rating\">8.3</span>\n",
       " </div>,\n",
       " <div class=\"ipl-rating-star small\">\n",
       " <span class=\"ipl-rating-star__star\">\n",
       " <svg class=\"ipl-icon ipl-star-icon\" fill=\"#000000\" height=\"24\" viewbox=\"0 0 24 24\" width=\"24\" xmlns=\"http://www.w3.org/2000/svg\">\n",
       " <path d=\"M0 0h24v24H0z\" fill=\"none\"></path>\n",
       " <path d=\"M12 17.27L18.18 21l-1.64-7.03L22 9.24l-7.19-.61L12 2 9.19 8.63 2 9.24l5.46 4.73L5.82 21z\"></path>\n",
       " <path d=\"M0 0h24v24H0z\" fill=\"none\"></path>\n",
       " </svg>\n",
       " </span>\n",
       " <span class=\"ipl-rating-star__rating\">8.3</span>\n",
       " </div>,\n",
       " <div class=\"ipl-rating-star small\">\n",
       " <span class=\"ipl-rating-star__star\">\n",
       " <svg class=\"ipl-icon ipl-star-icon\" fill=\"#000000\" height=\"24\" viewbox=\"0 0 24 24\" width=\"24\" xmlns=\"http://www.w3.org/2000/svg\">\n",
       " <path d=\"M0 0h24v24H0z\" fill=\"none\"></path>\n",
       " <path d=\"M12 17.27L18.18 21l-1.64-7.03L22 9.24l-7.19-.61L12 2 9.19 8.63 2 9.24l5.46 4.73L5.82 21z\"></path>\n",
       " <path d=\"M0 0h24v24H0z\" fill=\"none\"></path>\n",
       " </svg>\n",
       " </span>\n",
       " <span class=\"ipl-rating-star__rating\">8.3</span>\n",
       " </div>,\n",
       " <div class=\"ipl-rating-star small\">\n",
       " <span class=\"ipl-rating-star__star\">\n",
       " <svg class=\"ipl-icon ipl-star-icon\" fill=\"#000000\" height=\"24\" viewbox=\"0 0 24 24\" width=\"24\" xmlns=\"http://www.w3.org/2000/svg\">\n",
       " <path d=\"M0 0h24v24H0z\" fill=\"none\"></path>\n",
       " <path d=\"M12 17.27L18.18 21l-1.64-7.03L22 9.24l-7.19-.61L12 2 9.19 8.63 2 9.24l5.46 4.73L5.82 21z\"></path>\n",
       " <path d=\"M0 0h24v24H0z\" fill=\"none\"></path>\n",
       " </svg>\n",
       " </span>\n",
       " <span class=\"ipl-rating-star__rating\">8.3</span>\n",
       " </div>,\n",
       " <div class=\"ipl-rating-star small\">\n",
       " <span class=\"ipl-rating-star__star\">\n",
       " <svg class=\"ipl-icon ipl-star-icon\" fill=\"#000000\" height=\"24\" viewbox=\"0 0 24 24\" width=\"24\" xmlns=\"http://www.w3.org/2000/svg\">\n",
       " <path d=\"M0 0h24v24H0z\" fill=\"none\"></path>\n",
       " <path d=\"M12 17.27L18.18 21l-1.64-7.03L22 9.24l-7.19-.61L12 2 9.19 8.63 2 9.24l5.46 4.73L5.82 21z\"></path>\n",
       " <path d=\"M0 0h24v24H0z\" fill=\"none\"></path>\n",
       " </svg>\n",
       " </span>\n",
       " <span class=\"ipl-rating-star__rating\">8.3</span>\n",
       " </div>,\n",
       " <div class=\"ipl-rating-star small\">\n",
       " <span class=\"ipl-rating-star__star\">\n",
       " <svg class=\"ipl-icon ipl-star-icon\" fill=\"#000000\" height=\"24\" viewbox=\"0 0 24 24\" width=\"24\" xmlns=\"http://www.w3.org/2000/svg\">\n",
       " <path d=\"M0 0h24v24H0z\" fill=\"none\"></path>\n",
       " <path d=\"M12 17.27L18.18 21l-1.64-7.03L22 9.24l-7.19-.61L12 2 9.19 8.63 2 9.24l5.46 4.73L5.82 21z\"></path>\n",
       " <path d=\"M0 0h24v24H0z\" fill=\"none\"></path>\n",
       " </svg>\n",
       " </span>\n",
       " <span class=\"ipl-rating-star__rating\">8.3</span>\n",
       " </div>,\n",
       " <div class=\"ipl-rating-star small\">\n",
       " <span class=\"ipl-rating-star__star\">\n",
       " <svg class=\"ipl-icon ipl-star-icon\" fill=\"#000000\" height=\"24\" viewbox=\"0 0 24 24\" width=\"24\" xmlns=\"http://www.w3.org/2000/svg\">\n",
       " <path d=\"M0 0h24v24H0z\" fill=\"none\"></path>\n",
       " <path d=\"M12 17.27L18.18 21l-1.64-7.03L22 9.24l-7.19-.61L12 2 9.19 8.63 2 9.24l5.46 4.73L5.82 21z\"></path>\n",
       " <path d=\"M0 0h24v24H0z\" fill=\"none\"></path>\n",
       " </svg>\n",
       " </span>\n",
       " <span class=\"ipl-rating-star__rating\">8.3</span>\n",
       " </div>,\n",
       " <div class=\"ipl-rating-star small\">\n",
       " <span class=\"ipl-rating-star__star\">\n",
       " <svg class=\"ipl-icon ipl-star-icon\" fill=\"#000000\" height=\"24\" viewbox=\"0 0 24 24\" width=\"24\" xmlns=\"http://www.w3.org/2000/svg\">\n",
       " <path d=\"M0 0h24v24H0z\" fill=\"none\"></path>\n",
       " <path d=\"M12 17.27L18.18 21l-1.64-7.03L22 9.24l-7.19-.61L12 2 9.19 8.63 2 9.24l5.46 4.73L5.82 21z\"></path>\n",
       " <path d=\"M0 0h24v24H0z\" fill=\"none\"></path>\n",
       " </svg>\n",
       " </span>\n",
       " <span class=\"ipl-rating-star__rating\">8.3</span>\n",
       " </div>,\n",
       " <div class=\"ipl-rating-star small\">\n",
       " <span class=\"ipl-rating-star__star\">\n",
       " <svg class=\"ipl-icon ipl-star-icon\" fill=\"#000000\" height=\"24\" viewbox=\"0 0 24 24\" width=\"24\" xmlns=\"http://www.w3.org/2000/svg\">\n",
       " <path d=\"M0 0h24v24H0z\" fill=\"none\"></path>\n",
       " <path d=\"M12 17.27L18.18 21l-1.64-7.03L22 9.24l-7.19-.61L12 2 9.19 8.63 2 9.24l5.46 4.73L5.82 21z\"></path>\n",
       " <path d=\"M0 0h24v24H0z\" fill=\"none\"></path>\n",
       " </svg>\n",
       " </span>\n",
       " <span class=\"ipl-rating-star__rating\">8.3</span>\n",
       " </div>,\n",
       " <div class=\"ipl-rating-star small\">\n",
       " <span class=\"ipl-rating-star__star\">\n",
       " <svg class=\"ipl-icon ipl-star-icon\" fill=\"#000000\" height=\"24\" viewbox=\"0 0 24 24\" width=\"24\" xmlns=\"http://www.w3.org/2000/svg\">\n",
       " <path d=\"M0 0h24v24H0z\" fill=\"none\"></path>\n",
       " <path d=\"M12 17.27L18.18 21l-1.64-7.03L22 9.24l-7.19-.61L12 2 9.19 8.63 2 9.24l5.46 4.73L5.82 21z\"></path>\n",
       " <path d=\"M0 0h24v24H0z\" fill=\"none\"></path>\n",
       " </svg>\n",
       " </span>\n",
       " <span class=\"ipl-rating-star__rating\">8.3</span>\n",
       " </div>,\n",
       " <div class=\"ipl-rating-star small\">\n",
       " <span class=\"ipl-rating-star__star\">\n",
       " <svg class=\"ipl-icon ipl-star-icon\" fill=\"#000000\" height=\"24\" viewbox=\"0 0 24 24\" width=\"24\" xmlns=\"http://www.w3.org/2000/svg\">\n",
       " <path d=\"M0 0h24v24H0z\" fill=\"none\"></path>\n",
       " <path d=\"M12 17.27L18.18 21l-1.64-7.03L22 9.24l-7.19-.61L12 2 9.19 8.63 2 9.24l5.46 4.73L5.82 21z\"></path>\n",
       " <path d=\"M0 0h24v24H0z\" fill=\"none\"></path>\n",
       " </svg>\n",
       " </span>\n",
       " <span class=\"ipl-rating-star__rating\">8.3</span>\n",
       " </div>,\n",
       " <div class=\"ipl-rating-star small\">\n",
       " <span class=\"ipl-rating-star__star\">\n",
       " <svg class=\"ipl-icon ipl-star-icon\" fill=\"#000000\" height=\"24\" viewbox=\"0 0 24 24\" width=\"24\" xmlns=\"http://www.w3.org/2000/svg\">\n",
       " <path d=\"M0 0h24v24H0z\" fill=\"none\"></path>\n",
       " <path d=\"M12 17.27L18.18 21l-1.64-7.03L22 9.24l-7.19-.61L12 2 9.19 8.63 2 9.24l5.46 4.73L5.82 21z\"></path>\n",
       " <path d=\"M0 0h24v24H0z\" fill=\"none\"></path>\n",
       " </svg>\n",
       " </span>\n",
       " <span class=\"ipl-rating-star__rating\">8.3</span>\n",
       " </div>,\n",
       " <div class=\"ipl-rating-star small\">\n",
       " <span class=\"ipl-rating-star__star\">\n",
       " <svg class=\"ipl-icon ipl-star-icon\" fill=\"#000000\" height=\"24\" viewbox=\"0 0 24 24\" width=\"24\" xmlns=\"http://www.w3.org/2000/svg\">\n",
       " <path d=\"M0 0h24v24H0z\" fill=\"none\"></path>\n",
       " <path d=\"M12 17.27L18.18 21l-1.64-7.03L22 9.24l-7.19-.61L12 2 9.19 8.63 2 9.24l5.46 4.73L5.82 21z\"></path>\n",
       " <path d=\"M0 0h24v24H0z\" fill=\"none\"></path>\n",
       " </svg>\n",
       " </span>\n",
       " <span class=\"ipl-rating-star__rating\">8.3</span>\n",
       " </div>,\n",
       " <div class=\"ipl-rating-star small\">\n",
       " <span class=\"ipl-rating-star__star\">\n",
       " <svg class=\"ipl-icon ipl-star-icon\" fill=\"#000000\" height=\"24\" viewbox=\"0 0 24 24\" width=\"24\" xmlns=\"http://www.w3.org/2000/svg\">\n",
       " <path d=\"M0 0h24v24H0z\" fill=\"none\"></path>\n",
       " <path d=\"M12 17.27L18.18 21l-1.64-7.03L22 9.24l-7.19-.61L12 2 9.19 8.63 2 9.24l5.46 4.73L5.82 21z\"></path>\n",
       " <path d=\"M0 0h24v24H0z\" fill=\"none\"></path>\n",
       " </svg>\n",
       " </span>\n",
       " <span class=\"ipl-rating-star__rating\">8.3</span>\n",
       " </div>,\n",
       " <div class=\"ipl-rating-star small\">\n",
       " <span class=\"ipl-rating-star__star\">\n",
       " <svg class=\"ipl-icon ipl-star-icon\" fill=\"#000000\" height=\"24\" viewbox=\"0 0 24 24\" width=\"24\" xmlns=\"http://www.w3.org/2000/svg\">\n",
       " <path d=\"M0 0h24v24H0z\" fill=\"none\"></path>\n",
       " <path d=\"M12 17.27L18.18 21l-1.64-7.03L22 9.24l-7.19-.61L12 2 9.19 8.63 2 9.24l5.46 4.73L5.82 21z\"></path>\n",
       " <path d=\"M0 0h24v24H0z\" fill=\"none\"></path>\n",
       " </svg>\n",
       " </span>\n",
       " <span class=\"ipl-rating-star__rating\">8.3</span>\n",
       " </div>]"
      ]
     },
     "execution_count": 9,
     "metadata": {},
     "output_type": "execute_result"
    }
   ],
   "source": [
    "imdb=soup2.find_all('div',class_=\"ipl-rating-star small\")\n",
    "imdb"
   ]
  },
  {
   "cell_type": "code",
   "execution_count": 10,
   "metadata": {
    "scrolled": true
   },
   "outputs": [
    {
     "data": {
      "text/plain": [
       "['9.3',\n",
       " '9.2',\n",
       " '9',\n",
       " '9',\n",
       " '9',\n",
       " '8.9',\n",
       " '8.9',\n",
       " '8.9',\n",
       " '8.8',\n",
       " '8.8',\n",
       " '8.4',\n",
       " '8.8',\n",
       " '8.8',\n",
       " '8.8',\n",
       " '8.7',\n",
       " '8.7',\n",
       " '8.7',\n",
       " '8.7',\n",
       " '8.7',\n",
       " '8.6',\n",
       " '8.6',\n",
       " '8.6',\n",
       " '8.6',\n",
       " '8.6',\n",
       " '8.6',\n",
       " '8.6',\n",
       " '8.6',\n",
       " '8.6',\n",
       " '8.6',\n",
       " '8.5',\n",
       " '8.6',\n",
       " '8.6',\n",
       " '8.5',\n",
       " '8.5',\n",
       " '8.5',\n",
       " '8.5',\n",
       " '8.5',\n",
       " '8.5',\n",
       " '8.5',\n",
       " '8.5',\n",
       " '8.5',\n",
       " '8.5',\n",
       " '8.5',\n",
       " '8.5',\n",
       " '8.5',\n",
       " '8.5',\n",
       " '8.5',\n",
       " '8.4',\n",
       " '8.5',\n",
       " '8.5',\n",
       " '8.5',\n",
       " '8.5',\n",
       " '8.4',\n",
       " '8.4',\n",
       " '8.4',\n",
       " '8.4',\n",
       " '8.4',\n",
       " '8.4',\n",
       " '8.4',\n",
       " '8.4',\n",
       " '8.4',\n",
       " '8.4',\n",
       " '8.4',\n",
       " '8.4',\n",
       " '8.4',\n",
       " '8.4',\n",
       " '8.4',\n",
       " '8.4',\n",
       " '8.4',\n",
       " '8.4',\n",
       " '8.4',\n",
       " '8.6',\n",
       " '8.3',\n",
       " '8.3',\n",
       " '8.4',\n",
       " '8.4',\n",
       " '8.3',\n",
       " '8.3',\n",
       " '8.4',\n",
       " '8.4',\n",
       " '8.3',\n",
       " '8.3',\n",
       " '8.3',\n",
       " '8.3',\n",
       " '8.4',\n",
       " '8.3',\n",
       " '8.3',\n",
       " '8.3',\n",
       " '8.3',\n",
       " '8.3',\n",
       " '8.3',\n",
       " '8.3',\n",
       " '8.3',\n",
       " '8.3',\n",
       " '8.3',\n",
       " '8.3',\n",
       " '8.3',\n",
       " '8.3',\n",
       " '8.3',\n",
       " '8.3']"
      ]
     },
     "execution_count": 10,
     "metadata": {},
     "output_type": "execute_result"
    }
   ],
   "source": [
    "imdb_rating=[]\n",
    "for i in imdb:\n",
    "    imdb_rating.append(i.text.replace(\"\\n\",\"\"))\n",
    "imdb_rating"
   ]
  },
  {
   "cell_type": "markdown",
   "metadata": {},
   "source": [
    "### Year of release"
   ]
  },
  {
   "cell_type": "code",
   "execution_count": 11,
   "metadata": {},
   "outputs": [],
   "source": [
    "year=soup2.find_all('span',class_=\"lister-item-year text-muted unbold\")"
   ]
  },
  {
   "cell_type": "code",
   "execution_count": 12,
   "metadata": {
    "scrolled": true
   },
   "outputs": [
    {
     "data": {
      "text/plain": [
       "['(1994)',\n",
       " '(1972)',\n",
       " '(1974)',\n",
       " '(2008)',\n",
       " '(1957)',\n",
       " '(1993)',\n",
       " '(2003)',\n",
       " '(1994)',\n",
       " '(1966)',\n",
       " '(1999)',\n",
       " '(2019)',\n",
       " '(2001)',\n",
       " '(1994)',\n",
       " '(2010)',\n",
       " '(1980)',\n",
       " '(2002)',\n",
       " '(1999)',\n",
       " '(1975)',\n",
       " '(1990)',\n",
       " '(1954)',\n",
       " '(1995)',\n",
       " '(2002)',\n",
       " '(1997)',\n",
       " '(1991)',\n",
       " '(1977)',\n",
       " '(1946)',\n",
       " '(1998)',\n",
       " '(2001)',\n",
       " '(1999)',\n",
       " '(1994)',\n",
       " '(1962)',\n",
       " '(2014)',\n",
       " '(1995)',\n",
       " '(1994)',\n",
       " '(1998)',\n",
       " '(1985)',\n",
       " '(2002)',\n",
       " '(1936)',\n",
       " '(1991)',\n",
       " '(2011)',\n",
       " '(1960)',\n",
       " '(2000)',\n",
       " '(1931)',\n",
       " '(2006)',\n",
       " '(2014)',\n",
       " '(1968)',\n",
       " '(2006)',\n",
       " '(2019)',\n",
       " '(1942)',\n",
       " '(1988)',\n",
       " '(1954)',\n",
       " '(1988)',\n",
       " '(1979)',\n",
       " '(1981)',\n",
       " '(2000)',\n",
       " '(1979)',\n",
       " '(1940)',\n",
       " '(2006)',\n",
       " '(2018)',\n",
       " '(2012)',\n",
       " '(2018)',\n",
       " '(1980)',\n",
       " '(1957)',\n",
       " '(2008)',\n",
       " '(1950)',\n",
       " '(1964)',\n",
       " '(1997)',\n",
       " '(2003)',\n",
       " '(1957)',\n",
       " '(2012)',\n",
       " '(1984)',\n",
       " '(2019)',\n",
       " '(1986)',\n",
       " '(1999)',\n",
       " '(I) (2017)',\n",
       " '(2016)',\n",
       " '(1995)',\n",
       " '(1981)',\n",
       " '(2009)',\n",
       " '(2007)',\n",
       " '(1983)',\n",
       " '(1995)',\n",
       " '(1992)',\n",
       " '(1984)',\n",
       " '(2016)',\n",
       " '(1997)',\n",
       " '(2009)',\n",
       " '(1931)',\n",
       " '(2000)',\n",
       " '(1968)',\n",
       " '(1958)',\n",
       " '(2004)',\n",
       " '(1941)',\n",
       " '(1987)',\n",
       " '(2012)',\n",
       " '(1959)',\n",
       " '(1971)',\n",
       " '(2000)',\n",
       " '(2001)',\n",
       " '(1921)']"
      ]
     },
     "execution_count": 12,
     "metadata": {},
     "output_type": "execute_result"
    }
   ],
   "source": [
    "year_release=[]\n",
    "for i in year:\n",
    "    year_release.append(i.text.replace(\"\\n\",''))\n",
    "year_release"
   ]
  },
  {
   "cell_type": "code",
   "execution_count": 13,
   "metadata": {
    "scrolled": true
   },
   "outputs": [
    {
     "data": {
      "text/plain": [
       "['1994',\n",
       " '1972',\n",
       " '1974',\n",
       " '2008',\n",
       " '1957',\n",
       " '1993',\n",
       " '2003',\n",
       " '1994',\n",
       " '1966',\n",
       " '1999',\n",
       " '2019',\n",
       " '2001',\n",
       " '1994',\n",
       " '2010',\n",
       " '1980',\n",
       " '2002',\n",
       " '1999',\n",
       " '1975',\n",
       " '1990',\n",
       " '1954',\n",
       " '1995',\n",
       " '2002',\n",
       " '1997',\n",
       " '1991',\n",
       " '1977',\n",
       " '1946',\n",
       " '1998',\n",
       " '2001',\n",
       " '1999',\n",
       " '1994',\n",
       " '1962',\n",
       " '2014',\n",
       " '1995',\n",
       " '1994',\n",
       " '1998',\n",
       " '1985',\n",
       " '2002',\n",
       " '1936',\n",
       " '1991',\n",
       " '2011',\n",
       " '1960',\n",
       " '2000',\n",
       " '1931',\n",
       " '2006',\n",
       " '2014',\n",
       " '1968',\n",
       " '2006',\n",
       " '2019',\n",
       " '1942',\n",
       " '1988',\n",
       " '1954',\n",
       " '1988',\n",
       " '1979',\n",
       " '1981',\n",
       " '2000',\n",
       " '1979',\n",
       " '1940',\n",
       " '2006',\n",
       " '2018',\n",
       " '2012',\n",
       " '2018',\n",
       " '1980',\n",
       " '1957',\n",
       " '2008',\n",
       " '1950',\n",
       " '1964',\n",
       " '1997',\n",
       " '2003',\n",
       " '1957',\n",
       " '2012',\n",
       " '1984',\n",
       " '2019',\n",
       " '1986',\n",
       " '1999',\n",
       " 'I 2017',\n",
       " '2016',\n",
       " '1995',\n",
       " '1981',\n",
       " '2009',\n",
       " '2007',\n",
       " '1983',\n",
       " '1995',\n",
       " '1992',\n",
       " '1984',\n",
       " '2016',\n",
       " '1997',\n",
       " '2009',\n",
       " '1931',\n",
       " '2000',\n",
       " '1968',\n",
       " '1958',\n",
       " '2004',\n",
       " '1941',\n",
       " '1987',\n",
       " '2012',\n",
       " '1959',\n",
       " '1971',\n",
       " '2000',\n",
       " '2001',\n",
       " '1921']"
      ]
     },
     "execution_count": 13,
     "metadata": {},
     "output_type": "execute_result"
    }
   ],
   "source": [
    "import re\n",
    "Releases = []\n",
    "for i in range(0,len(year_release)):\n",
    "    release = re.sub(\"[()]\", \"\", year_release[i])\n",
    "    Releases.append(release)\n",
    "    \n",
    "Releases"
   ]
  },
  {
   "cell_type": "code",
   "execution_count": 14,
   "metadata": {},
   "outputs": [],
   "source": [
    "movies=pd.DataFrame({})\n",
    "movies['Names']=movie_titles\n",
    "movies['IMDB rating']=imdb_rating\n",
    "movies['Year of release']=Releases"
   ]
  },
  {
   "cell_type": "code",
   "execution_count": 15,
   "metadata": {},
   "outputs": [
    {
     "data": {
      "text/html": [
       "<div>\n",
       "<style scoped>\n",
       "    .dataframe tbody tr th:only-of-type {\n",
       "        vertical-align: middle;\n",
       "    }\n",
       "\n",
       "    .dataframe tbody tr th {\n",
       "        vertical-align: top;\n",
       "    }\n",
       "\n",
       "    .dataframe thead th {\n",
       "        text-align: right;\n",
       "    }\n",
       "</style>\n",
       "<table border=\"1\" class=\"dataframe\">\n",
       "  <thead>\n",
       "    <tr style=\"text-align: right;\">\n",
       "      <th></th>\n",
       "      <th>Names</th>\n",
       "      <th>IMDB rating</th>\n",
       "      <th>Year of release</th>\n",
       "    </tr>\n",
       "  </thead>\n",
       "  <tbody>\n",
       "    <tr>\n",
       "      <th>0</th>\n",
       "      <td>The Shawshank Redemption</td>\n",
       "      <td>9.3</td>\n",
       "      <td>1994</td>\n",
       "    </tr>\n",
       "    <tr>\n",
       "      <th>1</th>\n",
       "      <td>The Godfather</td>\n",
       "      <td>9.2</td>\n",
       "      <td>1972</td>\n",
       "    </tr>\n",
       "    <tr>\n",
       "      <th>2</th>\n",
       "      <td>The Godfather: Part II</td>\n",
       "      <td>9</td>\n",
       "      <td>1974</td>\n",
       "    </tr>\n",
       "    <tr>\n",
       "      <th>3</th>\n",
       "      <td>The Dark Knight</td>\n",
       "      <td>9</td>\n",
       "      <td>2008</td>\n",
       "    </tr>\n",
       "    <tr>\n",
       "      <th>4</th>\n",
       "      <td>12 Angry Men</td>\n",
       "      <td>9</td>\n",
       "      <td>1957</td>\n",
       "    </tr>\n",
       "    <tr>\n",
       "      <th>...</th>\n",
       "      <td>...</td>\n",
       "      <td>...</td>\n",
       "      <td>...</td>\n",
       "    </tr>\n",
       "    <tr>\n",
       "      <th>95</th>\n",
       "      <td>North by Northwest</td>\n",
       "      <td>8.3</td>\n",
       "      <td>1959</td>\n",
       "    </tr>\n",
       "    <tr>\n",
       "      <th>96</th>\n",
       "      <td>A Clockwork Orange</td>\n",
       "      <td>8.3</td>\n",
       "      <td>1971</td>\n",
       "    </tr>\n",
       "    <tr>\n",
       "      <th>97</th>\n",
       "      <td>Snatch</td>\n",
       "      <td>8.3</td>\n",
       "      <td>2000</td>\n",
       "    </tr>\n",
       "    <tr>\n",
       "      <th>98</th>\n",
       "      <td>Amélie</td>\n",
       "      <td>8.3</td>\n",
       "      <td>2001</td>\n",
       "    </tr>\n",
       "    <tr>\n",
       "      <th>99</th>\n",
       "      <td>The Kid</td>\n",
       "      <td>8.3</td>\n",
       "      <td>1921</td>\n",
       "    </tr>\n",
       "  </tbody>\n",
       "</table>\n",
       "<p>100 rows × 3 columns</p>\n",
       "</div>"
      ],
      "text/plain": [
       "                       Names IMDB rating Year of release\n",
       "0   The Shawshank Redemption         9.3            1994\n",
       "1              The Godfather         9.2            1972\n",
       "2     The Godfather: Part II           9            1974\n",
       "3            The Dark Knight           9            2008\n",
       "4               12 Angry Men           9            1957\n",
       "..                       ...         ...             ...\n",
       "95        North by Northwest         8.3            1959\n",
       "96        A Clockwork Orange         8.3            1971\n",
       "97                    Snatch         8.3            2000\n",
       "98                    Amélie         8.3            2001\n",
       "99                   The Kid         8.3            1921\n",
       "\n",
       "[100 rows x 3 columns]"
      ]
     },
     "execution_count": 15,
     "metadata": {},
     "output_type": "execute_result"
    }
   ],
   "source": [
    "movies"
   ]
  },
  {
   "cell_type": "markdown",
   "metadata": {},
   "source": [
    "# 3. Display IMDB’s Top rated 100 Indian movies’ data (i.e. Name, IMDB rating, Year of release) "
   ]
  },
  {
   "cell_type": "code",
   "execution_count": 16,
   "metadata": {},
   "outputs": [],
   "source": [
    "page3= requests.get('https://www.imdb.com/list/ls009997493/?sort=user_rating,desc&st_dt=&mode=detail&page=1')\n",
    "soup3= BeautifulSoup(page3.content,'html.parser')\n"
   ]
  },
  {
   "cell_type": "markdown",
   "metadata": {},
   "source": [
    "### Movies"
   ]
  },
  {
   "cell_type": "code",
   "execution_count": 17,
   "metadata": {
    "scrolled": true
   },
   "outputs": [
    {
     "data": {
      "text/plain": [
       "['Black Friday',\n",
       " 'Golmaal',\n",
       " '3 Idiots',\n",
       " 'Taare Zameen Par',\n",
       " 'Pyaasa',\n",
       " 'Jaane Bhi Do Yaaro',\n",
       " 'Masoom',\n",
       " 'Guide',\n",
       " 'Anand',\n",
       " 'Khosla Ka Ghosla!',\n",
       " 'Chhoti Si Baat',\n",
       " 'Chupke Chupke',\n",
       " 'Angoor',\n",
       " 'Gangs of Wasseypur',\n",
       " 'Zindagi Na Milegi Dobara',\n",
       " 'Swades: We, the People',\n",
       " 'Hera Pheri',\n",
       " 'Paan Singh Tomar',\n",
       " 'Chak De! India',\n",
       " 'Bhaag Milkha Bhaag',\n",
       " 'Jo Jeeta Wohi Sikandar',\n",
       " 'Sholay',\n",
       " 'Satya',\n",
       " 'Black',\n",
       " 'Mughal-E-Azam',\n",
       " 'Lagaan: Once Upon a Time in India',\n",
       " 'Dil Chahta Hai',\n",
       " 'Kahaani',\n",
       " 'Munna Bhai M.B.B.S.',\n",
       " 'Dilwale Dulhania Le Jayenge',\n",
       " 'Rang De Basanti',\n",
       " 'Barfi!',\n",
       " 'Andaz Apna Apna',\n",
       " 'A Wednesday',\n",
       " 'Omkara',\n",
       " 'Udaan',\n",
       " 'Maqbool',\n",
       " 'OMG: Oh My God!',\n",
       " 'Gulaal',\n",
       " 'Sarfarosh',\n",
       " 'Deewaar',\n",
       " 'The Legend of Bhagat Singh',\n",
       " 'Iqbal',\n",
       " 'Padosan',\n",
       " 'My Name Is Khan',\n",
       " 'Special Chabbis',\n",
       " 'Dev.D',\n",
       " 'Lage Raho Munna Bhai',\n",
       " 'Vaastav: The Reality',\n",
       " 'Salaam Bombay!',\n",
       " 'Mother India',\n",
       " 'Pinjar: Beyond Boundaries...',\n",
       " 'Bawarchi',\n",
       " 'Shree 420',\n",
       " 'Kal Ho Naa Ho',\n",
       " 'Jab We Met',\n",
       " 'Lakshya',\n",
       " 'Hey Ram',\n",
       " 'Company',\n",
       " 'Awaara',\n",
       " 'Parinda',\n",
       " 'Hazaaron Khwaishein Aisi',\n",
       " 'Zakhm',\n",
       " 'Dor',\n",
       " 'Abhimaan',\n",
       " 'The Lunchbox',\n",
       " 'Kai po che!',\n",
       " 'Vicky Donor',\n",
       " 'Johnny Gaddaar',\n",
       " 'Mr. India',\n",
       " 'English Vinglish',\n",
       " 'Stanley Ka Dabba',\n",
       " 'Don',\n",
       " 'Ab Tak Chhappan',\n",
       " 'Gangaajal',\n",
       " '3 Deewarein',\n",
       " 'Dasvidaniya',\n",
       " 'Madras Cafe',\n",
       " 'Oye Lucky! Lucky Oye!',\n",
       " 'Water',\n",
       " 'Shatranj Ke Khilari',\n",
       " 'Guru',\n",
       " 'Rock On!!',\n",
       " 'Earth',\n",
       " 'Mumbai Meri Jaan',\n",
       " 'Aamir',\n",
       " 'Agneepath',\n",
       " 'Delhi Belly',\n",
       " 'Wake Up Sid',\n",
       " 'Manorama: Six Feet Under',\n",
       " 'Raanjhanaa',\n",
       " 'Sarkar',\n",
       " 'Pyaar Ka Punchnama',\n",
       " 'Bheja Fry',\n",
       " 'Jaane Tu... Ya Jaane Na',\n",
       " 'Ek Hasina Thi',\n",
       " 'Rangeela',\n",
       " 'Qayamat Se Qayamat Tak',\n",
       " 'Socha Na Tha',\n",
       " 'Gunda']"
      ]
     },
     "execution_count": 17,
     "metadata": {},
     "output_type": "execute_result"
    }
   ],
   "source": [
    "movie= soup3.find_all('h3',class_=\"lister-item-header\")\n",
    "movie_titles=[]\n",
    "for i in movie:\n",
    "    for j in i.find_all(\"a\"):\n",
    "        movie_titles.append(j.text.replace(\"\\n\",\"\"))\n",
    "movie_titles"
   ]
  },
  {
   "cell_type": "markdown",
   "metadata": {},
   "source": [
    "### IMDB rating"
   ]
  },
  {
   "cell_type": "code",
   "execution_count": 18,
   "metadata": {
    "scrolled": true
   },
   "outputs": [
    {
     "data": {
      "text/plain": [
       "['8.5',\n",
       " '8.5',\n",
       " '8.4',\n",
       " '8.4',\n",
       " '8.4',\n",
       " '8.4',\n",
       " '8.4',\n",
       " '8.4',\n",
       " '8.3',\n",
       " '8.3',\n",
       " '8.3',\n",
       " '8.3',\n",
       " '8.3',\n",
       " '8.2',\n",
       " '8.2',\n",
       " '8.2',\n",
       " '8.2',\n",
       " '8.2',\n",
       " '8.2',\n",
       " '8.2',\n",
       " '8.2',\n",
       " '8.2',\n",
       " '8.2',\n",
       " '8.2',\n",
       " '8.2',\n",
       " '8.1',\n",
       " '8.1',\n",
       " '8.1',\n",
       " '8.1',\n",
       " '8.1',\n",
       " '8.1',\n",
       " '8.1',\n",
       " '8.1',\n",
       " '8.1',\n",
       " '8.1',\n",
       " '8.1',\n",
       " '8.1',\n",
       " '8.1',\n",
       " '8.1',\n",
       " '8.1',\n",
       " '8.1',\n",
       " '8.1',\n",
       " '8.1',\n",
       " '8.1',\n",
       " '8',\n",
       " '8',\n",
       " '8',\n",
       " '8',\n",
       " '8',\n",
       " '8',\n",
       " '8',\n",
       " '8',\n",
       " '8',\n",
       " '8',\n",
       " '7.9',\n",
       " '7.9',\n",
       " '7.9',\n",
       " '7.9',\n",
       " '7.9',\n",
       " '7.9',\n",
       " '7.9',\n",
       " '7.9',\n",
       " '7.9',\n",
       " '7.9',\n",
       " '7.9',\n",
       " '7.8',\n",
       " '7.8',\n",
       " '7.8',\n",
       " '7.8',\n",
       " '7.8',\n",
       " '7.8',\n",
       " '7.8',\n",
       " '7.8',\n",
       " '7.8',\n",
       " '7.8',\n",
       " '7.8',\n",
       " '7.8',\n",
       " '7.7',\n",
       " '7.7',\n",
       " '7.7',\n",
       " '7.7',\n",
       " '7.7',\n",
       " '7.7',\n",
       " '7.7',\n",
       " '7.7',\n",
       " '7.7',\n",
       " '7.7',\n",
       " '7.6',\n",
       " '7.6',\n",
       " '7.6',\n",
       " '7.6',\n",
       " '7.6',\n",
       " '7.6',\n",
       " '7.6',\n",
       " '7.5',\n",
       " '7.5',\n",
       " '7.5',\n",
       " '7.5',\n",
       " '7.4',\n",
       " '7.3']"
      ]
     },
     "execution_count": 18,
     "metadata": {},
     "output_type": "execute_result"
    }
   ],
   "source": [
    "imdb=soup3.find_all('div',class_=\"ipl-rating-star small\")\n",
    "imdb_rating=[]\n",
    "for i in imdb:\n",
    "    imdb_rating.append(i.text.replace(\"\\n\",\"\"))\n",
    "imdb_rating"
   ]
  },
  {
   "cell_type": "markdown",
   "metadata": {},
   "source": [
    "### Year"
   ]
  },
  {
   "cell_type": "code",
   "execution_count": 19,
   "metadata": {
    "scrolled": true
   },
   "outputs": [
    {
     "data": {
      "text/plain": [
       "['(2004)',\n",
       " '(1979)',\n",
       " '(2009)',\n",
       " '(2007)',\n",
       " '(1957)',\n",
       " '(1983)',\n",
       " '(1983)',\n",
       " '(1965)',\n",
       " '(1971)',\n",
       " '(2006)',\n",
       " '(1976)',\n",
       " '(1975)',\n",
       " '(1982)',\n",
       " '(2012)',\n",
       " '(2011)',\n",
       " '(2004)',\n",
       " '(2000)',\n",
       " '(2012)',\n",
       " '(2007)',\n",
       " '(2013)',\n",
       " '(1992)',\n",
       " '(1975)',\n",
       " '(1998)',\n",
       " '(2005)',\n",
       " '(1960)',\n",
       " '(2001)',\n",
       " '(2001)',\n",
       " '(2012)',\n",
       " '(2003)',\n",
       " '(1995)',\n",
       " '(2006)',\n",
       " '(2012)',\n",
       " '(1994)',\n",
       " '(2008)',\n",
       " '(2006)',\n",
       " '(2010)',\n",
       " '(2003)',\n",
       " '(2012)',\n",
       " '(2009)',\n",
       " '(1999)',\n",
       " '(1975)',\n",
       " '(2002)',\n",
       " '(2005)',\n",
       " '(1968)',\n",
       " '(2010)',\n",
       " '(2013)',\n",
       " '(2009)',\n",
       " '(2006)',\n",
       " '(1999)',\n",
       " '(1988)',\n",
       " '(1957)',\n",
       " '(2003)',\n",
       " '(1972)',\n",
       " '(1955)',\n",
       " '(2003)',\n",
       " '(2007)',\n",
       " '(2004)',\n",
       " '(2000)',\n",
       " '(2002)',\n",
       " '(1951)',\n",
       " '(1989)',\n",
       " '(2003)',\n",
       " '(1998)',\n",
       " '(2006)',\n",
       " '(1973)',\n",
       " '(2013)',\n",
       " '(2013)',\n",
       " '(2012)',\n",
       " '(2007)',\n",
       " '(1987)',\n",
       " '(2012)',\n",
       " '(2011)',\n",
       " '(1978)',\n",
       " '(2004)',\n",
       " '(2003)',\n",
       " '(2003)',\n",
       " '(2008)',\n",
       " '(2013)',\n",
       " '(2008)',\n",
       " '(I) (2005)',\n",
       " '(1977)',\n",
       " '(2007)',\n",
       " '(2008)',\n",
       " '(1998)',\n",
       " '(2008)',\n",
       " '(2008)',\n",
       " '(1990)',\n",
       " '(2011)',\n",
       " '(2009)',\n",
       " '(2007)',\n",
       " '(2013)',\n",
       " '(2005)',\n",
       " '(2011)',\n",
       " '(2007)',\n",
       " '(2008)',\n",
       " '(2004)',\n",
       " '(1995)',\n",
       " '(1988)',\n",
       " '(2005)',\n",
       " '(1998)']"
      ]
     },
     "execution_count": 19,
     "metadata": {},
     "output_type": "execute_result"
    }
   ],
   "source": [
    "year=soup3.find_all('span',class_=\"lister-item-year text-muted unbold\")\n",
    "year_release=[]\n",
    "for i in year:\n",
    "    year_release.append(i.text.replace(\"\\n\",''))\n",
    "year_release"
   ]
  },
  {
   "cell_type": "code",
   "execution_count": 20,
   "metadata": {
    "scrolled": true
   },
   "outputs": [
    {
     "data": {
      "text/plain": [
       "['1994',\n",
       " '1972',\n",
       " '1974',\n",
       " '2008',\n",
       " '1957',\n",
       " '1993',\n",
       " '2003',\n",
       " '1994',\n",
       " '1966',\n",
       " '1999',\n",
       " '2019',\n",
       " '2001',\n",
       " '1994',\n",
       " '2010',\n",
       " '1980',\n",
       " '2002',\n",
       " '1999',\n",
       " '1975',\n",
       " '1990',\n",
       " '1954',\n",
       " '1995',\n",
       " '2002',\n",
       " '1997',\n",
       " '1991',\n",
       " '1977',\n",
       " '1946',\n",
       " '1998',\n",
       " '2001',\n",
       " '1999',\n",
       " '1994',\n",
       " '1962',\n",
       " '2014',\n",
       " '1995',\n",
       " '1994',\n",
       " '1998',\n",
       " '1985',\n",
       " '2002',\n",
       " '1936',\n",
       " '1991',\n",
       " '2011',\n",
       " '1960',\n",
       " '2000',\n",
       " '1931',\n",
       " '2006',\n",
       " '2014',\n",
       " '1968',\n",
       " '2006',\n",
       " '2019',\n",
       " '1942',\n",
       " '1988',\n",
       " '1954',\n",
       " '1988',\n",
       " '1979',\n",
       " '1981',\n",
       " '2000',\n",
       " '1979',\n",
       " '1940',\n",
       " '2006',\n",
       " '2018',\n",
       " '2012',\n",
       " '2018',\n",
       " '1980',\n",
       " '1957',\n",
       " '2008',\n",
       " '1950',\n",
       " '1964',\n",
       " '1997',\n",
       " '2003',\n",
       " '1957',\n",
       " '2012',\n",
       " '1984',\n",
       " '2019',\n",
       " '1986',\n",
       " '1999',\n",
       " 'I 2017',\n",
       " '2016',\n",
       " '1995',\n",
       " '1981',\n",
       " '2009',\n",
       " '2007',\n",
       " '1983',\n",
       " '1995',\n",
       " '1992',\n",
       " '1984',\n",
       " '2016',\n",
       " '1997',\n",
       " '2009',\n",
       " '1931',\n",
       " '2000',\n",
       " '1968',\n",
       " '1958',\n",
       " '2004',\n",
       " '1941',\n",
       " '1987',\n",
       " '2012',\n",
       " '1959',\n",
       " '1971',\n",
       " '2000',\n",
       " '2001',\n",
       " '1921']"
      ]
     },
     "execution_count": 20,
     "metadata": {},
     "output_type": "execute_result"
    }
   ],
   "source": [
    "import re\n",
    "Release = []\n",
    "for i in range(0,len(year_release)):\n",
    "    release = re.sub(\"[()]\", \"\", year_release[i])\n",
    "    Release.append(release)\n",
    "    \n",
    "Releases"
   ]
  },
  {
   "cell_type": "code",
   "execution_count": 21,
   "metadata": {},
   "outputs": [],
   "source": [
    "movies_ind=pd.DataFrame({})\n",
    "movies_ind['Names']=movie_titles\n",
    "movies_ind['IMDB rating']=imdb_rating\n",
    "movies_ind['Year of release']=Release"
   ]
  },
  {
   "cell_type": "code",
   "execution_count": 22,
   "metadata": {},
   "outputs": [
    {
     "data": {
      "text/html": [
       "<div>\n",
       "<style scoped>\n",
       "    .dataframe tbody tr th:only-of-type {\n",
       "        vertical-align: middle;\n",
       "    }\n",
       "\n",
       "    .dataframe tbody tr th {\n",
       "        vertical-align: top;\n",
       "    }\n",
       "\n",
       "    .dataframe thead th {\n",
       "        text-align: right;\n",
       "    }\n",
       "</style>\n",
       "<table border=\"1\" class=\"dataframe\">\n",
       "  <thead>\n",
       "    <tr style=\"text-align: right;\">\n",
       "      <th></th>\n",
       "      <th>Names</th>\n",
       "      <th>IMDB rating</th>\n",
       "      <th>Year of release</th>\n",
       "    </tr>\n",
       "  </thead>\n",
       "  <tbody>\n",
       "    <tr>\n",
       "      <th>0</th>\n",
       "      <td>Black Friday</td>\n",
       "      <td>8.5</td>\n",
       "      <td>2004</td>\n",
       "    </tr>\n",
       "    <tr>\n",
       "      <th>1</th>\n",
       "      <td>Golmaal</td>\n",
       "      <td>8.5</td>\n",
       "      <td>1979</td>\n",
       "    </tr>\n",
       "    <tr>\n",
       "      <th>2</th>\n",
       "      <td>3 Idiots</td>\n",
       "      <td>8.4</td>\n",
       "      <td>2009</td>\n",
       "    </tr>\n",
       "    <tr>\n",
       "      <th>3</th>\n",
       "      <td>Taare Zameen Par</td>\n",
       "      <td>8.4</td>\n",
       "      <td>2007</td>\n",
       "    </tr>\n",
       "    <tr>\n",
       "      <th>4</th>\n",
       "      <td>Pyaasa</td>\n",
       "      <td>8.4</td>\n",
       "      <td>1957</td>\n",
       "    </tr>\n",
       "    <tr>\n",
       "      <th>...</th>\n",
       "      <td>...</td>\n",
       "      <td>...</td>\n",
       "      <td>...</td>\n",
       "    </tr>\n",
       "    <tr>\n",
       "      <th>95</th>\n",
       "      <td>Ek Hasina Thi</td>\n",
       "      <td>7.5</td>\n",
       "      <td>2004</td>\n",
       "    </tr>\n",
       "    <tr>\n",
       "      <th>96</th>\n",
       "      <td>Rangeela</td>\n",
       "      <td>7.5</td>\n",
       "      <td>1995</td>\n",
       "    </tr>\n",
       "    <tr>\n",
       "      <th>97</th>\n",
       "      <td>Qayamat Se Qayamat Tak</td>\n",
       "      <td>7.5</td>\n",
       "      <td>1988</td>\n",
       "    </tr>\n",
       "    <tr>\n",
       "      <th>98</th>\n",
       "      <td>Socha Na Tha</td>\n",
       "      <td>7.4</td>\n",
       "      <td>2005</td>\n",
       "    </tr>\n",
       "    <tr>\n",
       "      <th>99</th>\n",
       "      <td>Gunda</td>\n",
       "      <td>7.3</td>\n",
       "      <td>1998</td>\n",
       "    </tr>\n",
       "  </tbody>\n",
       "</table>\n",
       "<p>100 rows × 3 columns</p>\n",
       "</div>"
      ],
      "text/plain": [
       "                     Names IMDB rating Year of release\n",
       "0             Black Friday         8.5            2004\n",
       "1                  Golmaal         8.5            1979\n",
       "2                 3 Idiots         8.4            2009\n",
       "3         Taare Zameen Par         8.4            2007\n",
       "4                   Pyaasa         8.4            1957\n",
       "..                     ...         ...             ...\n",
       "95           Ek Hasina Thi         7.5            2004\n",
       "96                Rangeela         7.5            1995\n",
       "97  Qayamat Se Qayamat Tak         7.5            1988\n",
       "98            Socha Na Tha         7.4            2005\n",
       "99                   Gunda         7.3            1998\n",
       "\n",
       "[100 rows x 3 columns]"
      ]
     },
     "execution_count": 22,
     "metadata": {},
     "output_type": "execute_result"
    }
   ],
   "source": [
    "movies_ind"
   ]
  },
  {
   "cell_type": "markdown",
   "metadata": {},
   "source": [
    "# 4. program to scrap book name, author name, genre and book review of any 5 books from ‘www.bookpage.com’"
   ]
  },
  {
   "cell_type": "code",
   "execution_count": 23,
   "metadata": {},
   "outputs": [],
   "source": [
    "page4= requests.get('https://bookpage.com/reviews')\n",
    "soup4= BeautifulSoup(page4.content,'html.parser')\n",
    "import re"
   ]
  },
  {
   "cell_type": "code",
   "execution_count": 24,
   "metadata": {},
   "outputs": [
    {
     "data": {
      "text/plain": [
       "['\\n  The One Hundred Years of Lenni and Margot\\n',\n",
       " '\\nWe Can’t Keep Meeting Like This\\n',\n",
       " '\\n  The Ride of Her Life\\n',\n",
       " '\\n  Golden Girl\\n',\n",
       " '\\nThe Road Trip\\n']"
      ]
     },
     "execution_count": 24,
     "metadata": {},
     "output_type": "execute_result"
    }
   ],
   "source": [
    "name= soup4.find_all('h4',class_=\"italic\")\n",
    "name_titles=[]\n",
    "for i in name:\n",
    "    name_titles.append(i.text.replace('★',\"\"))\n",
    "\n",
    "name_titles[:5]"
   ]
  },
  {
   "cell_type": "code",
   "execution_count": 25,
   "metadata": {},
   "outputs": [
    {
     "data": {
      "text/plain": [
       "['  The One Hundred Years of Lenni and Margot',\n",
       " 'We Can’t Keep Meeting Like This',\n",
       " '  The Ride of Her Life',\n",
       " '  Golden Girl',\n",
       " 'The Road Trip']"
      ]
     },
     "execution_count": 25,
     "metadata": {},
     "output_type": "execute_result"
    }
   ],
   "source": [
    "title_name =[]\n",
    "for i in range(0,len(name_titles)):\n",
    "    book_title = re.sub(\"\\n\", \"\", name_titles[i])\n",
    "    title_name.append(book_title)\n",
    "    \n",
    "title_name[:5]"
   ]
  },
  {
   "cell_type": "markdown",
   "metadata": {},
   "source": [
    "### Author name"
   ]
  },
  {
   "cell_type": "code",
   "execution_count": 26,
   "metadata": {},
   "outputs": [
    {
     "data": {
      "text/plain": [
       "['Marianne Cronin',\n",
       " 'Rachel Lynn Solomon',\n",
       " 'Elizabeth Letts',\n",
       " 'Elin Hilderbrand',\n",
       " \"Beth O'Leary\"]"
      ]
     },
     "execution_count": 26,
     "metadata": {},
     "output_type": "execute_result"
    }
   ],
   "source": [
    "author=soup4.find_all('p',class_=\"sans bold\")\n",
    "auth_name=[]\n",
    "for i in author:\n",
    "    auth_name.append(i.text.replace(\"\\n\",''))\n",
    "auth_name[:5]"
   ]
  },
  {
   "cell_type": "markdown",
   "metadata": {},
   "source": [
    "###  genre"
   ]
  },
  {
   "cell_type": "code",
   "execution_count": 27,
   "metadata": {},
   "outputs": [
    {
     "data": {
      "text/plain": [
       "['Fiction / Popular Fiction',\n",
       " 'YA / YA Fiction',\n",
       " 'Nonfiction / Biography / Animals',\n",
       " 'Fiction / Family Drama',\n",
       " 'Romance / Contemporary Romance']"
      ]
     },
     "execution_count": 27,
     "metadata": {},
     "output_type": "execute_result"
    }
   ],
   "source": [
    "genre=soup4.find_all('p',class_=\"genre-links hidden-phone\")\n",
    "genre_type=[]\n",
    "for i in genre:\n",
    "    genre_type.append(i.text.replace(\"\\n\",''))\n",
    "genre_type[:5]"
   ]
  },
  {
   "cell_type": "markdown",
   "metadata": {},
   "source": [
    "### book review"
   ]
  },
  {
   "cell_type": "code",
   "execution_count": 136,
   "metadata": {},
   "outputs": [
    {
     "data": {
      "text/plain": [
       "['  The One Hundred Years of Lenni and MargotMarianne CroninFiction / Popular FictionEven in the face of death’s inevitability, friendship can be found, forgiveness can flourish and fun can ease fear.Read the Review ',\n",
       " \"We Can’t Keep Meeting Like ThisRachel Lynn SolomonYA / YA FictionThough Quinn dutifully plays the harp for her family's wedding-planning business, Borrowed + Blue, she doesn't believe in romance anymore, especially not the kind that starts with grand gestures and always ends in heartbreak.Read the Review \",\n",
       " '  The Ride of Her LifeElizabeth LettsNonfiction / Biography / AnimalsThis is a feel-good story in every way, and Elizabeth Letts keeps the momentum lively, sprinkling in interesting historical tidbits that enrich the drama.Read the Review ',\n",
       " '  Golden GirlElin HilderbrandFiction / Family DramaKilling off the main character just a few pages into a book is somewhat unorthodox, but it’s just the first of many interesting choices Elin Hilderbrand makes.Read the Review ',\n",
       " \"The Road TripBeth O'LearyRomance / Contemporary RomanceIn Beth O’Leary’s The Road Trip, the path to hell (and happy ever after) is paved with exes and their besties.Read the Review \"]"
      ]
     },
     "execution_count": 136,
     "metadata": {},
     "output_type": "execute_result"
    }
   ],
   "source": [
    "review=soup4.find_all('div',class_=\"flex-article-content\")\n",
    "book_review=[]\n",
    "for i in review:\n",
    "    book_review.append(i.text.replace('★',\"\").replace('\\n',''))\n",
    "\n",
    "book_review[:5]"
   ]
  },
  {
   "cell_type": "code",
   "execution_count": 137,
   "metadata": {},
   "outputs": [],
   "source": [
    "books=pd.DataFrame({})\n",
    "books['Book Name']=title_name[:5]\n",
    "books['Author Name']=auth_name[:5]\n",
    "books['Genre']=genre_type[:5]\n",
    "books['Book review']=book_review[:5]"
   ]
  },
  {
   "cell_type": "code",
   "execution_count": 138,
   "metadata": {},
   "outputs": [
    {
     "data": {
      "text/html": [
       "<div>\n",
       "<style scoped>\n",
       "    .dataframe tbody tr th:only-of-type {\n",
       "        vertical-align: middle;\n",
       "    }\n",
       "\n",
       "    .dataframe tbody tr th {\n",
       "        vertical-align: top;\n",
       "    }\n",
       "\n",
       "    .dataframe thead th {\n",
       "        text-align: right;\n",
       "    }\n",
       "</style>\n",
       "<table border=\"1\" class=\"dataframe\">\n",
       "  <thead>\n",
       "    <tr style=\"text-align: right;\">\n",
       "      <th></th>\n",
       "      <th>Book Name</th>\n",
       "      <th>Author Name</th>\n",
       "      <th>Genre</th>\n",
       "      <th>Book review</th>\n",
       "    </tr>\n",
       "  </thead>\n",
       "  <tbody>\n",
       "    <tr>\n",
       "      <th>0</th>\n",
       "      <td>The One Hundred Years of Lenni and Margot</td>\n",
       "      <td>Marianne Cronin</td>\n",
       "      <td>Fiction / Popular Fiction</td>\n",
       "      <td>The One Hundred Years of Lenni and MargotMar...</td>\n",
       "    </tr>\n",
       "    <tr>\n",
       "      <th>1</th>\n",
       "      <td>We Can’t Keep Meeting Like This</td>\n",
       "      <td>Rachel Lynn Solomon</td>\n",
       "      <td>YA / YA Fiction</td>\n",
       "      <td>We Can’t Keep Meeting Like ThisRachel Lynn Sol...</td>\n",
       "    </tr>\n",
       "    <tr>\n",
       "      <th>2</th>\n",
       "      <td>The Ride of Her Life</td>\n",
       "      <td>Elizabeth Letts</td>\n",
       "      <td>Nonfiction / Biography / Animals</td>\n",
       "      <td>The Ride of Her LifeElizabeth LettsNonfictio...</td>\n",
       "    </tr>\n",
       "    <tr>\n",
       "      <th>3</th>\n",
       "      <td>Golden Girl</td>\n",
       "      <td>Elin Hilderbrand</td>\n",
       "      <td>Fiction / Family Drama</td>\n",
       "      <td>Golden GirlElin HilderbrandFiction / Family ...</td>\n",
       "    </tr>\n",
       "    <tr>\n",
       "      <th>4</th>\n",
       "      <td>The Road Trip</td>\n",
       "      <td>Beth O'Leary</td>\n",
       "      <td>Romance / Contemporary Romance</td>\n",
       "      <td>The Road TripBeth O'LearyRomance / Contemporar...</td>\n",
       "    </tr>\n",
       "  </tbody>\n",
       "</table>\n",
       "</div>"
      ],
      "text/plain": [
       "                                     Book Name          Author Name  \\\n",
       "0    The One Hundred Years of Lenni and Margot      Marianne Cronin   \n",
       "1              We Can’t Keep Meeting Like This  Rachel Lynn Solomon   \n",
       "2                         The Ride of Her Life      Elizabeth Letts   \n",
       "3                                  Golden Girl     Elin Hilderbrand   \n",
       "4                                The Road Trip         Beth O'Leary   \n",
       "\n",
       "                              Genre  \\\n",
       "0         Fiction / Popular Fiction   \n",
       "1                   YA / YA Fiction   \n",
       "2  Nonfiction / Biography / Animals   \n",
       "3            Fiction / Family Drama   \n",
       "4    Romance / Contemporary Romance   \n",
       "\n",
       "                                         Book review  \n",
       "0    The One Hundred Years of Lenni and MargotMar...  \n",
       "1  We Can’t Keep Meeting Like ThisRachel Lynn Sol...  \n",
       "2    The Ride of Her LifeElizabeth LettsNonfictio...  \n",
       "3    Golden GirlElin HilderbrandFiction / Family ...  \n",
       "4  The Road TripBeth O'LearyRomance / Contemporar...  "
      ]
     },
     "execution_count": 138,
     "metadata": {},
     "output_type": "execute_result"
    }
   ],
   "source": [
    "books"
   ]
  },
  {
   "cell_type": "markdown",
   "metadata": {},
   "source": [
    "# 5.  python program to scrape cricket rankings from ‘www.icc-cricket.com’."
   ]
  },
  {
   "cell_type": "code",
   "execution_count": 31,
   "metadata": {},
   "outputs": [],
   "source": [
    "page5= requests.get('https://www.icc-cricket.com/rankings/mens/team-rankings/odi')\n",
    "soup5= BeautifulSoup(page5.content,'html.parser')\n",
    "import re"
   ]
  },
  {
   "cell_type": "markdown",
   "metadata": {},
   "source": [
    "### (i) Top 10 ODI teams in men’s cricket along with the records for matches, points and rating."
   ]
  },
  {
   "cell_type": "markdown",
   "metadata": {},
   "source": [
    "#### Team"
   ]
  },
  {
   "cell_type": "code",
   "execution_count": 32,
   "metadata": {},
   "outputs": [
    {
     "data": {
      "text/plain": [
       "['New Zealand',\n",
       " 'Australia',\n",
       " 'India',\n",
       " 'England',\n",
       " 'South Africa',\n",
       " 'Pakistan',\n",
       " 'Bangladesh',\n",
       " 'West Indies',\n",
       " 'Sri Lanka',\n",
       " 'Afghanistan']"
      ]
     },
     "execution_count": 32,
     "metadata": {},
     "output_type": "execute_result"
    }
   ],
   "source": [
    "Team=soup5.find_all('span',class_=\"u-hide-phablet\")\n",
    "team_review=[]\n",
    "for i in Team:\n",
    "    team_review.append(i.text.replace(\"\\n\",''))\n",
    "team_review[:10]"
   ]
  },
  {
   "cell_type": "markdown",
   "metadata": {},
   "source": [
    "#### matches & points"
   ]
  },
  {
   "cell_type": "code",
   "execution_count": 33,
   "metadata": {},
   "outputs": [],
   "source": [
    "new=soup5.find('td',class_='rankings-block__banner--matches')\n",
    "new2= soup5.find('td',class_='rankings-block__banner--points')"
   ]
  },
  {
   "cell_type": "code",
   "execution_count": 34,
   "metadata": {
    "scrolled": true
   },
   "outputs": [],
   "source": [
    "new_list=soup5.find_all('td',class_=\"table-body__cell u-center-text\")\n",
    "\n",
    "\n",
    "matches=[]\n",
    "points=[]\n",
    "matches.append(new)\n",
    "points.append(new2)\n",
    "for i in range(0,len(new_list)-1,2):\n",
    "    \n",
    "    matches.append(new_list[i]) \n",
    "    points.append(new_list[i+1]) \n",
    "\n",
    "\n"
   ]
  },
  {
   "cell_type": "code",
   "execution_count": 35,
   "metadata": {},
   "outputs": [
    {
     "data": {
      "text/plain": [
       "['17', '25', '29', '27', '20', '24', '27', '27', '24', '17']"
      ]
     },
     "execution_count": 35,
     "metadata": {},
     "output_type": "execute_result"
    }
   ],
   "source": [
    "#Matches\n",
    "match=[]\n",
    "for i in matches:\n",
    "    match.append(i.text.replace(\"\\n\",''))\n",
    "match[:10]"
   ]
  },
  {
   "cell_type": "code",
   "execution_count": 36,
   "metadata": {},
   "outputs": [
    {
     "data": {
      "text/plain": [
       "['2,054',\n",
       " '2,945',\n",
       " '3,344',\n",
       " '3,100',\n",
       " '2,137',\n",
       " '2,323',\n",
       " '2,438',\n",
       " '2,222',\n",
       " '1,876',\n",
       " '1,054']"
      ]
     },
     "execution_count": 36,
     "metadata": {},
     "output_type": "execute_result"
    }
   ],
   "source": [
    "#Point\n",
    "point=[]\n",
    "for i in points:\n",
    "    point.append(i.text.replace(\"\\n\",''))\n",
    "point[:10]"
   ]
  },
  {
   "cell_type": "markdown",
   "metadata": {},
   "source": [
    "#### Ratings"
   ]
  },
  {
   "cell_type": "code",
   "execution_count": 37,
   "metadata": {},
   "outputs": [
    {
     "data": {
      "text/plain": [
       "['121', '118', '115', '97', '82', '62', '42', '37', '24', '16']"
      ]
     },
     "execution_count": 37,
     "metadata": {},
     "output_type": "execute_result"
    }
   ],
   "source": [
    "new3=soup5.find('td',class_='rankings-block__banner--rating u-text-right')\n",
    "rating=soup5.find_all('td',class_=\"table-body__cell u-text-right rating\")\n",
    "rate=[]\n",
    "rate.append(new3)\n",
    "for i in range(0,len(rating)-1,2):\n",
    "    rate.append(rating[i])\n",
    "rates=[]\n",
    "for i in rate:\n",
    "    rates.append(i.text.replace(\"\\n\",'').strip())\n",
    "rates[:10]"
   ]
  },
  {
   "cell_type": "code",
   "execution_count": 38,
   "metadata": {},
   "outputs": [
    {
     "data": {
      "text/plain": [
       "['121', '118', '115', '97', '82', '62', '42', '37', '24', '16']"
      ]
     },
     "execution_count": 38,
     "metadata": {},
     "output_type": "execute_result"
    }
   ],
   "source": [
    "rates=[]\n",
    "for i in rate:\n",
    "    rates.append(i.text.replace(\"\\n\",'').strip())\n",
    "rates[:10]"
   ]
  },
  {
   "cell_type": "markdown",
   "metadata": {},
   "source": [
    "#### Dataframe"
   ]
  },
  {
   "cell_type": "code",
   "execution_count": 39,
   "metadata": {},
   "outputs": [],
   "source": [
    "Team=pd.DataFrame({})\n",
    "Team['Team']=team_review[:10]\n",
    "Team['Matches']=match[:10]\n",
    "Team['Points']=point[:10]\n",
    "Team['Rating']=rates[:10]"
   ]
  },
  {
   "cell_type": "code",
   "execution_count": 40,
   "metadata": {},
   "outputs": [],
   "source": [
    "pos= pd.Index(range(1, 11, 1))"
   ]
  },
  {
   "cell_type": "code",
   "execution_count": 41,
   "metadata": {},
   "outputs": [],
   "source": [
    "Team = Team.set_index(pos)"
   ]
  },
  {
   "cell_type": "code",
   "execution_count": 42,
   "metadata": {},
   "outputs": [
    {
     "data": {
      "text/html": [
       "<div>\n",
       "<style scoped>\n",
       "    .dataframe tbody tr th:only-of-type {\n",
       "        vertical-align: middle;\n",
       "    }\n",
       "\n",
       "    .dataframe tbody tr th {\n",
       "        vertical-align: top;\n",
       "    }\n",
       "\n",
       "    .dataframe thead th {\n",
       "        text-align: right;\n",
       "    }\n",
       "</style>\n",
       "<table border=\"1\" class=\"dataframe\">\n",
       "  <thead>\n",
       "    <tr style=\"text-align: right;\">\n",
       "      <th></th>\n",
       "      <th>Team</th>\n",
       "      <th>Matches</th>\n",
       "      <th>Points</th>\n",
       "      <th>Rating</th>\n",
       "    </tr>\n",
       "  </thead>\n",
       "  <tbody>\n",
       "    <tr>\n",
       "      <th>1</th>\n",
       "      <td>New Zealand</td>\n",
       "      <td>17</td>\n",
       "      <td>2,054</td>\n",
       "      <td>121</td>\n",
       "    </tr>\n",
       "    <tr>\n",
       "      <th>2</th>\n",
       "      <td>Australia</td>\n",
       "      <td>25</td>\n",
       "      <td>2,945</td>\n",
       "      <td>118</td>\n",
       "    </tr>\n",
       "    <tr>\n",
       "      <th>3</th>\n",
       "      <td>India</td>\n",
       "      <td>29</td>\n",
       "      <td>3,344</td>\n",
       "      <td>115</td>\n",
       "    </tr>\n",
       "    <tr>\n",
       "      <th>4</th>\n",
       "      <td>England</td>\n",
       "      <td>27</td>\n",
       "      <td>3,100</td>\n",
       "      <td>97</td>\n",
       "    </tr>\n",
       "    <tr>\n",
       "      <th>5</th>\n",
       "      <td>South Africa</td>\n",
       "      <td>20</td>\n",
       "      <td>2,137</td>\n",
       "      <td>82</td>\n",
       "    </tr>\n",
       "    <tr>\n",
       "      <th>6</th>\n",
       "      <td>Pakistan</td>\n",
       "      <td>24</td>\n",
       "      <td>2,323</td>\n",
       "      <td>62</td>\n",
       "    </tr>\n",
       "    <tr>\n",
       "      <th>7</th>\n",
       "      <td>Bangladesh</td>\n",
       "      <td>27</td>\n",
       "      <td>2,438</td>\n",
       "      <td>42</td>\n",
       "    </tr>\n",
       "    <tr>\n",
       "      <th>8</th>\n",
       "      <td>West Indies</td>\n",
       "      <td>27</td>\n",
       "      <td>2,222</td>\n",
       "      <td>37</td>\n",
       "    </tr>\n",
       "    <tr>\n",
       "      <th>9</th>\n",
       "      <td>Sri Lanka</td>\n",
       "      <td>24</td>\n",
       "      <td>1,876</td>\n",
       "      <td>24</td>\n",
       "    </tr>\n",
       "    <tr>\n",
       "      <th>10</th>\n",
       "      <td>Afghanistan</td>\n",
       "      <td>17</td>\n",
       "      <td>1,054</td>\n",
       "      <td>16</td>\n",
       "    </tr>\n",
       "  </tbody>\n",
       "</table>\n",
       "</div>"
      ],
      "text/plain": [
       "            Team Matches Points Rating\n",
       "1    New Zealand      17  2,054    121\n",
       "2      Australia      25  2,945    118\n",
       "3          India      29  3,344    115\n",
       "4        England      27  3,100     97\n",
       "5   South Africa      20  2,137     82\n",
       "6       Pakistan      24  2,323     62\n",
       "7     Bangladesh      27  2,438     42\n",
       "8    West Indies      27  2,222     37\n",
       "9      Sri Lanka      24  1,876     24\n",
       "10   Afghanistan      17  1,054     16"
      ]
     },
     "execution_count": 42,
     "metadata": {},
     "output_type": "execute_result"
    }
   ],
   "source": [
    "Team"
   ]
  },
  {
   "cell_type": "markdown",
   "metadata": {},
   "source": [
    "## ii) Top 10 ODI Batsmen in men along with the records of their team and rating."
   ]
  },
  {
   "cell_type": "code",
   "execution_count": 43,
   "metadata": {},
   "outputs": [],
   "source": [
    "page6= requests.get('https://www.icc-cricket.com/rankings/mens/player-rankings/odi/batting')\n",
    "soup6= BeautifulSoup(page6.content,'html.parser')\n",
    "import re"
   ]
  },
  {
   "cell_type": "markdown",
   "metadata": {},
   "source": [
    "#### Players name"
   ]
  },
  {
   "cell_type": "code",
   "execution_count": 44,
   "metadata": {},
   "outputs": [
    {
     "data": {
      "text/plain": [
       "<div class=\"rankings-block__banner--name-large\">Babar Azam</div>"
      ]
     },
     "execution_count": 44,
     "metadata": {},
     "output_type": "execute_result"
    }
   ],
   "source": [
    "list1= soup6.find('div',class_='rankings-block__banner--name-large')\n",
    "list1"
   ]
  },
  {
   "cell_type": "code",
   "execution_count": 45,
   "metadata": {},
   "outputs": [],
   "source": [
    "p_name=soup6.find_all('td',class_=\"table-body__cell rankings-table__name name\")\n",
    "player=[]\n",
    "player.append(list1)\n",
    "for i in range(0,len(p_name)):\n",
    "        player.append(p_name[i])\n"
   ]
  },
  {
   "cell_type": "code",
   "execution_count": 46,
   "metadata": {
    "scrolled": true
   },
   "outputs": [
    {
     "data": {
      "text/plain": [
       "['Babar Azam',\n",
       " 'Virat Kohli',\n",
       " 'Rohit Sharma',\n",
       " 'Ross Taylor',\n",
       " 'Aaron Finch',\n",
       " 'Jonny Bairstow',\n",
       " 'Fakhar Zaman',\n",
       " 'Francois du Plessis',\n",
       " 'David Warner',\n",
       " 'Shai Hope',\n",
       " 'Quinton de Kock',\n",
       " 'Kane Williamson',\n",
       " 'Imam-ul-Haq',\n",
       " 'Mushfiqur Rahim',\n",
       " 'Joe Root',\n",
       " 'Steve Smith',\n",
       " 'Martin Guptill',\n",
       " 'Shikhar Dhawan',\n",
       " 'Jason Roy',\n",
       " 'Glenn Maxwell',\n",
       " 'Paul Stirling',\n",
       " 'Rassie van der Dussen',\n",
       " 'Usman Khawaja',\n",
       " 'Ben Stokes',\n",
       " 'Tamim Iqbal',\n",
       " 'Eoin Morgan',\n",
       " 'Lokesh Rahul',\n",
       " 'Alex Carey',\n",
       " 'David Miller',\n",
       " 'Shimron Hetmyer',\n",
       " 'Shakib Al Hasan',\n",
       " 'Jos Buttler',\n",
       " 'Tom Latham',\n",
       " 'Nicholas Pooran',\n",
       " 'Haris Sohail',\n",
       " 'Mahmudullah',\n",
       " 'Henry Nicholls',\n",
       " 'Aqib Ilyas',\n",
       " 'Kyle Coetzer',\n",
       " 'Brendan Taylor',\n",
       " 'Angelo Mathews',\n",
       " 'Kusal Perera',\n",
       " 'Hardik Pandya',\n",
       " 'Sean Williams',\n",
       " 'Kedar Jadhav',\n",
       " 'Evin Lewis',\n",
       " 'Rahmat Shah',\n",
       " 'Danushka Gunathilaka',\n",
       " 'Mohammad Hafeez',\n",
       " 'Kusal Mendis',\n",
       " 'Andrew Balbirnie',\n",
       " 'Sikandar Raza',\n",
       " 'Litton Das',\n",
       " 'Imad Wasim',\n",
       " 'Soumya Sarkar',\n",
       " 'Marcus Stoinis',\n",
       " 'Mohammad Shahzad',\n",
       " 'Niroshan Dickwella',\n",
       " 'Sarfaraz Ahmed',\n",
       " 'Calum MacLeod',\n",
       " 'Colin de Grandhomme',\n",
       " 'Najibullah Zadran',\n",
       " 'Marnus Labuschagne',\n",
       " 'Chris Gayle',\n",
       " 'Hashmatullah Shaidi',\n",
       " 'Avishka Fernando',\n",
       " 'Jimmy Neesham',\n",
       " 'Shaun Marsh',\n",
       " \"Kevin O'Brien\",\n",
       " 'Mohammad Nabi',\n",
       " 'Mitchell Marsh',\n",
       " 'Peter Handscomb',\n",
       " 'Shreyas Iyer',\n",
       " 'Asghar Afghan',\n",
       " 'Richard Berrington',\n",
       " 'William Porterfield',\n",
       " 'Muhammad Usman',\n",
       " 'Colin Munro',\n",
       " 'Craig Ervine',\n",
       " 'Mitchell Santner',\n",
       " 'Heinrich Klaasen',\n",
       " 'Aiden Markram',\n",
       " 'Andile Phehlukwayo',\n",
       " 'Lahiru Thirimanne',\n",
       " 'Dhananjaya de Silva',\n",
       " 'Jason Holder',\n",
       " 'Temba Bavuma',\n",
       " 'Assad Vala',\n",
       " 'Ravindra Jadeja',\n",
       " 'Sabbir Rahman',\n",
       " 'Mithun Ali',\n",
       " 'Rishabh Pant',\n",
       " 'Rashid Khan',\n",
       " 'George Munsey',\n",
       " 'Dinesh Chandimal',\n",
       " 'Rovman Powell',\n",
       " 'Tony Ura',\n",
       " 'Gulbadin Naib',\n",
       " 'Chris Woakes',\n",
       " 'Sam Billings']"
      ]
     },
     "execution_count": 46,
     "metadata": {},
     "output_type": "execute_result"
    }
   ],
   "source": [
    "name=[]\n",
    "for i in player:\n",
    "      name.append(i.text.replace(\"\\n\",\"\"))\n",
    "name"
   ]
  },
  {
   "cell_type": "markdown",
   "metadata": {},
   "source": [
    "#### Team"
   ]
  },
  {
   "cell_type": "code",
   "execution_count": 47,
   "metadata": {},
   "outputs": [
    {
     "data": {
      "text/plain": [
       "<div class=\"rankings-block__banner--nationality\">\n",
       "<div class=\"flag-15 PAK\"></div>\n",
       "<span class=\"rankings-block__banner--nation\"></span>PAK\n",
       "</div>"
      ]
     },
     "execution_count": 47,
     "metadata": {},
     "output_type": "execute_result"
    }
   ],
   "source": [
    "list2= soup6.find('div',class_='rankings-block__banner--nationality')\n",
    "list2"
   ]
  },
  {
   "cell_type": "code",
   "execution_count": 48,
   "metadata": {
    "scrolled": true
   },
   "outputs": [],
   "source": [
    "t_name=soup6.find_all('span',class_=\"table-body__logo-text\")\n",
    "team=[]\n",
    "team.append(list2)\n",
    "for i in range(0,len(t_name)):\n",
    "        team.append(t_name[i])\n"
   ]
  },
  {
   "cell_type": "code",
   "execution_count": 49,
   "metadata": {
    "scrolled": true
   },
   "outputs": [
    {
     "data": {
      "text/plain": [
       "['PAK',\n",
       " 'IND',\n",
       " 'IND',\n",
       " 'NZ',\n",
       " 'AUS',\n",
       " 'ENG',\n",
       " 'PAK',\n",
       " 'SA',\n",
       " 'AUS',\n",
       " 'WI',\n",
       " 'SA',\n",
       " 'NZ',\n",
       " 'PAK',\n",
       " 'BAN',\n",
       " 'ENG',\n",
       " 'AUS',\n",
       " 'NZ',\n",
       " 'IND',\n",
       " 'ENG',\n",
       " 'AUS',\n",
       " 'IRE',\n",
       " 'SA',\n",
       " 'AUS',\n",
       " 'ENG',\n",
       " 'BAN',\n",
       " 'ENG',\n",
       " 'IND',\n",
       " 'AUS',\n",
       " 'SA',\n",
       " 'WI',\n",
       " 'BAN',\n",
       " 'ENG',\n",
       " 'NZ',\n",
       " 'WI',\n",
       " 'PAK',\n",
       " 'BAN',\n",
       " 'NZ',\n",
       " 'OMA',\n",
       " 'SCO',\n",
       " 'ZIM',\n",
       " 'SL',\n",
       " 'SL',\n",
       " 'IND',\n",
       " 'ZIM',\n",
       " 'IND',\n",
       " 'WI',\n",
       " 'AFG',\n",
       " 'SL',\n",
       " 'PAK',\n",
       " 'SL',\n",
       " 'IRE',\n",
       " 'ZIM',\n",
       " 'BAN',\n",
       " 'PAK',\n",
       " 'BAN',\n",
       " 'AUS',\n",
       " 'AFG',\n",
       " 'SL',\n",
       " 'PAK',\n",
       " 'SCO',\n",
       " 'NZ',\n",
       " 'AFG',\n",
       " 'AUS',\n",
       " 'WI',\n",
       " 'AFG',\n",
       " 'SL',\n",
       " 'NZ',\n",
       " 'AUS',\n",
       " 'IRE',\n",
       " 'AFG',\n",
       " 'AUS',\n",
       " 'AUS',\n",
       " 'IND',\n",
       " 'AFG',\n",
       " 'SCO',\n",
       " 'IRE',\n",
       " 'UAE',\n",
       " 'NZ',\n",
       " 'ZIM',\n",
       " 'NZ',\n",
       " 'SA',\n",
       " 'SA',\n",
       " 'SA',\n",
       " 'SL',\n",
       " 'SL',\n",
       " 'WI',\n",
       " 'SA',\n",
       " 'PNG',\n",
       " 'IND',\n",
       " 'BAN',\n",
       " 'BAN',\n",
       " 'IND',\n",
       " 'AFG',\n",
       " 'SCO',\n",
       " 'SL',\n",
       " 'WI',\n",
       " 'PNG',\n",
       " 'AFG',\n",
       " 'ENG',\n",
       " 'ENG']"
      ]
     },
     "execution_count": 49,
     "metadata": {},
     "output_type": "execute_result"
    }
   ],
   "source": [
    "team_name=[]\n",
    "for i in team:\n",
    "    team_name.append(i.text.replace(\"\\n\",\"\"))\n",
    "team_name"
   ]
  },
  {
   "cell_type": "markdown",
   "metadata": {},
   "source": [
    "#### RATING"
   ]
  },
  {
   "cell_type": "code",
   "execution_count": 50,
   "metadata": {},
   "outputs": [],
   "source": [
    "list3=soup6.find('div',class_='rankings-block__banner--rating')"
   ]
  },
  {
   "cell_type": "code",
   "execution_count": 51,
   "metadata": {
    "scrolled": true
   },
   "outputs": [],
   "source": [
    "rating=soup6.find_all('td',class_='table-body__cell rating')\n",
    "rate=[]\n",
    "rate.append(list3)\n",
    "for i in range(0,len(rating)):\n",
    "    rate.append(rating[i])"
   ]
  },
  {
   "cell_type": "code",
   "execution_count": 52,
   "metadata": {},
   "outputs": [
    {
     "data": {
      "text/plain": [
       "['865', '857', '825', '801', '791', '785', '778', '778', '773', '773']"
      ]
     },
     "execution_count": 52,
     "metadata": {},
     "output_type": "execute_result"
    }
   ],
   "source": [
    "Rating=[]\n",
    "for i in rate:\n",
    "    Rating.append(i.text.replace(\"\\n\",\"\"))\n",
    "Rating[:10]"
   ]
  },
  {
   "cell_type": "code",
   "execution_count": 53,
   "metadata": {},
   "outputs": [],
   "source": [
    "Playerm=pd.DataFrame({})\n",
    "Playerm['Player']=name[:10]\n",
    "Playerm['Team']=team_name[:10]\n",
    "Playerm['Rating']=Rating[:10]"
   ]
  },
  {
   "cell_type": "code",
   "execution_count": 54,
   "metadata": {},
   "outputs": [
    {
     "data": {
      "text/html": [
       "<div>\n",
       "<style scoped>\n",
       "    .dataframe tbody tr th:only-of-type {\n",
       "        vertical-align: middle;\n",
       "    }\n",
       "\n",
       "    .dataframe tbody tr th {\n",
       "        vertical-align: top;\n",
       "    }\n",
       "\n",
       "    .dataframe thead th {\n",
       "        text-align: right;\n",
       "    }\n",
       "</style>\n",
       "<table border=\"1\" class=\"dataframe\">\n",
       "  <thead>\n",
       "    <tr style=\"text-align: right;\">\n",
       "      <th></th>\n",
       "      <th>Player</th>\n",
       "      <th>Team</th>\n",
       "      <th>Rating</th>\n",
       "    </tr>\n",
       "  </thead>\n",
       "  <tbody>\n",
       "    <tr>\n",
       "      <th>1</th>\n",
       "      <td>Babar Azam</td>\n",
       "      <td>PAK</td>\n",
       "      <td>865</td>\n",
       "    </tr>\n",
       "    <tr>\n",
       "      <th>2</th>\n",
       "      <td>Virat Kohli</td>\n",
       "      <td>IND</td>\n",
       "      <td>857</td>\n",
       "    </tr>\n",
       "    <tr>\n",
       "      <th>3</th>\n",
       "      <td>Rohit Sharma</td>\n",
       "      <td>IND</td>\n",
       "      <td>825</td>\n",
       "    </tr>\n",
       "    <tr>\n",
       "      <th>4</th>\n",
       "      <td>Ross Taylor</td>\n",
       "      <td>NZ</td>\n",
       "      <td>801</td>\n",
       "    </tr>\n",
       "    <tr>\n",
       "      <th>5</th>\n",
       "      <td>Aaron Finch</td>\n",
       "      <td>AUS</td>\n",
       "      <td>791</td>\n",
       "    </tr>\n",
       "    <tr>\n",
       "      <th>6</th>\n",
       "      <td>Jonny Bairstow</td>\n",
       "      <td>ENG</td>\n",
       "      <td>785</td>\n",
       "    </tr>\n",
       "    <tr>\n",
       "      <th>7</th>\n",
       "      <td>Fakhar Zaman</td>\n",
       "      <td>PAK</td>\n",
       "      <td>778</td>\n",
       "    </tr>\n",
       "    <tr>\n",
       "      <th>8</th>\n",
       "      <td>Francois du Plessis</td>\n",
       "      <td>SA</td>\n",
       "      <td>778</td>\n",
       "    </tr>\n",
       "    <tr>\n",
       "      <th>9</th>\n",
       "      <td>David Warner</td>\n",
       "      <td>AUS</td>\n",
       "      <td>773</td>\n",
       "    </tr>\n",
       "    <tr>\n",
       "      <th>10</th>\n",
       "      <td>Shai Hope</td>\n",
       "      <td>WI</td>\n",
       "      <td>773</td>\n",
       "    </tr>\n",
       "  </tbody>\n",
       "</table>\n",
       "</div>"
      ],
      "text/plain": [
       "                 Player Team Rating\n",
       "1            Babar Azam  PAK    865\n",
       "2           Virat Kohli  IND    857\n",
       "3          Rohit Sharma  IND    825\n",
       "4           Ross Taylor   NZ    801\n",
       "5           Aaron Finch  AUS    791\n",
       "6        Jonny Bairstow  ENG    785\n",
       "7          Fakhar Zaman  PAK    778\n",
       "8   Francois du Plessis   SA    778\n",
       "9          David Warner  AUS    773\n",
       "10            Shai Hope   WI    773"
      ]
     },
     "execution_count": 54,
     "metadata": {},
     "output_type": "execute_result"
    }
   ],
   "source": [
    "pos= pd.Index(range(1, 11, 1))\n",
    "Playerm = Playerm.set_index(pos)\n",
    "Playerm"
   ]
  },
  {
   "cell_type": "markdown",
   "metadata": {},
   "source": [
    "### iii) Top 10 ODI bowlers along with the records of their team and rating."
   ]
  },
  {
   "cell_type": "code",
   "execution_count": 55,
   "metadata": {},
   "outputs": [],
   "source": [
    "page7= requests.get('https://www.icc-cricket.com/rankings/mens/player-rankings/odi/bowling')\n",
    "soup7= BeautifulSoup(page7.content,'html.parser')\n",
    "import re"
   ]
  },
  {
   "cell_type": "markdown",
   "metadata": {},
   "source": [
    "##### Player"
   ]
  },
  {
   "cell_type": "code",
   "execution_count": 56,
   "metadata": {},
   "outputs": [
    {
     "data": {
      "text/plain": [
       "['Trent Boult',\n",
       " 'Mehedi Hasan',\n",
       " 'Mujeeb Ur Rahman',\n",
       " 'Matt Henry',\n",
       " 'Jasprit Bumrah',\n",
       " 'Kagiso Rabada',\n",
       " 'Chris Woakes',\n",
       " 'Josh Hazlewood',\n",
       " 'Pat Cummins',\n",
       " 'Mustafizur Rahman']"
      ]
     },
     "execution_count": 56,
     "metadata": {},
     "output_type": "execute_result"
    }
   ],
   "source": [
    "list1= soup7.find('div',class_='rankings-block__banner--name-large')\n",
    "p_name=soup7.find_all('td',class_=\"table-body__cell rankings-table__name name\")\n",
    "player=[]\n",
    "player.append(list1)\n",
    "for i in range(0,len(p_name)):\n",
    "        player.append(p_name[i])\n",
    "name=[]\n",
    "for i in player:\n",
    "      name.append(i.text.replace(\"\\n\",\"\"))\n",
    "name[:10]"
   ]
  },
  {
   "cell_type": "markdown",
   "metadata": {},
   "source": [
    "##### Team"
   ]
  },
  {
   "cell_type": "code",
   "execution_count": 57,
   "metadata": {
    "scrolled": true
   },
   "outputs": [
    {
     "data": {
      "text/plain": [
       "['NZ', 'BAN', 'AFG', 'NZ', 'IND', 'SA', 'ENG', 'AUS', 'AUS', 'BAN']"
      ]
     },
     "execution_count": 57,
     "metadata": {},
     "output_type": "execute_result"
    }
   ],
   "source": [
    "list2= soup7.find('div',class_='rankings-block__banner--nationality')\n",
    "t_name=soup7.find_all('span',class_=\"table-body__logo-text\")\n",
    "team=[]\n",
    "team.append(list2)\n",
    "for i in range(0,len(t_name)):\n",
    "        team.append(t_name[i])\n",
    "\n",
    "team_name=[]\n",
    "for i in team:\n",
    "    team_name.append(i.text.replace(\"\\n\",\"\"))\n",
    "team_name[:10]"
   ]
  },
  {
   "cell_type": "markdown",
   "metadata": {},
   "source": [
    "##### Rating"
   ]
  },
  {
   "cell_type": "code",
   "execution_count": 58,
   "metadata": {},
   "outputs": [
    {
     "data": {
      "text/plain": [
       "['737', '713', '708', '691', '690', '666', '665', '660', '646', '645']"
      ]
     },
     "execution_count": 58,
     "metadata": {},
     "output_type": "execute_result"
    }
   ],
   "source": [
    "list3=soup7.find('div',class_='rankings-block__banner--rating')\n",
    "rating=soup7.find_all('td',class_='table-body__cell rating')\n",
    "rate=[]\n",
    "rate.append(list3)\n",
    "for i in range(0,len(rating)):\n",
    "    rate.append(rating[i])\n",
    "Rating=[]\n",
    "for i in rate:\n",
    "    Rating.append(i.text.replace(\"\\n\",\"\"))\n",
    "Rating[:10]"
   ]
  },
  {
   "cell_type": "code",
   "execution_count": 59,
   "metadata": {},
   "outputs": [],
   "source": [
    "Player=pd.DataFrame({})\n",
    "Player['Player']=name[:10]\n",
    "Player['Team']=team_name[:10]\n",
    "Player['Rating']=Rating[:10]"
   ]
  },
  {
   "cell_type": "code",
   "execution_count": 60,
   "metadata": {},
   "outputs": [
    {
     "data": {
      "text/html": [
       "<div>\n",
       "<style scoped>\n",
       "    .dataframe tbody tr th:only-of-type {\n",
       "        vertical-align: middle;\n",
       "    }\n",
       "\n",
       "    .dataframe tbody tr th {\n",
       "        vertical-align: top;\n",
       "    }\n",
       "\n",
       "    .dataframe thead th {\n",
       "        text-align: right;\n",
       "    }\n",
       "</style>\n",
       "<table border=\"1\" class=\"dataframe\">\n",
       "  <thead>\n",
       "    <tr style=\"text-align: right;\">\n",
       "      <th></th>\n",
       "      <th>Player</th>\n",
       "      <th>Team</th>\n",
       "      <th>Rating</th>\n",
       "    </tr>\n",
       "  </thead>\n",
       "  <tbody>\n",
       "    <tr>\n",
       "      <th>1</th>\n",
       "      <td>Trent Boult</td>\n",
       "      <td>NZ</td>\n",
       "      <td>737</td>\n",
       "    </tr>\n",
       "    <tr>\n",
       "      <th>2</th>\n",
       "      <td>Mehedi Hasan</td>\n",
       "      <td>BAN</td>\n",
       "      <td>713</td>\n",
       "    </tr>\n",
       "    <tr>\n",
       "      <th>3</th>\n",
       "      <td>Mujeeb Ur Rahman</td>\n",
       "      <td>AFG</td>\n",
       "      <td>708</td>\n",
       "    </tr>\n",
       "    <tr>\n",
       "      <th>4</th>\n",
       "      <td>Matt Henry</td>\n",
       "      <td>NZ</td>\n",
       "      <td>691</td>\n",
       "    </tr>\n",
       "    <tr>\n",
       "      <th>5</th>\n",
       "      <td>Jasprit Bumrah</td>\n",
       "      <td>IND</td>\n",
       "      <td>690</td>\n",
       "    </tr>\n",
       "    <tr>\n",
       "      <th>6</th>\n",
       "      <td>Kagiso Rabada</td>\n",
       "      <td>SA</td>\n",
       "      <td>666</td>\n",
       "    </tr>\n",
       "    <tr>\n",
       "      <th>7</th>\n",
       "      <td>Chris Woakes</td>\n",
       "      <td>ENG</td>\n",
       "      <td>665</td>\n",
       "    </tr>\n",
       "    <tr>\n",
       "      <th>8</th>\n",
       "      <td>Josh Hazlewood</td>\n",
       "      <td>AUS</td>\n",
       "      <td>660</td>\n",
       "    </tr>\n",
       "    <tr>\n",
       "      <th>9</th>\n",
       "      <td>Pat Cummins</td>\n",
       "      <td>AUS</td>\n",
       "      <td>646</td>\n",
       "    </tr>\n",
       "    <tr>\n",
       "      <th>10</th>\n",
       "      <td>Mustafizur Rahman</td>\n",
       "      <td>BAN</td>\n",
       "      <td>645</td>\n",
       "    </tr>\n",
       "  </tbody>\n",
       "</table>\n",
       "</div>"
      ],
      "text/plain": [
       "               Player Team Rating\n",
       "1         Trent Boult   NZ    737\n",
       "2        Mehedi Hasan  BAN    713\n",
       "3    Mujeeb Ur Rahman  AFG    708\n",
       "4          Matt Henry   NZ    691\n",
       "5      Jasprit Bumrah  IND    690\n",
       "6       Kagiso Rabada   SA    666\n",
       "7        Chris Woakes  ENG    665\n",
       "8      Josh Hazlewood  AUS    660\n",
       "9         Pat Cummins  AUS    646\n",
       "10  Mustafizur Rahman  BAN    645"
      ]
     },
     "execution_count": 60,
     "metadata": {},
     "output_type": "execute_result"
    }
   ],
   "source": [
    "pos= pd.Index(range(1, 11, 1))\n",
    "Player = Player.set_index(pos)\n",
    "Player"
   ]
  },
  {
   "cell_type": "markdown",
   "metadata": {},
   "source": [
    "## 6. Program to scrape cricket rankings from ‘www.icc-cricket.com’."
   ]
  },
  {
   "cell_type": "markdown",
   "metadata": {},
   "source": [
    "#####  i) Top 10 ODI teams in women’s cricket along with the records for matches, points and rating."
   ]
  },
  {
   "cell_type": "code",
   "execution_count": 61,
   "metadata": {},
   "outputs": [],
   "source": [
    "page8= requests.get('https://www.icc-cricket.com/rankings/womens/team-rankings/odi')\n",
    "soup8= BeautifulSoup(page8.content,'html.parser')\n",
    "import re"
   ]
  },
  {
   "cell_type": "markdown",
   "metadata": {},
   "source": [
    "##### Team Name"
   ]
  },
  {
   "cell_type": "code",
   "execution_count": 62,
   "metadata": {},
   "outputs": [
    {
     "data": {
      "text/plain": [
       "['Australia',\n",
       " 'South Africa',\n",
       " 'England',\n",
       " 'India',\n",
       " 'New Zealand',\n",
       " 'West Indies',\n",
       " 'Pakistan',\n",
       " 'Bangladesh',\n",
       " 'Sri Lanka',\n",
       " 'Ireland']"
      ]
     },
     "execution_count": 62,
     "metadata": {},
     "output_type": "execute_result"
    }
   ],
   "source": [
    "Team=soup8.find_all('span',class_=\"u-hide-phablet\")\n",
    "team_review=[]\n",
    "for i in Team:\n",
    "    team_review.append(i.text.replace(\"\\n\",''))\n",
    "team_review[:10]"
   ]
  },
  {
   "cell_type": "markdown",
   "metadata": {},
   "source": [
    "##### matches & points"
   ]
  },
  {
   "cell_type": "code",
   "execution_count": 63,
   "metadata": {},
   "outputs": [],
   "source": [
    "new=soup8.find('td',class_='rankings-block__banner--matches')\n",
    "new2= soup8.find('td',class_='rankings-block__banner--points')\n",
    "new_list=soup8.find_all('td',class_=\"table-body__cell u-center-text\")\n",
    "\n",
    "#matches and points\n",
    "matches=[]\n",
    "points=[]\n",
    "matches.append(new)\n",
    "points.append(new2)\n",
    "for i in range(0,len(new_list)-1,2):\n",
    "    \n",
    "    matches.append(new_list[i]) \n",
    "    points.append(new_list[i+1]) \n"
   ]
  },
  {
   "cell_type": "code",
   "execution_count": 64,
   "metadata": {},
   "outputs": [
    {
     "data": {
      "text/plain": [
       "['18', '24', '17', '20', '21', '12', '15', '5', '11', '2']"
      ]
     },
     "execution_count": 64,
     "metadata": {},
     "output_type": "execute_result"
    }
   ],
   "source": [
    "#Matches\n",
    "match=[]\n",
    "for i in matches:\n",
    "    match.append(i.text.replace(\"\\n\",''))\n",
    "match[:10]"
   ]
  },
  {
   "cell_type": "code",
   "execution_count": 65,
   "metadata": {},
   "outputs": [
    {
     "data": {
      "text/plain": [
       "['2,955',\n",
       " '2,828',\n",
       " '1,993',\n",
       " '2,226',\n",
       " '1,947',\n",
       " '1,025',\n",
       " '1,101',\n",
       " '306',\n",
       " '519',\n",
       " '25']"
      ]
     },
     "execution_count": 65,
     "metadata": {},
     "output_type": "execute_result"
    }
   ],
   "source": [
    "#points\n",
    "point=[]\n",
    "for i in points:\n",
    "    point.append(i.text.replace(\"\\n\",''))\n",
    "point[:10]\n"
   ]
  },
  {
   "cell_type": "markdown",
   "metadata": {},
   "source": [
    "#####  Rating"
   ]
  },
  {
   "cell_type": "code",
   "execution_count": 66,
   "metadata": {},
   "outputs": [
    {
     "data": {
      "text/plain": [
       "['164', '118', '117', '111', '93', '85', '73', '61', '47', '13']"
      ]
     },
     "execution_count": 66,
     "metadata": {},
     "output_type": "execute_result"
    }
   ],
   "source": [
    "new3=soup8.find('td',class_='rankings-block__banner--rating u-text-right')\n",
    "rating=soup8.find_all('td',class_=\"table-body__cell u-text-right rating\")\n",
    "rate=[]\n",
    "rate.append(new3)\n",
    "for i in range(0,len(rating)):\n",
    "    rate.append(rating[i])\n",
    "rates=[]\n",
    "for i in rate:\n",
    "    rates.append(i.text.replace(\"\\n\",'').strip())\n",
    "rates[:10]"
   ]
  },
  {
   "cell_type": "code",
   "execution_count": 67,
   "metadata": {},
   "outputs": [],
   "source": [
    "Team=pd.DataFrame({})\n",
    "Team['Team']=team_review[:10]\n",
    "Team['Matches']=match[:10]\n",
    "Team['Points']=point[:10]\n",
    "Team['Rating']=rates[:10]"
   ]
  },
  {
   "cell_type": "code",
   "execution_count": 68,
   "metadata": {
    "scrolled": false
   },
   "outputs": [
    {
     "data": {
      "text/html": [
       "<div>\n",
       "<style scoped>\n",
       "    .dataframe tbody tr th:only-of-type {\n",
       "        vertical-align: middle;\n",
       "    }\n",
       "\n",
       "    .dataframe tbody tr th {\n",
       "        vertical-align: top;\n",
       "    }\n",
       "\n",
       "    .dataframe thead th {\n",
       "        text-align: right;\n",
       "    }\n",
       "</style>\n",
       "<table border=\"1\" class=\"dataframe\">\n",
       "  <thead>\n",
       "    <tr style=\"text-align: right;\">\n",
       "      <th></th>\n",
       "      <th>Team</th>\n",
       "      <th>Matches</th>\n",
       "      <th>Points</th>\n",
       "      <th>Rating</th>\n",
       "    </tr>\n",
       "  </thead>\n",
       "  <tbody>\n",
       "    <tr>\n",
       "      <th>1</th>\n",
       "      <td>Australia</td>\n",
       "      <td>18</td>\n",
       "      <td>2,955</td>\n",
       "      <td>164</td>\n",
       "    </tr>\n",
       "    <tr>\n",
       "      <th>2</th>\n",
       "      <td>South Africa</td>\n",
       "      <td>24</td>\n",
       "      <td>2,828</td>\n",
       "      <td>118</td>\n",
       "    </tr>\n",
       "    <tr>\n",
       "      <th>3</th>\n",
       "      <td>England</td>\n",
       "      <td>17</td>\n",
       "      <td>1,993</td>\n",
       "      <td>117</td>\n",
       "    </tr>\n",
       "    <tr>\n",
       "      <th>4</th>\n",
       "      <td>India</td>\n",
       "      <td>20</td>\n",
       "      <td>2,226</td>\n",
       "      <td>111</td>\n",
       "    </tr>\n",
       "    <tr>\n",
       "      <th>5</th>\n",
       "      <td>New Zealand</td>\n",
       "      <td>21</td>\n",
       "      <td>1,947</td>\n",
       "      <td>93</td>\n",
       "    </tr>\n",
       "    <tr>\n",
       "      <th>6</th>\n",
       "      <td>West Indies</td>\n",
       "      <td>12</td>\n",
       "      <td>1,025</td>\n",
       "      <td>85</td>\n",
       "    </tr>\n",
       "    <tr>\n",
       "      <th>7</th>\n",
       "      <td>Pakistan</td>\n",
       "      <td>15</td>\n",
       "      <td>1,101</td>\n",
       "      <td>73</td>\n",
       "    </tr>\n",
       "    <tr>\n",
       "      <th>8</th>\n",
       "      <td>Bangladesh</td>\n",
       "      <td>5</td>\n",
       "      <td>306</td>\n",
       "      <td>61</td>\n",
       "    </tr>\n",
       "    <tr>\n",
       "      <th>9</th>\n",
       "      <td>Sri Lanka</td>\n",
       "      <td>11</td>\n",
       "      <td>519</td>\n",
       "      <td>47</td>\n",
       "    </tr>\n",
       "    <tr>\n",
       "      <th>10</th>\n",
       "      <td>Ireland</td>\n",
       "      <td>2</td>\n",
       "      <td>25</td>\n",
       "      <td>13</td>\n",
       "    </tr>\n",
       "  </tbody>\n",
       "</table>\n",
       "</div>"
      ],
      "text/plain": [
       "            Team Matches Points Rating\n",
       "1      Australia      18  2,955    164\n",
       "2   South Africa      24  2,828    118\n",
       "3        England      17  1,993    117\n",
       "4          India      20  2,226    111\n",
       "5    New Zealand      21  1,947     93\n",
       "6    West Indies      12  1,025     85\n",
       "7       Pakistan      15  1,101     73\n",
       "8     Bangladesh       5    306     61\n",
       "9      Sri Lanka      11    519     47\n",
       "10       Ireland       2     25     13"
      ]
     },
     "execution_count": 68,
     "metadata": {},
     "output_type": "execute_result"
    }
   ],
   "source": [
    "pos= pd.Index(range(1, 11, 1))\n",
    "Team = Team.set_index(pos)\n",
    "Team"
   ]
  },
  {
   "cell_type": "markdown",
   "metadata": {},
   "source": [
    "#####  ii) Top 10 women’s ODI players along with the records of their team and rating."
   ]
  },
  {
   "cell_type": "code",
   "execution_count": 69,
   "metadata": {},
   "outputs": [],
   "source": [
    "page9= requests.get('https://www.icc-cricket.com/rankings/womens/player-rankings/odi/batting')\n",
    "soup9= BeautifulSoup(page9.content,'html.parser')\n",
    "import re"
   ]
  },
  {
   "cell_type": "markdown",
   "metadata": {},
   "source": [
    "#### Women's Players Name"
   ]
  },
  {
   "cell_type": "code",
   "execution_count": 70,
   "metadata": {},
   "outputs": [
    {
     "data": {
      "text/plain": [
       "['Tammy Beaumont',\n",
       " 'Lizelle Lee',\n",
       " 'Alyssa Healy',\n",
       " 'Stafanie Taylor',\n",
       " 'Meg Lanning',\n",
       " 'Amy Satterthwaite',\n",
       " 'Smriti Mandhana',\n",
       " 'Mithali Raj',\n",
       " 'Natalie Sciver',\n",
       " 'Laura Wolvaardt']"
      ]
     },
     "execution_count": 70,
     "metadata": {},
     "output_type": "execute_result"
    }
   ],
   "source": [
    "list1= soup9.find('div',class_='rankings-block__banner--name-large')\n",
    "p_name=soup9.find_all('td',class_=\"table-body__cell rankings-table__name name\")\n",
    "player=[]\n",
    "player.append(list1)\n",
    "for i in range(0,len(p_name)):\n",
    "        player.append(p_name[i])\n",
    "name=[]\n",
    "for i in player:\n",
    "      name.append(i.text.replace(\"\\n\",\"\"))\n",
    "name[:10]"
   ]
  },
  {
   "cell_type": "markdown",
   "metadata": {},
   "source": [
    "#### Women's player Team Name"
   ]
  },
  {
   "cell_type": "code",
   "execution_count": 71,
   "metadata": {},
   "outputs": [
    {
     "data": {
      "text/plain": [
       "['ENG', 'SA', 'AUS', 'WI', 'AUS', 'NZ', 'IND', 'IND', 'ENG', 'SA']"
      ]
     },
     "execution_count": 71,
     "metadata": {},
     "output_type": "execute_result"
    }
   ],
   "source": [
    "list2= soup9.find('div',class_='rankings-block__banner--nationality')\n",
    "t_name=soup9.find_all('span',class_=\"table-body__logo-text\")\n",
    "team=[]\n",
    "team.append(list2)\n",
    "for i in range(0,len(t_name)):\n",
    "        team.append(t_name[i])\n",
    "\n",
    "team_name=[]\n",
    "for i in team:\n",
    "    team_name.append(i.text.replace(\"\\n\",\"\"))\n",
    "team_name[:10]"
   ]
  },
  {
   "cell_type": "markdown",
   "metadata": {},
   "source": [
    "#### Women's Ratings"
   ]
  },
  {
   "cell_type": "code",
   "execution_count": 72,
   "metadata": {},
   "outputs": [
    {
     "data": {
      "text/plain": [
       "['765', '758', '756', '746', '723', '715', '710', '709', '685', '683']"
      ]
     },
     "execution_count": 72,
     "metadata": {},
     "output_type": "execute_result"
    }
   ],
   "source": [
    "list3=soup9.find('div',class_='rankings-block__banner--rating')\n",
    "rating=soup9.find_all('td',class_='table-body__cell rating')\n",
    "rate=[]\n",
    "rate.append(list3)\n",
    "for i in range(0,len(rating)):\n",
    "    rate.append(rating[i])\n",
    "Rating=[]\n",
    "for i in rate:\n",
    "    Rating.append(i.text.replace(\"\\n\",\"\"))\n",
    "Rating[:10]"
   ]
  },
  {
   "cell_type": "markdown",
   "metadata": {},
   "source": [
    "#### Dataframe"
   ]
  },
  {
   "cell_type": "code",
   "execution_count": 73,
   "metadata": {},
   "outputs": [],
   "source": [
    "Players=pd.DataFrame({})\n",
    "Players['Player']=name[:10]\n",
    "Players['Team']=team_name[:10]\n",
    "Players['Rating']=Rating[:10]"
   ]
  },
  {
   "cell_type": "code",
   "execution_count": 74,
   "metadata": {},
   "outputs": [
    {
     "data": {
      "text/html": [
       "<div>\n",
       "<style scoped>\n",
       "    .dataframe tbody tr th:only-of-type {\n",
       "        vertical-align: middle;\n",
       "    }\n",
       "\n",
       "    .dataframe tbody tr th {\n",
       "        vertical-align: top;\n",
       "    }\n",
       "\n",
       "    .dataframe thead th {\n",
       "        text-align: right;\n",
       "    }\n",
       "</style>\n",
       "<table border=\"1\" class=\"dataframe\">\n",
       "  <thead>\n",
       "    <tr style=\"text-align: right;\">\n",
       "      <th></th>\n",
       "      <th>Player</th>\n",
       "      <th>Team</th>\n",
       "      <th>Rating</th>\n",
       "    </tr>\n",
       "  </thead>\n",
       "  <tbody>\n",
       "    <tr>\n",
       "      <th>1</th>\n",
       "      <td>Tammy Beaumont</td>\n",
       "      <td>ENG</td>\n",
       "      <td>765</td>\n",
       "    </tr>\n",
       "    <tr>\n",
       "      <th>2</th>\n",
       "      <td>Lizelle Lee</td>\n",
       "      <td>SA</td>\n",
       "      <td>758</td>\n",
       "    </tr>\n",
       "    <tr>\n",
       "      <th>3</th>\n",
       "      <td>Alyssa Healy</td>\n",
       "      <td>AUS</td>\n",
       "      <td>756</td>\n",
       "    </tr>\n",
       "    <tr>\n",
       "      <th>4</th>\n",
       "      <td>Stafanie Taylor</td>\n",
       "      <td>WI</td>\n",
       "      <td>746</td>\n",
       "    </tr>\n",
       "    <tr>\n",
       "      <th>5</th>\n",
       "      <td>Meg Lanning</td>\n",
       "      <td>AUS</td>\n",
       "      <td>723</td>\n",
       "    </tr>\n",
       "    <tr>\n",
       "      <th>6</th>\n",
       "      <td>Amy Satterthwaite</td>\n",
       "      <td>NZ</td>\n",
       "      <td>715</td>\n",
       "    </tr>\n",
       "    <tr>\n",
       "      <th>7</th>\n",
       "      <td>Smriti Mandhana</td>\n",
       "      <td>IND</td>\n",
       "      <td>710</td>\n",
       "    </tr>\n",
       "    <tr>\n",
       "      <th>8</th>\n",
       "      <td>Mithali Raj</td>\n",
       "      <td>IND</td>\n",
       "      <td>709</td>\n",
       "    </tr>\n",
       "    <tr>\n",
       "      <th>9</th>\n",
       "      <td>Natalie Sciver</td>\n",
       "      <td>ENG</td>\n",
       "      <td>685</td>\n",
       "    </tr>\n",
       "    <tr>\n",
       "      <th>10</th>\n",
       "      <td>Laura Wolvaardt</td>\n",
       "      <td>SA</td>\n",
       "      <td>683</td>\n",
       "    </tr>\n",
       "  </tbody>\n",
       "</table>\n",
       "</div>"
      ],
      "text/plain": [
       "               Player Team Rating\n",
       "1      Tammy Beaumont  ENG    765\n",
       "2         Lizelle Lee   SA    758\n",
       "3        Alyssa Healy  AUS    756\n",
       "4     Stafanie Taylor   WI    746\n",
       "5         Meg Lanning  AUS    723\n",
       "6   Amy Satterthwaite   NZ    715\n",
       "7     Smriti Mandhana  IND    710\n",
       "8         Mithali Raj  IND    709\n",
       "9      Natalie Sciver  ENG    685\n",
       "10    Laura Wolvaardt   SA    683"
      ]
     },
     "execution_count": 74,
     "metadata": {},
     "output_type": "execute_result"
    }
   ],
   "source": [
    "pos= pd.Index(range(1, 11, 1))\n",
    "Players = Players.set_index(pos)\n",
    "Players"
   ]
  },
  {
   "cell_type": "markdown",
   "metadata": {},
   "source": [
    "#####  iii) Top 10 women’s ODI all-rounder along with the records of their team and rating"
   ]
  },
  {
   "cell_type": "code",
   "execution_count": 75,
   "metadata": {},
   "outputs": [],
   "source": [
    "page10= requests.get('https://www.icc-cricket.com/rankings/womens/player-rankings/odi/all-rounder')\n",
    "soup10= BeautifulSoup(page10.content,'html.parser')\n",
    "import re"
   ]
  },
  {
   "cell_type": "markdown",
   "metadata": {},
   "source": [
    "#### Women's Allrounder Players Name"
   ]
  },
  {
   "cell_type": "code",
   "execution_count": 76,
   "metadata": {},
   "outputs": [
    {
     "data": {
      "text/plain": [
       "['Marizanne Kapp',\n",
       " 'Ellyse Perry',\n",
       " 'Stafanie Taylor',\n",
       " 'Natalie Sciver',\n",
       " 'Deepti Sharma',\n",
       " 'Jess Jonassen',\n",
       " 'Ashleigh Gardner',\n",
       " 'Dane van Niekerk',\n",
       " 'Sophie Devine',\n",
       " 'Amelia Kerr']"
      ]
     },
     "execution_count": 76,
     "metadata": {},
     "output_type": "execute_result"
    }
   ],
   "source": [
    "list10= soup10.find('div',class_='rankings-block__banner--name-large')\n",
    "player_name=soup10.find_all('td',class_=\"table-body__cell rankings-table__name name\")\n",
    "name_allrounder=[]\n",
    "name_allrounder.append(list10)\n",
    "for i in range(0,len(player_name)):\n",
    "        name_allrounder.append(player_name[i])\n",
    "p_name=[]\n",
    "for i in name_allrounder:\n",
    "      p_name.append(i.text.replace(\"\\n\",\"\"))\n",
    "p_name[:10]"
   ]
  },
  {
   "cell_type": "markdown",
   "metadata": {},
   "source": [
    "#### Team Name"
   ]
  },
  {
   "cell_type": "code",
   "execution_count": 77,
   "metadata": {},
   "outputs": [
    {
     "data": {
      "text/plain": [
       "['SA', 'AUS', 'WI', 'ENG', 'IND', 'AUS', 'AUS', 'SA', 'NZ', 'NZ']"
      ]
     },
     "execution_count": 77,
     "metadata": {},
     "output_type": "execute_result"
    }
   ],
   "source": [
    "list12= soup10.find('div',class_='rankings-block__banner--nationality')\n",
    "team_name=soup10.find_all('span',class_=\"table-body__logo-text\")\n",
    "teams=[]\n",
    "teams.append(list12)\n",
    "for i in range(0,len(team_name)):\n",
    "        teams.append(team_name[i])\n",
    "\n",
    "name_team=[]\n",
    "for i in teams:\n",
    "    name_team.append(i.text.replace(\"\\n\",\"\"))\n",
    "name_team[:10]"
   ]
  },
  {
   "cell_type": "markdown",
   "metadata": {},
   "source": [
    "#### Player Ratings"
   ]
  },
  {
   "cell_type": "code",
   "execution_count": 78,
   "metadata": {},
   "outputs": [
    {
     "data": {
      "text/plain": [
       "['418', '418', '410', '349', '343', '307', '252', '243', '242', '236']"
      ]
     },
     "execution_count": 78,
     "metadata": {},
     "output_type": "execute_result"
    }
   ],
   "source": [
    "list13=soup10.find('div',class_='rankings-block__banner--rating')\n",
    "ratings=soup10.find_all('td',class_='table-body__cell rating')\n",
    "w_rate=[]\n",
    "w_rate.append(list13)\n",
    "for i in range(0,len(ratings)):\n",
    "    w_rate.append(ratings[i])\n",
    "Ratings=[]\n",
    "for i in w_rate:\n",
    "    Ratings.append(i.text.replace(\"\\n\",\"\"))\n",
    "Ratings[:10]"
   ]
  },
  {
   "cell_type": "markdown",
   "metadata": {},
   "source": [
    "#### Dataframe"
   ]
  },
  {
   "cell_type": "code",
   "execution_count": 79,
   "metadata": {},
   "outputs": [],
   "source": [
    "Women_df=pd.DataFrame({})\n",
    "Women_df['Player']=p_name[:10]\n",
    "Women_df['Team']=name_team[:10]\n",
    "Women_df['Rating']=Ratings[:10]"
   ]
  },
  {
   "cell_type": "code",
   "execution_count": 80,
   "metadata": {},
   "outputs": [
    {
     "data": {
      "text/html": [
       "<div>\n",
       "<style scoped>\n",
       "    .dataframe tbody tr th:only-of-type {\n",
       "        vertical-align: middle;\n",
       "    }\n",
       "\n",
       "    .dataframe tbody tr th {\n",
       "        vertical-align: top;\n",
       "    }\n",
       "\n",
       "    .dataframe thead th {\n",
       "        text-align: right;\n",
       "    }\n",
       "</style>\n",
       "<table border=\"1\" class=\"dataframe\">\n",
       "  <thead>\n",
       "    <tr style=\"text-align: right;\">\n",
       "      <th></th>\n",
       "      <th>Player</th>\n",
       "      <th>Team</th>\n",
       "      <th>Rating</th>\n",
       "    </tr>\n",
       "  </thead>\n",
       "  <tbody>\n",
       "    <tr>\n",
       "      <th>1</th>\n",
       "      <td>Marizanne Kapp</td>\n",
       "      <td>SA</td>\n",
       "      <td>418</td>\n",
       "    </tr>\n",
       "    <tr>\n",
       "      <th>2</th>\n",
       "      <td>Ellyse Perry</td>\n",
       "      <td>AUS</td>\n",
       "      <td>418</td>\n",
       "    </tr>\n",
       "    <tr>\n",
       "      <th>3</th>\n",
       "      <td>Stafanie Taylor</td>\n",
       "      <td>WI</td>\n",
       "      <td>410</td>\n",
       "    </tr>\n",
       "    <tr>\n",
       "      <th>4</th>\n",
       "      <td>Natalie Sciver</td>\n",
       "      <td>ENG</td>\n",
       "      <td>349</td>\n",
       "    </tr>\n",
       "    <tr>\n",
       "      <th>5</th>\n",
       "      <td>Deepti Sharma</td>\n",
       "      <td>IND</td>\n",
       "      <td>343</td>\n",
       "    </tr>\n",
       "    <tr>\n",
       "      <th>6</th>\n",
       "      <td>Jess Jonassen</td>\n",
       "      <td>AUS</td>\n",
       "      <td>307</td>\n",
       "    </tr>\n",
       "    <tr>\n",
       "      <th>7</th>\n",
       "      <td>Ashleigh Gardner</td>\n",
       "      <td>AUS</td>\n",
       "      <td>252</td>\n",
       "    </tr>\n",
       "    <tr>\n",
       "      <th>8</th>\n",
       "      <td>Dane van Niekerk</td>\n",
       "      <td>SA</td>\n",
       "      <td>243</td>\n",
       "    </tr>\n",
       "    <tr>\n",
       "      <th>9</th>\n",
       "      <td>Sophie Devine</td>\n",
       "      <td>NZ</td>\n",
       "      <td>242</td>\n",
       "    </tr>\n",
       "    <tr>\n",
       "      <th>10</th>\n",
       "      <td>Amelia Kerr</td>\n",
       "      <td>NZ</td>\n",
       "      <td>236</td>\n",
       "    </tr>\n",
       "  </tbody>\n",
       "</table>\n",
       "</div>"
      ],
      "text/plain": [
       "              Player Team Rating\n",
       "1     Marizanne Kapp   SA    418\n",
       "2       Ellyse Perry  AUS    418\n",
       "3    Stafanie Taylor   WI    410\n",
       "4     Natalie Sciver  ENG    349\n",
       "5      Deepti Sharma  IND    343\n",
       "6      Jess Jonassen  AUS    307\n",
       "7   Ashleigh Gardner  AUS    252\n",
       "8   Dane van Niekerk   SA    243\n",
       "9      Sophie Devine   NZ    242\n",
       "10       Amelia Kerr   NZ    236"
      ]
     },
     "execution_count": 80,
     "metadata": {},
     "output_type": "execute_result"
    }
   ],
   "source": [
    "pos= pd.Index(range(1, 11, 1))\n",
    "Women_df = Women_df.set_index(pos)\n",
    "Women_df"
   ]
  },
  {
   "cell_type": "markdown",
   "metadata": {},
   "source": [
    "# 7. Python program to scrape details of all the mobile phones under Rs. 20,000 listed on Amazon.in."
   ]
  },
  {
   "cell_type": "code",
   "execution_count": 92,
   "metadata": {},
   "outputs": [],
   "source": [
    "Page12=requests.get('https://www.amazon.in/Smartphones-Under-%E2%82%B920-000-Basic-Mobiles/s?rh=n%3A1805560031%2Cp_36%3A-2000000')\n",
    "soup12=BeautifulSoup(Page12.content,'html.parser')\n"
   ]
  },
  {
   "cell_type": "code",
   "execution_count": 93,
   "metadata": {},
   "outputs": [
    {
     "data": {
      "text/plain": [
       "<Response [200]>"
      ]
     },
     "execution_count": 93,
     "metadata": {},
     "output_type": "execute_result"
    }
   ],
   "source": [
    "Page12"
   ]
  },
  {
   "cell_type": "code",
   "execution_count": 94,
   "metadata": {
    "scrolled": true
   },
   "outputs": [
    {
     "data": {
      "text/plain": [
       "['Redmi Note 10 (Aqua Green, 4GB RAM, 64GB Storage)',\n",
       " 'Samsung Galaxy M31 (Ocean Blue, 6GB RAM, 128GB Storage)',\n",
       " 'Redmi Note 10 (Shadow Black, 4GB RAM, 64GB Storage) - Amoled Dot Display | 48MP Sony Sensor IMX582 | Snapdragon 678 Processor',\n",
       " 'Redmi Note 10 (Aqua Green, 6GB RAM, 128GB Storage) - Amoled Dot Display | 48MP Sony Sensor IMX582 | Snapdragon 678 Processor',\n",
       " 'Redmi 9 (Sky Blue, 4GB RAM, 64GB Storage)| 5000 mAh| 2.3GHz Mediatek Helio G35 Octa core Processor',\n",
       " 'Redmi Note 10 (Shadow Black, 6GB RAM, 128GB Storage)',\n",
       " 'Redmi Note 9 (Arctic White, 4GB RAM, 64GB Storage) - 48MP Quad Camera & Full HD+ Display',\n",
       " 'Samsung Galaxy M12 (Blue,4GB RAM, 64GB Storage) 6000 mAh with 8nm Processor | True 48 MP Quad Camera | 90Hz Refresh Rate',\n",
       " 'Redmi 9 Power (Blazing Blue, 4GB RAM, 64GB Storage) - 6000mAh Battery |FHD+ Screen| 48MP Quad Camera',\n",
       " 'Redmi Note 10 (Frost White, 4GB RAM, 64GB Storage) - Amoled Dot Display | 48MP Sony Sensor IMX582 | Snapdragon 678 Processor',\n",
       " 'Samsung Galaxy M11 (Metallic Blue, 4GB RAM, 64GB Storage) with No Cost EMI/Additional Exchange Offers',\n",
       " 'Redmi Note 9 (Pebble Grey, 4GB RAM 64GB Storage) - 48MP Quad Camera & Full HD+ Display',\n",
       " 'Redmi Note 10 Pro (Dark Night, 6GB RAM, 64GB Storage) -120Hz Super Amoled Display | 64MP with 5MP Super Tele-Macro',\n",
       " 'Oppo A31 (Fantasy White, 6GB RAM, 128GB Storage) with No Cost EMI/Additional Exchange Offers',\n",
       " 'Samsung Galaxy M21 (Midnight Blue, 4GB RAM, 64GB Storage)',\n",
       " 'Redmi 9 (Carbon Black, 4GB RAM, 64GB Storage) | 5000 mAh| 2.3GHz Mediatek Helio G35 Octa core Processor',\n",
       " 'Samsung Galaxy M12 (Black,4GB RAM, 64GB Storage) 6000 mAh with 8nm Processor | True 48 MP Quad Camera | 90Hz Refresh Rate',\n",
       " 'Redmi 9A (Sea Blue 2GB RAM 32GB Storage) | 2GHz Octa-core Helio G25 Processor | 5000 mAh Battery',\n",
       " 'Redmi Note 9 (Aqua Green, 4GB RAM, 64GB Storage) - 48MP Quad Camera & Full HD+ Display',\n",
       " 'Oppo A31 (Mystery Black, 6GB RAM, 128GB Storage) with No Cost EMI/Additional Exchange Offers',\n",
       " 'Redmi 9 Power (Mighty Black 4GB RAM 64GB Storage) - 6000mAh Battery |FHD+ Screen | 48MP Quad Camera',\n",
       " 'Redmi 9A (Nature Green, 2GB RAM, 32GB Storage) | 2GHz Octa-core Helio G25 Processor | 5000 mAh Battery',\n",
       " 'Samsung Galaxy M21 (Raven Black, 4GB RAM, 64GB Storage)',\n",
       " 'Samsung Galaxy M11 (Black, 4GB RAM, 64GB Storage) with No Cost EMI/Additional Exchange Offers']"
      ]
     },
     "execution_count": 94,
     "metadata": {},
     "output_type": "execute_result"
    }
   ],
   "source": [
    "mobile_name=soup12.find_all('span',class_=\"a-size-base-plus a-color-base a-text-normal\")\n",
    "name=[]\n",
    "\n",
    "for i in mobile_name:\n",
    "     name.append(i.text.replace(\"\\n\",''))\n",
    "name"
   ]
  },
  {
   "cell_type": "code",
   "execution_count": 95,
   "metadata": {
    "scrolled": true
   },
   "outputs": [
    {
     "data": {
      "text/plain": [
       "24"
      ]
     },
     "execution_count": 95,
     "metadata": {},
     "output_type": "execute_result"
    }
   ],
   "source": [
    "len(name)"
   ]
  },
  {
   "cell_type": "markdown",
   "metadata": {},
   "source": [
    "#### Price"
   ]
  },
  {
   "cell_type": "code",
   "execution_count": 96,
   "metadata": {
    "scrolled": true
   },
   "outputs": [
    {
     "data": {
      "text/plain": [
       "['12,499',\n",
       " '14,999',\n",
       " '12,499',\n",
       " '14,499',\n",
       " '8,799',\n",
       " '14,499',\n",
       " '10,999',\n",
       " '10,999',\n",
       " '10,499',\n",
       " '12,499',\n",
       " '8,999',\n",
       " '10,999',\n",
       " '15,999',\n",
       " '11,990',\n",
       " '12,499',\n",
       " '8,799',\n",
       " '10,999',\n",
       " '6,999',\n",
       " '10,999',\n",
       " '11,990',\n",
       " '10,499',\n",
       " '6,999',\n",
       " '12,499',\n",
       " '8,999']"
      ]
     },
     "execution_count": 96,
     "metadata": {},
     "output_type": "execute_result"
    }
   ],
   "source": [
    "mobile_price=soup12.find_all('span',class_=\"a-price-whole\")\n",
    "price=[]\n",
    "\n",
    "for i in mobile_price:\n",
    "     price.append(i.text.replace(\"\\n\",''))\n",
    "price"
   ]
  },
  {
   "cell_type": "code",
   "execution_count": 97,
   "metadata": {},
   "outputs": [
    {
     "data": {
      "text/plain": [
       "24"
      ]
     },
     "execution_count": 97,
     "metadata": {},
     "output_type": "execute_result"
    }
   ],
   "source": [
    "len(price)"
   ]
  },
  {
   "cell_type": "markdown",
   "metadata": {},
   "source": [
    "#### image url"
   ]
  },
  {
   "cell_type": "code",
   "execution_count": 98,
   "metadata": {},
   "outputs": [
    {
     "data": {
      "text/plain": [
       "['https://m.media-amazon.com/images/I/71OGzLCrjZS._AC_UL320_.jpg',\n",
       " 'https://m.media-amazon.com/images/I/71-Su4Wr0HL._AC_UL320_.jpg',\n",
       " 'https://m.media-amazon.com/images/I/71QY6JV6FhS._AC_UL320_.jpg',\n",
       " 'https://m.media-amazon.com/images/I/71-BcSc9rhS._AC_UL320_.jpg',\n",
       " 'https://m.media-amazon.com/images/I/71A9Vo1BatL._AC_UL320_.jpg',\n",
       " 'https://m.media-amazon.com/images/I/715t-uJnjMS._AC_UL320_.jpg',\n",
       " 'https://m.media-amazon.com/images/I/71X5I1cVfbL._AC_UL320_.jpg',\n",
       " 'https://m.media-amazon.com/images/I/71yYaNztZ0L._AC_UL320_.jpg',\n",
       " 'https://m.media-amazon.com/images/I/71hEzQGO5qL._AC_UL320_.jpg',\n",
       " 'https://m.media-amazon.com/images/I/71SSmaLA7xS._AC_UL320_.jpg',\n",
       " 'https://m.media-amazon.com/images/I/71GQUxuSpnS._AC_UL320_.jpg',\n",
       " 'https://m.media-amazon.com/images/I/71X5I1cVfbL._AC_UL320_.jpg',\n",
       " 'https://m.media-amazon.com/images/I/71hyDUT-n6S._AC_UL320_.jpg',\n",
       " 'https://m.media-amazon.com/images/I/61IhTtJUXJL._AC_UL320_.jpg',\n",
       " 'https://m.media-amazon.com/images/I/71dujTTJDZL._AC_UL320_.jpg',\n",
       " 'https://m.media-amazon.com/images/I/716nHhG9SWL._AC_UL320_.jpg',\n",
       " 'https://m.media-amazon.com/images/I/714QWDxXgNL._AC_UL320_.jpg',\n",
       " 'https://m.media-amazon.com/images/I/71sxlhYhKWL._AC_UL320_.jpg',\n",
       " 'https://m.media-amazon.com/images/I/71X5I1cVfbL._AC_UL320_.jpg',\n",
       " 'https://m.media-amazon.com/images/I/71KCwNV6MuL._AC_UL320_.jpg',\n",
       " 'https://m.media-amazon.com/images/I/71hEzQGO5qL._AC_UL320_.jpg',\n",
       " 'https://m.media-amazon.com/images/I/71sxlhYhKWL._AC_UL320_.jpg',\n",
       " 'https://m.media-amazon.com/images/I/71QLvGIAq5L._AC_UL320_.jpg',\n",
       " 'https://m.media-amazon.com/images/I/710jkZNub3S._AC_UL320_.jpg']"
      ]
     },
     "execution_count": 98,
     "metadata": {},
     "output_type": "execute_result"
    }
   ],
   "source": [
    "from urllib.request import urlopen\n",
    "\n",
    "html = urlopen('https://www.amazon.in/Smartphones-Under-%E2%82%B920-000-Basic-Mobiles/s?rh=n%3A1805560031%2Cp_36%3A-2000000')\n",
    "bs = BeautifulSoup(html, 'html.parser')\n",
    "images = bs.find_all('img', {'src':re.compile('.jpg'),'class':'s-image'})\n",
    "img_src=[]\n",
    "for image in images: \n",
    "    img_src.append(image['src'])\n",
    "img_src   \n"
   ]
  },
  {
   "cell_type": "code",
   "execution_count": 99,
   "metadata": {},
   "outputs": [
    {
     "data": {
      "text/plain": [
       "24"
      ]
     },
     "execution_count": 99,
     "metadata": {},
     "output_type": "execute_result"
    }
   ],
   "source": [
    "len(img_src)"
   ]
  },
  {
   "cell_type": "markdown",
   "metadata": {},
   "source": [
    "#####  Ratings"
   ]
  },
  {
   "cell_type": "code",
   "execution_count": 100,
   "metadata": {},
   "outputs": [
    {
     "data": {
      "text/plain": [
       "['4.1 out of 5 stars',\n",
       " '4.3 out of 5 stars',\n",
       " '4.1 out of 5 stars',\n",
       " '4.1 out of 5 stars',\n",
       " '4.2 out of 5 stars',\n",
       " '4.1 out of 5 stars',\n",
       " '4.3 out of 5 stars',\n",
       " '4.0 out of 5 stars',\n",
       " '4.2 out of 5 stars',\n",
       " '4.1 out of 5 stars',\n",
       " '4.2 out of 5 stars',\n",
       " '4.3 out of 5 stars',\n",
       " '4.1 out of 5 stars',\n",
       " '4.2 out of 5 stars',\n",
       " '4.2 out of 5 stars',\n",
       " '4.2 out of 5 stars',\n",
       " '4.0 out of 5 stars',\n",
       " '4.2 out of 5 stars',\n",
       " '4.3 out of 5 stars',\n",
       " '4.2 out of 5 stars',\n",
       " '4.2 out of 5 stars',\n",
       " '4.2 out of 5 stars',\n",
       " '4.2 out of 5 stars',\n",
       " '4.1 out of 5 stars']"
      ]
     },
     "execution_count": 100,
     "metadata": {},
     "output_type": "execute_result"
    }
   ],
   "source": [
    "mobile_ratings=soup12.find_all('a',class_=\"a-popover-trigger a-declarative\")\n",
    "ratings=[]\n",
    "\n",
    "for i in mobile_ratings:\n",
    "     ratings.append(i.text.replace(\"\\n\",''))\n",
    "ratings"
   ]
  },
  {
   "cell_type": "code",
   "execution_count": 101,
   "metadata": {
    "scrolled": true
   },
   "outputs": [
    {
     "data": {
      "text/plain": [
       "24"
      ]
     },
     "execution_count": 101,
     "metadata": {},
     "output_type": "execute_result"
    }
   ],
   "source": [
    "len(ratings)"
   ]
  },
  {
   "cell_type": "code",
   "execution_count": 102,
   "metadata": {},
   "outputs": [],
   "source": [
    "amz=pd.DataFrame({})\n",
    "amz['Mobile Name']=name\n",
    "amz['Price (in Rs)']=price\n",
    "amz['Image Url']=img_src\n",
    "amz['Ratings']=ratings"
   ]
  },
  {
   "cell_type": "code",
   "execution_count": 103,
   "metadata": {},
   "outputs": [
    {
     "data": {
      "text/html": [
       "<div>\n",
       "<style scoped>\n",
       "    .dataframe tbody tr th:only-of-type {\n",
       "        vertical-align: middle;\n",
       "    }\n",
       "\n",
       "    .dataframe tbody tr th {\n",
       "        vertical-align: top;\n",
       "    }\n",
       "\n",
       "    .dataframe thead th {\n",
       "        text-align: right;\n",
       "    }\n",
       "</style>\n",
       "<table border=\"1\" class=\"dataframe\">\n",
       "  <thead>\n",
       "    <tr style=\"text-align: right;\">\n",
       "      <th></th>\n",
       "      <th>Mobile Name</th>\n",
       "      <th>Price (in Rs)</th>\n",
       "      <th>Image Url</th>\n",
       "      <th>Ratings</th>\n",
       "    </tr>\n",
       "  </thead>\n",
       "  <tbody>\n",
       "    <tr>\n",
       "      <th>0</th>\n",
       "      <td>Redmi Note 10 (Aqua Green, 4GB RAM, 64GB Storage)</td>\n",
       "      <td>12,499</td>\n",
       "      <td>https://m.media-amazon.com/images/I/71OGzLCrjZ...</td>\n",
       "      <td>4.1 out of 5 stars</td>\n",
       "    </tr>\n",
       "    <tr>\n",
       "      <th>1</th>\n",
       "      <td>Samsung Galaxy M31 (Ocean Blue, 6GB RAM, 128GB...</td>\n",
       "      <td>14,999</td>\n",
       "      <td>https://m.media-amazon.com/images/I/71-Su4Wr0H...</td>\n",
       "      <td>4.3 out of 5 stars</td>\n",
       "    </tr>\n",
       "    <tr>\n",
       "      <th>2</th>\n",
       "      <td>Redmi Note 10 (Shadow Black, 4GB RAM, 64GB Sto...</td>\n",
       "      <td>12,499</td>\n",
       "      <td>https://m.media-amazon.com/images/I/71QY6JV6Fh...</td>\n",
       "      <td>4.1 out of 5 stars</td>\n",
       "    </tr>\n",
       "    <tr>\n",
       "      <th>3</th>\n",
       "      <td>Redmi Note 10 (Aqua Green, 6GB RAM, 128GB Stor...</td>\n",
       "      <td>14,499</td>\n",
       "      <td>https://m.media-amazon.com/images/I/71-BcSc9rh...</td>\n",
       "      <td>4.1 out of 5 stars</td>\n",
       "    </tr>\n",
       "    <tr>\n",
       "      <th>4</th>\n",
       "      <td>Redmi 9 (Sky Blue, 4GB RAM, 64GB Storage)| 500...</td>\n",
       "      <td>8,799</td>\n",
       "      <td>https://m.media-amazon.com/images/I/71A9Vo1Bat...</td>\n",
       "      <td>4.2 out of 5 stars</td>\n",
       "    </tr>\n",
       "    <tr>\n",
       "      <th>5</th>\n",
       "      <td>Redmi Note 10 (Shadow Black, 6GB RAM, 128GB St...</td>\n",
       "      <td>14,499</td>\n",
       "      <td>https://m.media-amazon.com/images/I/715t-uJnjM...</td>\n",
       "      <td>4.1 out of 5 stars</td>\n",
       "    </tr>\n",
       "    <tr>\n",
       "      <th>6</th>\n",
       "      <td>Redmi Note 9 (Arctic White, 4GB RAM, 64GB Stor...</td>\n",
       "      <td>10,999</td>\n",
       "      <td>https://m.media-amazon.com/images/I/71X5I1cVfb...</td>\n",
       "      <td>4.3 out of 5 stars</td>\n",
       "    </tr>\n",
       "    <tr>\n",
       "      <th>7</th>\n",
       "      <td>Samsung Galaxy M12 (Blue,4GB RAM, 64GB Storage...</td>\n",
       "      <td>10,999</td>\n",
       "      <td>https://m.media-amazon.com/images/I/71yYaNztZ0...</td>\n",
       "      <td>4.0 out of 5 stars</td>\n",
       "    </tr>\n",
       "    <tr>\n",
       "      <th>8</th>\n",
       "      <td>Redmi 9 Power (Blazing Blue, 4GB RAM, 64GB Sto...</td>\n",
       "      <td>10,499</td>\n",
       "      <td>https://m.media-amazon.com/images/I/71hEzQGO5q...</td>\n",
       "      <td>4.2 out of 5 stars</td>\n",
       "    </tr>\n",
       "    <tr>\n",
       "      <th>9</th>\n",
       "      <td>Redmi Note 10 (Frost White, 4GB RAM, 64GB Stor...</td>\n",
       "      <td>12,499</td>\n",
       "      <td>https://m.media-amazon.com/images/I/71SSmaLA7x...</td>\n",
       "      <td>4.1 out of 5 stars</td>\n",
       "    </tr>\n",
       "    <tr>\n",
       "      <th>10</th>\n",
       "      <td>Samsung Galaxy M11 (Metallic Blue, 4GB RAM, 64...</td>\n",
       "      <td>8,999</td>\n",
       "      <td>https://m.media-amazon.com/images/I/71GQUxuSpn...</td>\n",
       "      <td>4.2 out of 5 stars</td>\n",
       "    </tr>\n",
       "    <tr>\n",
       "      <th>11</th>\n",
       "      <td>Redmi Note 9 (Pebble Grey, 4GB RAM 64GB Storag...</td>\n",
       "      <td>10,999</td>\n",
       "      <td>https://m.media-amazon.com/images/I/71X5I1cVfb...</td>\n",
       "      <td>4.3 out of 5 stars</td>\n",
       "    </tr>\n",
       "    <tr>\n",
       "      <th>12</th>\n",
       "      <td>Redmi Note 10 Pro (Dark Night, 6GB RAM, 64GB S...</td>\n",
       "      <td>15,999</td>\n",
       "      <td>https://m.media-amazon.com/images/I/71hyDUT-n6...</td>\n",
       "      <td>4.1 out of 5 stars</td>\n",
       "    </tr>\n",
       "    <tr>\n",
       "      <th>13</th>\n",
       "      <td>Oppo A31 (Fantasy White, 6GB RAM, 128GB Storag...</td>\n",
       "      <td>11,990</td>\n",
       "      <td>https://m.media-amazon.com/images/I/61IhTtJUXJ...</td>\n",
       "      <td>4.2 out of 5 stars</td>\n",
       "    </tr>\n",
       "    <tr>\n",
       "      <th>14</th>\n",
       "      <td>Samsung Galaxy M21 (Midnight Blue, 4GB RAM, 64...</td>\n",
       "      <td>12,499</td>\n",
       "      <td>https://m.media-amazon.com/images/I/71dujTTJDZ...</td>\n",
       "      <td>4.2 out of 5 stars</td>\n",
       "    </tr>\n",
       "    <tr>\n",
       "      <th>15</th>\n",
       "      <td>Redmi 9 (Carbon Black, 4GB RAM, 64GB Storage) ...</td>\n",
       "      <td>8,799</td>\n",
       "      <td>https://m.media-amazon.com/images/I/716nHhG9SW...</td>\n",
       "      <td>4.2 out of 5 stars</td>\n",
       "    </tr>\n",
       "    <tr>\n",
       "      <th>16</th>\n",
       "      <td>Samsung Galaxy M12 (Black,4GB RAM, 64GB Storag...</td>\n",
       "      <td>10,999</td>\n",
       "      <td>https://m.media-amazon.com/images/I/714QWDxXgN...</td>\n",
       "      <td>4.0 out of 5 stars</td>\n",
       "    </tr>\n",
       "    <tr>\n",
       "      <th>17</th>\n",
       "      <td>Redmi 9A (Sea Blue 2GB RAM 32GB Storage) | 2GH...</td>\n",
       "      <td>6,999</td>\n",
       "      <td>https://m.media-amazon.com/images/I/71sxlhYhKW...</td>\n",
       "      <td>4.2 out of 5 stars</td>\n",
       "    </tr>\n",
       "    <tr>\n",
       "      <th>18</th>\n",
       "      <td>Redmi Note 9 (Aqua Green, 4GB RAM, 64GB Storag...</td>\n",
       "      <td>10,999</td>\n",
       "      <td>https://m.media-amazon.com/images/I/71X5I1cVfb...</td>\n",
       "      <td>4.3 out of 5 stars</td>\n",
       "    </tr>\n",
       "    <tr>\n",
       "      <th>19</th>\n",
       "      <td>Oppo A31 (Mystery Black, 6GB RAM, 128GB Storag...</td>\n",
       "      <td>11,990</td>\n",
       "      <td>https://m.media-amazon.com/images/I/71KCwNV6Mu...</td>\n",
       "      <td>4.2 out of 5 stars</td>\n",
       "    </tr>\n",
       "    <tr>\n",
       "      <th>20</th>\n",
       "      <td>Redmi 9 Power (Mighty Black 4GB RAM 64GB Stora...</td>\n",
       "      <td>10,499</td>\n",
       "      <td>https://m.media-amazon.com/images/I/71hEzQGO5q...</td>\n",
       "      <td>4.2 out of 5 stars</td>\n",
       "    </tr>\n",
       "    <tr>\n",
       "      <th>21</th>\n",
       "      <td>Redmi 9A (Nature Green, 2GB RAM, 32GB Storage)...</td>\n",
       "      <td>6,999</td>\n",
       "      <td>https://m.media-amazon.com/images/I/71sxlhYhKW...</td>\n",
       "      <td>4.2 out of 5 stars</td>\n",
       "    </tr>\n",
       "    <tr>\n",
       "      <th>22</th>\n",
       "      <td>Samsung Galaxy M21 (Raven Black, 4GB RAM, 64GB...</td>\n",
       "      <td>12,499</td>\n",
       "      <td>https://m.media-amazon.com/images/I/71QLvGIAq5...</td>\n",
       "      <td>4.2 out of 5 stars</td>\n",
       "    </tr>\n",
       "    <tr>\n",
       "      <th>23</th>\n",
       "      <td>Samsung Galaxy M11 (Black, 4GB RAM, 64GB Stora...</td>\n",
       "      <td>8,999</td>\n",
       "      <td>https://m.media-amazon.com/images/I/710jkZNub3...</td>\n",
       "      <td>4.1 out of 5 stars</td>\n",
       "    </tr>\n",
       "  </tbody>\n",
       "</table>\n",
       "</div>"
      ],
      "text/plain": [
       "                                          Mobile Name Price (in Rs)  \\\n",
       "0   Redmi Note 10 (Aqua Green, 4GB RAM, 64GB Storage)        12,499   \n",
       "1   Samsung Galaxy M31 (Ocean Blue, 6GB RAM, 128GB...        14,999   \n",
       "2   Redmi Note 10 (Shadow Black, 4GB RAM, 64GB Sto...        12,499   \n",
       "3   Redmi Note 10 (Aqua Green, 6GB RAM, 128GB Stor...        14,499   \n",
       "4   Redmi 9 (Sky Blue, 4GB RAM, 64GB Storage)| 500...         8,799   \n",
       "5   Redmi Note 10 (Shadow Black, 6GB RAM, 128GB St...        14,499   \n",
       "6   Redmi Note 9 (Arctic White, 4GB RAM, 64GB Stor...        10,999   \n",
       "7   Samsung Galaxy M12 (Blue,4GB RAM, 64GB Storage...        10,999   \n",
       "8   Redmi 9 Power (Blazing Blue, 4GB RAM, 64GB Sto...        10,499   \n",
       "9   Redmi Note 10 (Frost White, 4GB RAM, 64GB Stor...        12,499   \n",
       "10  Samsung Galaxy M11 (Metallic Blue, 4GB RAM, 64...         8,999   \n",
       "11  Redmi Note 9 (Pebble Grey, 4GB RAM 64GB Storag...        10,999   \n",
       "12  Redmi Note 10 Pro (Dark Night, 6GB RAM, 64GB S...        15,999   \n",
       "13  Oppo A31 (Fantasy White, 6GB RAM, 128GB Storag...        11,990   \n",
       "14  Samsung Galaxy M21 (Midnight Blue, 4GB RAM, 64...        12,499   \n",
       "15  Redmi 9 (Carbon Black, 4GB RAM, 64GB Storage) ...         8,799   \n",
       "16  Samsung Galaxy M12 (Black,4GB RAM, 64GB Storag...        10,999   \n",
       "17  Redmi 9A (Sea Blue 2GB RAM 32GB Storage) | 2GH...         6,999   \n",
       "18  Redmi Note 9 (Aqua Green, 4GB RAM, 64GB Storag...        10,999   \n",
       "19  Oppo A31 (Mystery Black, 6GB RAM, 128GB Storag...        11,990   \n",
       "20  Redmi 9 Power (Mighty Black 4GB RAM 64GB Stora...        10,499   \n",
       "21  Redmi 9A (Nature Green, 2GB RAM, 32GB Storage)...         6,999   \n",
       "22  Samsung Galaxy M21 (Raven Black, 4GB RAM, 64GB...        12,499   \n",
       "23  Samsung Galaxy M11 (Black, 4GB RAM, 64GB Stora...         8,999   \n",
       "\n",
       "                                            Image Url             Ratings  \n",
       "0   https://m.media-amazon.com/images/I/71OGzLCrjZ...  4.1 out of 5 stars  \n",
       "1   https://m.media-amazon.com/images/I/71-Su4Wr0H...  4.3 out of 5 stars  \n",
       "2   https://m.media-amazon.com/images/I/71QY6JV6Fh...  4.1 out of 5 stars  \n",
       "3   https://m.media-amazon.com/images/I/71-BcSc9rh...  4.1 out of 5 stars  \n",
       "4   https://m.media-amazon.com/images/I/71A9Vo1Bat...  4.2 out of 5 stars  \n",
       "5   https://m.media-amazon.com/images/I/715t-uJnjM...  4.1 out of 5 stars  \n",
       "6   https://m.media-amazon.com/images/I/71X5I1cVfb...  4.3 out of 5 stars  \n",
       "7   https://m.media-amazon.com/images/I/71yYaNztZ0...  4.0 out of 5 stars  \n",
       "8   https://m.media-amazon.com/images/I/71hEzQGO5q...  4.2 out of 5 stars  \n",
       "9   https://m.media-amazon.com/images/I/71SSmaLA7x...  4.1 out of 5 stars  \n",
       "10  https://m.media-amazon.com/images/I/71GQUxuSpn...  4.2 out of 5 stars  \n",
       "11  https://m.media-amazon.com/images/I/71X5I1cVfb...  4.3 out of 5 stars  \n",
       "12  https://m.media-amazon.com/images/I/71hyDUT-n6...  4.1 out of 5 stars  \n",
       "13  https://m.media-amazon.com/images/I/61IhTtJUXJ...  4.2 out of 5 stars  \n",
       "14  https://m.media-amazon.com/images/I/71dujTTJDZ...  4.2 out of 5 stars  \n",
       "15  https://m.media-amazon.com/images/I/716nHhG9SW...  4.2 out of 5 stars  \n",
       "16  https://m.media-amazon.com/images/I/714QWDxXgN...  4.0 out of 5 stars  \n",
       "17  https://m.media-amazon.com/images/I/71sxlhYhKW...  4.2 out of 5 stars  \n",
       "18  https://m.media-amazon.com/images/I/71X5I1cVfb...  4.3 out of 5 stars  \n",
       "19  https://m.media-amazon.com/images/I/71KCwNV6Mu...  4.2 out of 5 stars  \n",
       "20  https://m.media-amazon.com/images/I/71hEzQGO5q...  4.2 out of 5 stars  \n",
       "21  https://m.media-amazon.com/images/I/71sxlhYhKW...  4.2 out of 5 stars  \n",
       "22  https://m.media-amazon.com/images/I/71QLvGIAq5...  4.2 out of 5 stars  \n",
       "23  https://m.media-amazon.com/images/I/710jkZNub3...  4.1 out of 5 stars  "
      ]
     },
     "execution_count": 103,
     "metadata": {},
     "output_type": "execute_result"
    }
   ],
   "source": [
    "amz"
   ]
  },
  {
   "cell_type": "markdown",
   "metadata": {},
   "source": [
    "# 8. python program to extract information about the local weather from the National Weather Service website of USA"
   ]
  },
  {
   "cell_type": "code",
   "execution_count": 104,
   "metadata": {},
   "outputs": [],
   "source": [
    "Page14= requests.get('https://forecast.weather.gov/MapClick.php?lat=37.777120000000025&lon=-122.41963999999996')\n",
    "Soup14= BeautifulSoup(Page14.content,'html.parser')"
   ]
  },
  {
   "cell_type": "markdown",
   "metadata": {},
   "source": [
    "##### Period"
   ]
  },
  {
   "cell_type": "code",
   "execution_count": 105,
   "metadata": {},
   "outputs": [
    {
     "data": {
      "text/plain": [
       "['Tonight',\n",
       " 'Thursday',\n",
       " 'ThursdayNight',\n",
       " 'Friday',\n",
       " 'FridayNight',\n",
       " 'Saturday',\n",
       " 'SaturdayNight',\n",
       " 'Sunday',\n",
       " 'SundayNight']"
      ]
     },
     "execution_count": 105,
     "metadata": {},
     "output_type": "execute_result"
    }
   ],
   "source": [
    "period = Soup14.find_all('p',class_='period-name')\n",
    "pd_name =[]\n",
    "for i in period:\n",
    "    pd_name.append(i.text)\n",
    "pd_name"
   ]
  },
  {
   "cell_type": "markdown",
   "metadata": {},
   "source": [
    "##### Short Description"
   ]
  },
  {
   "cell_type": "code",
   "execution_count": 106,
   "metadata": {},
   "outputs": [
    {
     "data": {
      "text/plain": [
       "['Cloudy',\n",
       " 'Partly Sunny then Sunny and Breezy',\n",
       " 'Mostly Clear and Breezy then Partly Cloudy',\n",
       " 'Mostly Sunny then Sunny and Breezy',\n",
       " 'Mostly Clear and Breezy then Mostly Clear',\n",
       " 'Sunny',\n",
       " 'Mostly Clear',\n",
       " 'Sunny',\n",
       " 'Mostly Clear']"
      ]
     },
     "execution_count": 106,
     "metadata": {},
     "output_type": "execute_result"
    }
   ],
   "source": [
    "desc = Soup14.find_all('p',class_='short-desc')\n",
    "short_d=[]\n",
    "for i in desc:\n",
    "    short_d.append(i.get_text(\" \"))\n",
    "short_d"
   ]
  },
  {
   "cell_type": "markdown",
   "metadata": {},
   "source": [
    "##### Temperature"
   ]
  },
  {
   "cell_type": "code",
   "execution_count": 126,
   "metadata": {},
   "outputs": [
    {
     "data": {
      "text/plain": [
       "['Low: 53 °F',\n",
       " 'High: 68 °F',\n",
       " 'Low: 54 °F',\n",
       " 'High: 66 °F',\n",
       " 'Low: 52 °F',\n",
       " 'High: 69 °F',\n",
       " 'Low: 52 °F',\n",
       " 'High: 67 °F',\n",
       " 'Low: 52 °F']"
      ]
     },
     "execution_count": 126,
     "metadata": {},
     "output_type": "execute_result"
    }
   ],
   "source": [
    "Temp=[]\n",
    "\n",
    "for i in Soup14.find_all('p',class_=\"temp\"):\n",
    "\n",
    "    Temp.append(i.text)\n",
    "\n",
    "\n",
    "\n",
    "Temp"
   ]
  },
  {
   "cell_type": "markdown",
   "metadata": {},
   "source": [
    "##### Description"
   ]
  },
  {
   "cell_type": "code",
   "execution_count": 129,
   "metadata": {},
   "outputs": [
    {
     "data": {
      "text/plain": [
       "['Cloudy, with a low around 53. West southwest wind 15 to 20 mph decreasing to 9 to 14 mph after midnight. Winds could gust as high as 24 mph. ',\n",
       " 'Cloudy through mid morning, then gradual clearing, with a high near 68. Breezy, with a southwest wind 8 to 13 mph increasing to 18 to 23 mph in the afternoon. Winds could gust as high as 30 mph. ',\n",
       " 'Increasing clouds, with a low around 54. Breezy, with a west wind 18 to 23 mph, with gusts as high as 30 mph. ',\n",
       " 'Mostly sunny, with a high near 66. Breezy, with a west wind 20 to 28 mph, with gusts as high as 36 mph. ',\n",
       " 'Mostly clear, with a low around 52. Breezy, with a west wind 21 to 26 mph decreasing to 9 to 14 mph after midnight. Winds could gust as high as 34 mph. ',\n",
       " 'Sunny, with a high near 69.',\n",
       " 'Mostly clear, with a low around 52.',\n",
       " 'Sunny, with a high near 67.',\n",
       " 'Mostly clear, with a low around 52.',\n",
       " 'Sunny, with a high near 65.']"
      ]
     },
     "execution_count": 129,
     "metadata": {},
     "output_type": "execute_result"
    }
   ],
   "source": [
    "desr=[]\n",
    "\n",
    "for i in Soup14.find_all('div',class_=\"col-sm-10 forecast-text\"):\n",
    "\n",
    "    desr.append(i.text)\n",
    "\n",
    "\n",
    "\n",
    "desr[0:10]"
   ]
  },
  {
   "cell_type": "code",
   "execution_count": 130,
   "metadata": {},
   "outputs": [],
   "source": [
    "Weather=pd.DataFrame({})\n",
    "Weather['Period']=pd_name\n",
    "Weather['Short description']=short_d\n",
    "Weather['Temperature']=Temp\n",
    "Weather['Decription']=desr[0:9]"
   ]
  },
  {
   "cell_type": "code",
   "execution_count": 131,
   "metadata": {},
   "outputs": [
    {
     "data": {
      "text/html": [
       "<div>\n",
       "<style scoped>\n",
       "    .dataframe tbody tr th:only-of-type {\n",
       "        vertical-align: middle;\n",
       "    }\n",
       "\n",
       "    .dataframe tbody tr th {\n",
       "        vertical-align: top;\n",
       "    }\n",
       "\n",
       "    .dataframe thead th {\n",
       "        text-align: right;\n",
       "    }\n",
       "</style>\n",
       "<table border=\"1\" class=\"dataframe\">\n",
       "  <thead>\n",
       "    <tr style=\"text-align: right;\">\n",
       "      <th></th>\n",
       "      <th>Period</th>\n",
       "      <th>Short description</th>\n",
       "      <th>Temperature</th>\n",
       "      <th>Decription</th>\n",
       "    </tr>\n",
       "  </thead>\n",
       "  <tbody>\n",
       "    <tr>\n",
       "      <th>0</th>\n",
       "      <td>Tonight</td>\n",
       "      <td>Cloudy</td>\n",
       "      <td>Low: 53 °F</td>\n",
       "      <td>Cloudy, with a low around 53. West southwest w...</td>\n",
       "    </tr>\n",
       "    <tr>\n",
       "      <th>1</th>\n",
       "      <td>Thursday</td>\n",
       "      <td>Partly Sunny then Sunny and Breezy</td>\n",
       "      <td>High: 68 °F</td>\n",
       "      <td>Cloudy through mid morning, then gradual clear...</td>\n",
       "    </tr>\n",
       "    <tr>\n",
       "      <th>2</th>\n",
       "      <td>ThursdayNight</td>\n",
       "      <td>Mostly Clear and Breezy then Partly Cloudy</td>\n",
       "      <td>Low: 54 °F</td>\n",
       "      <td>Increasing clouds, with a low around 54. Breez...</td>\n",
       "    </tr>\n",
       "    <tr>\n",
       "      <th>3</th>\n",
       "      <td>Friday</td>\n",
       "      <td>Mostly Sunny then Sunny and Breezy</td>\n",
       "      <td>High: 66 °F</td>\n",
       "      <td>Mostly sunny, with a high near 66. Breezy, wit...</td>\n",
       "    </tr>\n",
       "    <tr>\n",
       "      <th>4</th>\n",
       "      <td>FridayNight</td>\n",
       "      <td>Mostly Clear and Breezy then Mostly Clear</td>\n",
       "      <td>Low: 52 °F</td>\n",
       "      <td>Mostly clear, with a low around 52. Breezy, wi...</td>\n",
       "    </tr>\n",
       "    <tr>\n",
       "      <th>5</th>\n",
       "      <td>Saturday</td>\n",
       "      <td>Sunny</td>\n",
       "      <td>High: 69 °F</td>\n",
       "      <td>Sunny, with a high near 69.</td>\n",
       "    </tr>\n",
       "    <tr>\n",
       "      <th>6</th>\n",
       "      <td>SaturdayNight</td>\n",
       "      <td>Mostly Clear</td>\n",
       "      <td>Low: 52 °F</td>\n",
       "      <td>Mostly clear, with a low around 52.</td>\n",
       "    </tr>\n",
       "    <tr>\n",
       "      <th>7</th>\n",
       "      <td>Sunday</td>\n",
       "      <td>Sunny</td>\n",
       "      <td>High: 67 °F</td>\n",
       "      <td>Sunny, with a high near 67.</td>\n",
       "    </tr>\n",
       "    <tr>\n",
       "      <th>8</th>\n",
       "      <td>SundayNight</td>\n",
       "      <td>Mostly Clear</td>\n",
       "      <td>Low: 52 °F</td>\n",
       "      <td>Mostly clear, with a low around 52.</td>\n",
       "    </tr>\n",
       "  </tbody>\n",
       "</table>\n",
       "</div>"
      ],
      "text/plain": [
       "          Period                           Short description  Temperature  \\\n",
       "0        Tonight                                      Cloudy   Low: 53 °F   \n",
       "1       Thursday          Partly Sunny then Sunny and Breezy  High: 68 °F   \n",
       "2  ThursdayNight  Mostly Clear and Breezy then Partly Cloudy   Low: 54 °F   \n",
       "3         Friday          Mostly Sunny then Sunny and Breezy  High: 66 °F   \n",
       "4    FridayNight   Mostly Clear and Breezy then Mostly Clear   Low: 52 °F   \n",
       "5       Saturday                                       Sunny  High: 69 °F   \n",
       "6  SaturdayNight                                Mostly Clear   Low: 52 °F   \n",
       "7         Sunday                                       Sunny  High: 67 °F   \n",
       "8    SundayNight                                Mostly Clear   Low: 52 °F   \n",
       "\n",
       "                                          Decription  \n",
       "0  Cloudy, with a low around 53. West southwest w...  \n",
       "1  Cloudy through mid morning, then gradual clear...  \n",
       "2  Increasing clouds, with a low around 54. Breez...  \n",
       "3  Mostly sunny, with a high near 66. Breezy, wit...  \n",
       "4  Mostly clear, with a low around 52. Breezy, wi...  \n",
       "5                        Sunny, with a high near 69.  \n",
       "6                Mostly clear, with a low around 52.  \n",
       "7                        Sunny, with a high near 67.  \n",
       "8                Mostly clear, with a low around 52.  "
      ]
     },
     "execution_count": 131,
     "metadata": {},
     "output_type": "execute_result"
    }
   ],
   "source": [
    "Weather"
   ]
  },
  {
   "cell_type": "code",
   "execution_count": null,
   "metadata": {},
   "outputs": [],
   "source": []
  }
 ],
 "metadata": {
  "kernelspec": {
   "display_name": "Python 3",
   "language": "python",
   "name": "python3"
  }
 },
 "nbformat": 4,
 "nbformat_minor": 4
}
